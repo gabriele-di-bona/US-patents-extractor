{
 "cells": [
  {
   "cell_type": "code",
   "execution_count": 1,
   "id": "95ccec58-6598-489c-a7cd-dcaed9867380",
   "metadata": {},
   "outputs": [],
   "source": [
    "import gzip\n",
    "import pickle\n",
    "import os\n",
    "os.chdir(\"../\")"
   ]
  },
  {
   "cell_type": "code",
   "execution_count": 4,
   "id": "cbe3c806-8fc5-4a8b-8bec-18e82e1ad288",
   "metadata": {},
   "outputs": [],
   "source": [
    "# Define all folder paths\n",
    "root_folder = './'\n",
    "bulk_data_folder = os.path.join(root_folder, 'bulk_data/')\n",
    "extracted_dict_folder = os.path.join(root_folder, 'extracted_data/')"
   ]
  },
  {
   "cell_type": "code",
   "execution_count": 13,
   "id": "b69accfd-f030-4c8b-b156-06ae68feff37",
   "metadata": {},
   "outputs": [
    {
     "name": "stdout",
     "output_type": "stream",
     "text": [
      "['pftaps19950502_wk18.pkl.gz']\n"
     ]
    }
   ],
   "source": [
    "extracted_paths = [path for path in os.listdir(extracted_dict_folder) if path[-3:] == '.gz']\n",
    "print(extracted_paths)"
   ]
  },
  {
   "cell_type": "code",
   "execution_count": 14,
   "id": "cee463a9-fb5e-4dd3-9efc-59fc8b4e64bd",
   "metadata": {},
   "outputs": [
    {
     "name": "stdout",
     "output_type": "stream",
     "text": [
      "[]\n"
     ]
    }
   ],
   "source": [
    "extracted_paths_errors = [path for path in os.listdir(extracted_dict_folder) if path[-4:] == '.txt']\n",
    "print(extracted_paths_errors)"
   ]
  },
  {
   "cell_type": "code",
   "execution_count": 7,
   "id": "7f83d6fb-825b-4dc7-a500-5b1debf7e51f",
   "metadata": {},
   "outputs": [],
   "source": [
    "archive_path_name = extracted_paths[0]\n",
    "with gzip.open(os.path.join(extracted_dict_folder, archive_path_name), 'rb') as fp:\n",
    "    patents = pickle.load(fp)"
   ]
  },
  {
   "cell_type": "code",
   "execution_count": 16,
   "id": "6fdaedd6-961d-4779-9566-a7ee7f9d7c1a",
   "metadata": {},
   "outputs": [
    {
     "data": {
      "text/plain": [
       "1061"
      ]
     },
     "execution_count": 16,
     "metadata": {},
     "output_type": "execute_result"
    }
   ],
   "source": [
    "len(patents)"
   ]
  },
  {
   "cell_type": "code",
   "execution_count": 12,
   "id": "89fedb8a-d6a5-4f97-8da3-f8f1dee386b4",
   "metadata": {},
   "outputs": [
    {
     "data": {
      "text/plain": [
       "{'uid': 'D0357791',\n",
       " 'kind': 'Design',\n",
       " 'app_date': '19940504',\n",
       " 'title': 'Seat belt protector',\n",
       " 'grant_date': '19950502',\n",
       " 'inventors': ['Granda; Nelson F.'],\n",
       " 'US_main_class': 'D 2639',\n",
       " 'citations': ['D287881',\n",
       "  'D308287',\n",
       "  'D331835',\n",
       "  'D332864',\n",
       "  'D338552',\n",
       "  'D343284',\n",
       "  '3291528',\n",
       "  '3482569',\n",
       "  '4693495',\n",
       "  '4741574',\n",
       "  '4786080'],\n",
       " 'abstract': '',\n",
       " 'language_title': '',\n",
       " 'IPC_main_class': '',\n",
       " 'IPC_edition': '',\n",
       " 'US_edition': '',\n",
       " 'IPC_further_classes': [],\n",
       " 'US_further_classes': [],\n",
       " 'keywords': [],\n",
       " 'year': 1995}"
      ]
     },
     "execution_count": 12,
     "metadata": {},
     "output_type": "execute_result"
    }
   ],
   "source": [
    "patents[0]"
   ]
  },
  {
   "cell_type": "code",
   "execution_count": 15,
   "id": "3b7f4a1d-0573-4a6c-857a-1f195e3b9eb2",
   "metadata": {},
   "outputs": [
    {
     "data": {
      "text/plain": [
       "{'uid': '5411509',\n",
       " 'kind': 'Utility',\n",
       " 'app_date': '19920930',\n",
       " 'title': 'Embolectomy catheter',\n",
       " 'grant_date': '19950502',\n",
       " 'inventors': ['Hilal; Said'],\n",
       " 'US_main_class': '606159',\n",
       " 'US_further_classes': '604267',\n",
       " 'US_edition': '6',\n",
       " 'IPC_main_class': 'A61B 1000',\n",
       " 'IPC_further_classes': [],\n",
       " 'citations': ['2490168',\n",
       "  '3640282',\n",
       "  '3799173',\n",
       "  '3877464',\n",
       "  '3896815',\n",
       "  '3978863',\n",
       "  '3996938',\n",
       "  '4735214',\n",
       "  '4877037',\n",
       "  '4886493',\n",
       "  '4890612',\n",
       "  '4968298',\n",
       "  '5011488',\n",
       "  '5085633',\n",
       "  '5192290',\n",
       "  '3519626',\n",
       "  '0395075'],\n",
       " 'abstract': 'An improved embolectomy catheter, includes a catheter body, an elastomeric foam catheter tip attached at one end of the catheter body, and actuator means for elastically deforming the catheter tip. The catheter tip deforms longitudinally and radially in response to activation of the actuation means. The catheter tip may be formed of any type of sterile elastomeric foam, which may be easily compressed and restored to its original shape upon decompression.',\n",
       " 'language_title': '',\n",
       " 'IPC_edition': '',\n",
       " 'keywords': [],\n",
       " 'year': 1995}"
      ]
     },
     "execution_count": 15,
     "metadata": {},
     "output_type": "execute_result"
    }
   ],
   "source": [
    "patents[1000]"
   ]
  },
  {
   "cell_type": "markdown",
   "id": "187aac5a-1859-48d3-b8ba-794890ad64fc",
   "metadata": {},
   "source": [
    "# Solving problems...\n",
    "## pftaps19871103_wk44.txt and pftaps19871110_wk45.txt"
   ]
  },
  {
   "cell_type": "code",
   "execution_count": 2,
   "id": "aa8a12aa-14b6-49bc-8448-d70251b53eca",
   "metadata": {},
   "outputs": [],
   "source": [
    "import os\n",
    "from datetime import datetime\n",
    "import argparse\n",
    "import zipfile\n",
    "import pickle\n",
    "import gzip"
   ]
  },
  {
   "cell_type": "code",
   "execution_count": 3,
   "id": "0a64629e-336b-4b15-a943-f6a797e5ed31",
   "metadata": {},
   "outputs": [],
   "source": [
    "# Change directory to the root of the folder (this script was launched from the subfolder python_scripts)\n",
    "# All utils presuppose that we are working from the root directory of the github folder\n",
    "# os.chdir(\"../\")\n",
    "import sys\n",
    "# Add utils directory in the list of directories to look for packages to import\n",
    "sys.path.insert(0, os.path.join(os.getcwd(),'utils'))\n",
    "sys.path.insert(0, os.path.join(os.getcwd(),'utils', 'extraction'))\n",
    "\n",
    "# local utils\n",
    "from parsing import *\n",
    "\n",
    "\n",
    "def import_file(file_path = None, file_object = None, use_default_folder = True, use_as_name_archive = True, year = None, bulk_data_folder='./bulk_data/'):\n",
    "    if file_path is None:\n",
    "        print('No file_path provided, try again.')\n",
    "        return None\n",
    "    if file_object is None:\n",
    "        if use_as_name_archive == False:\n",
    "            name_archive = file_path.split('/')[-1]\n",
    "        else:\n",
    "            name_archive = file_path\n",
    "        if '.' in file_path:\n",
    "            name_archive = name_archive.split('.')[-2]\n",
    "        if use_as_name_archive == True:\n",
    "            file_path = os.path.join(bulk_data_folder,f'{name_archive}.zip')\n",
    "        archive = zipfile.ZipFile(file_path, 'r')\n",
    "        for filename in archive.namelist():\n",
    "            file_object = archive.open(f'{filename}', mode='r')\n",
    "    else:\n",
    "        if use_as_name_archive == False:\n",
    "            name_archive = file_path.split('/')[-1]\n",
    "        else:\n",
    "            name_archive = file_path\n",
    "        if '.' in file_path:\n",
    "            name_archive = name_archive.split('.')[-2]\n",
    "    print('importing file '+str(name_archive))\n",
    "\n",
    "    data = parse_file(f=file_path,file_object=file_object, year=year)\n",
    "\n",
    "    return data"
   ]
  },
  {
   "cell_type": "code",
   "execution_count": 6,
   "id": "655d21a7-1f42-4268-9ad3-d9352a7bd649",
   "metadata": {},
   "outputs": [
    {
     "name": "stdout",
     "output_type": "stream",
     "text": [
      "Started script at 2022-09-20 20:26:33.137670\n",
      "Requested path n. 2 out of 2, that is\n",
      "\t./bulk_data2/pftaps19871110_wk45.zip\n"
     ]
    }
   ],
   "source": [
    "########################### MAIN ###########################\n",
    "\n",
    "start_time = datetime.now()\n",
    "print(f\"Started script at {start_time}\", flush = True)\n",
    "\n",
    "\n",
    "index_archive = 2\n",
    "\n",
    "\n",
    "# Define all folder paths\n",
    "root_folder = './'\n",
    "bulk_data_folder = os.path.join(root_folder, 'bulk_data2/') # TODO\n",
    "extracted_data_folder = os.path.join(root_folder, 'extracted_data/')\n",
    "os.makedirs(extracted_data_folder, exist_ok = True)\n",
    "\n",
    "\n",
    "# NB: archives are all .zip\n",
    "archive_paths = sorted([path for path in os.listdir(bulk_data_folder) if path[-4:] == \".zip\"])\n",
    "path = archive_paths[index_archive - 1] # So that the argument index_archive from shell go from 1 to len(archives)\n",
    "print('Requested path n. %d out of %d, that is\\n\\t%s'%(index_archive,len(archive_paths), os.path.join(bulk_data_folder,path)), flush=True)"
   ]
  },
  {
   "cell_type": "code",
   "execution_count": 7,
   "id": "5f511cf7-9843-456b-9ef6-0aa97da70569",
   "metadata": {},
   "outputs": [
    {
     "name": "stdout",
     "output_type": "stream",
     "text": [
      "Opening pftaps19871110_wk45.txt\n",
      "importing file pftaps19871110_wk45\n",
      "FOUND ERROR IN PATENT\n",
      "{'uid': '4705030', 'kind': 'Utility', 'app_date': '19870217', 'title': 'Hand augmenting spinal manipulator encircling the hand', 'grant_date': '19871110', 'inventors': ['Tepperberg; Phillip S.'], 'US_main_class': '128 69', 'US_further_classes': ['128 61', '128 67', 'D24 36'], 'US_edition': '4', 'IPC_main_class': 'A61H  700', 'IPC_further_classes': ['A61F  500', 'A61F  501'], 'citations': ['D275607', '726054', '1342597', '2026332', '2063818', '2159654', '2450935', '2854971', '4126129', '4230099', '4350152', '4454868', '4483328', '4498464', '4590926', '4611581', '4029973', '4039862', '344528', '7504998', '361599', '118326', '150955', '122222', '216327']}\n",
      "ABSTRACT\n",
      "[{'PAL': \"A device for treatment of anterior displacement of the vertebrae fits over the hand of the chiropractor. A groovein a first surface fits over the spinous processes and ridges parallel to the groove engage the transverse processes of the patient's vertebrae. The device is positioned immediately below the displaced vertebra and the patient is thrust backward. A second surface of the device engages the treatment table and arrests the backward motion of the normal vertebrae. The anteriorly displaced vertebra continues its backward motion, moving back into alignment with its neighbors. This manipulation is ordinarily performed against the chiropractor's bare hand. This device protects the hand from injury and enhances the performance of the treatment.\"}, {'PAL': 'A high frequency CMOS voltage level shifter providing either an inverted or noninverted signal output shifted in voltage level from an input signal. The level shifter includes two pairs of metal oxide semiconductor transistors with the transistors of each pair connected together and respectively connected to a first and second voltage source. The gates of a transistor in each pair are cross connected to the interconnected drains of the opposing transistor pair. First and second conducting elements are respectively connected to the cross connected transistor gates to discharge a transient capacitive gate charge present during output signal voltage level shifting.'}]\n",
      "FOUND ERROR IN PATENT\n",
      "{'uid': '4705229', 'kind': 'Utility', 'app_date': '19850827', 'title': 'Compact apparatus for laying paving fabric', 'grant_date': '19871110', 'inventors': ['Barazone; Mounque'], 'citations': ['2258205', '3632054', '3913854', '4010859', '4148399', '4456399', '4518299', '3914691', '4021738', '4089061', '4127874', '4191853', '4285006', '4330861', '4359778', '4374400', '4389623', '4542408', '4571720', '4584583']}\n",
      "ABSTRACT\n",
      "[{'PAL': 'A device for supporting a roll of material to a vehicle including a pair of arms pivotally attached to a frame. The roll supporting device includes a winch attached to the frame and a pulley attached to each arm. A pair of pulleys on the frame guide a winch cable from the winch to the pulley on each of the arms.'}, {'PAL': 'An adaptive television deghosting system operates on modulated video signals including a direct signal component and one or more ghost signal components. The system uses synchronously demodulated in-phase and quadrature-phase baseband video signals as the respective real and imaginary input signals to a complex IIR filter. The filter coefficients are developed adaptively from preset initial values using the signals provided by the filter during a training interval. The training interval includes the interval between the leading edge of the vertical sync pulse and the first serration pulse of each field. The filtered training signals are subtracted from a sync-tip reference value to develop a signal which is proportional to the error in the filter coefficient values. The error signal values corresponding to ghost signals are multiplied by the complex conjugate of the training signal values which represent the analogous sampling points of the direct signal. The values produced by this multiplication operation are scaled by an adaptation constant and accumulated to produce the filter coefficients which are used to cancel the ghost signals.'}]\n",
      "FOUND 755 PATENTS.\n"
     ]
    },
    {
     "ename": "NameError",
     "evalue": "name 'joblib' is not defined",
     "output_type": "error",
     "traceback": [
      "\u001b[0;31m---------------------------------------------------------------------------\u001b[0m",
      "\u001b[0;31mNameError\u001b[0m                                 Traceback (most recent call last)",
      "Input \u001b[0;32mIn [7]\u001b[0m, in \u001b[0;36m<cell line: 25>\u001b[0;34m()\u001b[0m\n\u001b[1;32m     23\u001b[0m \u001b[38;5;28mprint\u001b[39m(\u001b[38;5;124mf\u001b[39m\u001b[38;5;124m\"\u001b[39m\u001b[38;5;124mFOUND \u001b[39m\u001b[38;5;132;01m{\u001b[39;00m\u001b[38;5;28mlen\u001b[39m(patents)\u001b[38;5;132;01m}\u001b[39;00m\u001b[38;5;124m PATENTS.\u001b[39m\u001b[38;5;124m\"\u001b[39m, flush\u001b[38;5;241m=\u001b[39m\u001b[38;5;28;01mTrue\u001b[39;00m)\n\u001b[1;32m     25\u001b[0m \u001b[38;5;28;01mwith\u001b[39;00m gzip\u001b[38;5;241m.\u001b[39mopen(os\u001b[38;5;241m.\u001b[39mpath\u001b[38;5;241m.\u001b[39mjoin(extracted_data_folder, \u001b[38;5;124mf\u001b[39m\u001b[38;5;124m'\u001b[39m\u001b[38;5;132;01m{\u001b[39;00mname_archive\u001b[38;5;132;01m}\u001b[39;00m\u001b[38;5;124m.pkl.gz\u001b[39m\u001b[38;5;124m'\u001b[39m), \u001b[38;5;124m'\u001b[39m\u001b[38;5;124mwb\u001b[39m\u001b[38;5;124m'\u001b[39m) \u001b[38;5;28;01mas\u001b[39;00m fp:\n\u001b[0;32m---> 26\u001b[0m     \u001b[43mjoblib\u001b[49m\u001b[38;5;241m.\u001b[39mdump(patents, fp)\n\u001b[1;32m     28\u001b[0m \u001b[38;5;28mprint\u001b[39m(\u001b[38;5;124m'\u001b[39m\u001b[38;5;124mAll dumped\u001b[39m\u001b[38;5;124m'\u001b[39m, flush\u001b[38;5;241m=\u001b[39m\u001b[38;5;28;01mTrue\u001b[39;00m)\n\u001b[1;32m     29\u001b[0m \u001b[38;5;28mprint\u001b[39m(\u001b[38;5;124mf\u001b[39m\u001b[38;5;124m'\u001b[39m\u001b[38;5;124mScript time: \u001b[39m\u001b[38;5;132;01m{\u001b[39;00mdatetime\u001b[38;5;241m.\u001b[39mnow() \u001b[38;5;241m-\u001b[39m start_time\u001b[38;5;132;01m}\u001b[39;00m\u001b[38;5;124m'\u001b[39m, flush\u001b[38;5;241m=\u001b[39m\u001b[38;5;28;01mTrue\u001b[39;00m)\n",
      "\u001b[0;31mNameError\u001b[0m: name 'joblib' is not defined"
     ]
    }
   ],
   "source": [
    "name_archive = path[:-4] # cutting the '.zip' string\n",
    "archive = zipfile.ZipFile(os.path.join(bulk_data_folder,f'{name_archive}.zip'), 'r')\n",
    "if len(archive.namelist()) > 1:\n",
    "    print('There are more than 1 element inside the archive, which one should I choose? Here they are.', flush=True)\n",
    "    print(archive.namelist(), flush=True)\n",
    "    with open(os.path.join(extracted_data_folder, f'ERROR_{name_archive}_more_than_1_element.txt'), 'w') as fp:\n",
    "        fp.writelines(archive.namelist())\n",
    "    print(f'Exiting at {datetime.now()}...', flush=True)\n",
    "    exit()\n",
    "\n",
    "for unzipped_file_path in archive.namelist():\n",
    "    print('Opening',unzipped_file_path)\n",
    "    file_name = unzipped_file_path.split('/')[-1]\n",
    "    file_object = archive.open(f'{unzipped_file_path}', mode='r')\n",
    "    patents = import_file(\n",
    "        file_path=unzipped_file_path,\n",
    "        file_object=file_object, \n",
    "        year=None,\n",
    "        use_as_name_archive = False,\n",
    "        bulk_data_folder = bulk_data_folder\n",
    "    )\n",
    "\n",
    "print(f\"FOUND {len(patents)} PATENTS.\", flush=True)\n",
    "\n",
    "with gzip.open(os.path.join(extracted_data_folder, f'{name_archive}.pkl.gz'), 'wb') as fp:\n",
    "    joblib.dump(patents, fp)\n",
    "\n",
    "print('All dumped', flush=True)\n",
    "print(f'Script time: {datetime.now() - start_time}', flush=True)\n",
    "print(f'Exiting script at {datetime.now()}', flush=True)\n"
   ]
  },
  {
   "cell_type": "code",
   "execution_count": null,
   "id": "e3f135dc-048b-4728-a08f-2deec0271af3",
   "metadata": {},
   "outputs": [],
   "source": []
  }
 ],
 "metadata": {
  "kernelspec": {
   "display_name": "Python 3 (ipykernel)",
   "language": "python",
   "name": "python3"
  },
  "language_info": {
   "codemirror_mode": {
    "name": "ipython",
    "version": 3
   },
   "file_extension": ".py",
   "mimetype": "text/x-python",
   "name": "python",
   "nbconvert_exporter": "python",
   "pygments_lexer": "ipython3",
   "version": "3.10.4"
  }
 },
 "nbformat": 4,
 "nbformat_minor": 5
}
