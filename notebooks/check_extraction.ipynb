{
 "cells": [
  {
   "cell_type": "code",
   "execution_count": 3,
   "id": "95ccec58-6598-489c-a7cd-dcaed9867380",
   "metadata": {},
   "outputs": [],
   "source": [
    "import gzip\n",
    "import pickle\n",
    "import os\n",
    "os.chdir(\"../\")"
   ]
  },
  {
   "cell_type": "code",
   "execution_count": 4,
   "id": "cbe3c806-8fc5-4a8b-8bec-18e82e1ad288",
   "metadata": {},
   "outputs": [],
   "source": [
    "# Define all folder paths\n",
    "root_folder = './'\n",
    "bulk_data_folder = os.path.join(root_folder, 'bulk_data/')\n",
    "extracted_dict_folder = os.path.join(root_folder, 'extracted_data/')"
   ]
  },
  {
   "cell_type": "code",
   "execution_count": 13,
   "id": "b69accfd-f030-4c8b-b156-06ae68feff37",
   "metadata": {},
   "outputs": [
    {
     "name": "stdout",
     "output_type": "stream",
     "text": [
      "['pftaps19950502_wk18.pkl.gz']\n"
     ]
    }
   ],
   "source": [
    "extracted_paths = [path for path in os.listdir(extracted_dict_folder) if path[-3:] == '.gz']\n",
    "print(extracted_paths)"
   ]
  },
  {
   "cell_type": "code",
   "execution_count": 14,
   "id": "cee463a9-fb5e-4dd3-9efc-59fc8b4e64bd",
   "metadata": {},
   "outputs": [
    {
     "name": "stdout",
     "output_type": "stream",
     "text": [
      "[]\n"
     ]
    }
   ],
   "source": [
    "extracted_paths_errors = [path for path in os.listdir(extracted_dict_folder) if path[-4:] == '.txt']\n",
    "print(extracted_paths_errors)"
   ]
  },
  {
   "cell_type": "code",
   "execution_count": 7,
   "id": "7f83d6fb-825b-4dc7-a500-5b1debf7e51f",
   "metadata": {},
   "outputs": [],
   "source": [
    "archive_path_name = extracted_paths[0]\n",
    "with gzip.open(os.path.join(extracted_dict_folder, archive_path_name), 'rb') as fp:\n",
    "    patents = pickle.load(fp)"
   ]
  },
  {
   "cell_type": "code",
   "execution_count": 16,
   "id": "6fdaedd6-961d-4779-9566-a7ee7f9d7c1a",
   "metadata": {},
   "outputs": [
    {
     "data": {
      "text/plain": [
       "1061"
      ]
     },
     "execution_count": 16,
     "metadata": {},
     "output_type": "execute_result"
    }
   ],
   "source": [
    "len(patents)"
   ]
  },
  {
   "cell_type": "code",
   "execution_count": 12,
   "id": "89fedb8a-d6a5-4f97-8da3-f8f1dee386b4",
   "metadata": {},
   "outputs": [
    {
     "data": {
      "text/plain": [
       "{'uid': 'D0357791',\n",
       " 'kind': 'Design',\n",
       " 'app_date': '19940504',\n",
       " 'title': 'Seat belt protector',\n",
       " 'grant_date': '19950502',\n",
       " 'inventors': ['Granda; Nelson F.'],\n",
       " 'US_main_class': 'D 2639',\n",
       " 'citations': ['D287881',\n",
       "  'D308287',\n",
       "  'D331835',\n",
       "  'D332864',\n",
       "  'D338552',\n",
       "  'D343284',\n",
       "  '3291528',\n",
       "  '3482569',\n",
       "  '4693495',\n",
       "  '4741574',\n",
       "  '4786080'],\n",
       " 'abstract': '',\n",
       " 'language_title': '',\n",
       " 'IPC_main_class': '',\n",
       " 'IPC_edition': '',\n",
       " 'US_edition': '',\n",
       " 'IPC_further_classes': [],\n",
       " 'US_further_classes': [],\n",
       " 'keywords': [],\n",
       " 'year': 1995}"
      ]
     },
     "execution_count": 12,
     "metadata": {},
     "output_type": "execute_result"
    }
   ],
   "source": [
    "patents[0]"
   ]
  },
  {
   "cell_type": "code",
   "execution_count": 15,
   "id": "3b7f4a1d-0573-4a6c-857a-1f195e3b9eb2",
   "metadata": {},
   "outputs": [
    {
     "data": {
      "text/plain": [
       "{'uid': '5411509',\n",
       " 'kind': 'Utility',\n",
       " 'app_date': '19920930',\n",
       " 'title': 'Embolectomy catheter',\n",
       " 'grant_date': '19950502',\n",
       " 'inventors': ['Hilal; Said'],\n",
       " 'US_main_class': '606159',\n",
       " 'US_further_classes': '604267',\n",
       " 'US_edition': '6',\n",
       " 'IPC_main_class': 'A61B 1000',\n",
       " 'IPC_further_classes': [],\n",
       " 'citations': ['2490168',\n",
       "  '3640282',\n",
       "  '3799173',\n",
       "  '3877464',\n",
       "  '3896815',\n",
       "  '3978863',\n",
       "  '3996938',\n",
       "  '4735214',\n",
       "  '4877037',\n",
       "  '4886493',\n",
       "  '4890612',\n",
       "  '4968298',\n",
       "  '5011488',\n",
       "  '5085633',\n",
       "  '5192290',\n",
       "  '3519626',\n",
       "  '0395075'],\n",
       " 'abstract': 'An improved embolectomy catheter, includes a catheter body, an elastomeric foam catheter tip attached at one end of the catheter body, and actuator means for elastically deforming the catheter tip. The catheter tip deforms longitudinally and radially in response to activation of the actuation means. The catheter tip may be formed of any type of sterile elastomeric foam, which may be easily compressed and restored to its original shape upon decompression.',\n",
       " 'language_title': '',\n",
       " 'IPC_edition': '',\n",
       " 'keywords': [],\n",
       " 'year': 1995}"
      ]
     },
     "execution_count": 15,
     "metadata": {},
     "output_type": "execute_result"
    }
   ],
   "source": [
    "patents[1000]"
   ]
  },
  {
   "cell_type": "code",
   "execution_count": null,
   "id": "ab8fdb64-3063-467f-9bd8-2b5b8a2e5677",
   "metadata": {},
   "outputs": [],
   "source": []
  }
 ],
 "metadata": {
  "kernelspec": {
   "display_name": "Python 3 (ipykernel)",
   "language": "python",
   "name": "python3"
  },
  "language_info": {
   "codemirror_mode": {
    "name": "ipython",
    "version": 3
   },
   "file_extension": ".py",
   "mimetype": "text/x-python",
   "name": "python",
   "nbconvert_exporter": "python",
   "pygments_lexer": "ipython3",
   "version": "3.10.4"
  }
 },
 "nbformat": 4,
 "nbformat_minor": 5
}
