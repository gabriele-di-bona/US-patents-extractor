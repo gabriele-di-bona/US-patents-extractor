{
 "cells": [
  {
   "cell_type": "markdown",
   "id": "aa690f82-abf6-473e-87be-0ef4974adc49",
   "metadata": {},
   "source": [
    "# Import libraries"
   ]
  },
  {
   "cell_type": "code",
   "execution_count": 1,
   "id": "95ccec58-6598-489c-a7cd-dcaed9867380",
   "metadata": {},
   "outputs": [],
   "source": [
    "import gzip\n",
    "import pickle\n",
    "from tqdm import tqdm\n",
    "import os\n",
    "os.chdir(\"../\")\n",
    "import pandas as pd\n",
    "import matplotlib.pyplot as plt"
   ]
  },
  {
   "cell_type": "code",
   "execution_count": 2,
   "id": "cbe3c806-8fc5-4a8b-8bec-18e82e1ad288",
   "metadata": {},
   "outputs": [],
   "source": [
    "# Define all folder paths\n",
    "root_folder = './'\n",
    "bulk_data_folder = os.path.join(root_folder, 'bulk_data/')\n",
    "extracted_dict_folder = os.path.join(root_folder, 'extracted_data/')\n",
    "filtered_data_folder = os.path.join(root_folder, 'filtered_data/')\n",
    "os.makedirs(filtered_data_folder, exist_ok = True)"
   ]
  },
  {
   "cell_type": "markdown",
   "id": "941bb2b2-685c-4bfd-8cef-6249a4bf07a4",
   "metadata": {},
   "source": [
    "# Get all extracted data"
   ]
  },
  {
   "cell_type": "markdown",
   "id": "5ece65fc-80ec-4fad-a355-4e85baf2edcd",
   "metadata": {},
   "source": [
    "## Extracting all patents into list of dicts"
   ]
  },
  {
   "cell_type": "code",
   "execution_count": 3,
   "id": "b69accfd-f030-4c8b-b156-06ae68feff37",
   "metadata": {
    "tags": []
   },
   "outputs": [
    {
     "name": "stdout",
     "output_type": "stream",
     "text": [
      "2490 ['ipg060307.pkl.gz', 'ipg081028.pkl.gz', 'ipg081125.pkl.gz', 'ipg100413.pkl.gz', 'pftaps19790529_wk22.pkl.gz', 'pftaps19900925_wk39.pkl.gz', 'pftaps19911119_wk47.pkl.gz', 'pftaps19920107_wk01.pkl.gz', 'pg010227.pkl.gz', 'pg030225.pkl.gz']\n"
     ]
    }
   ],
   "source": [
    "extracted_paths = []\n",
    "while len(extracted_paths) < 2490:\n",
    "    extracted_paths = [path for path in os.listdir(extracted_dict_folder) if path[-3:] == '.gz']\n",
    "print(len(extracted_paths), sorted(extracted_paths[:10]))"
   ]
  },
  {
   "cell_type": "code",
   "execution_count": 4,
   "id": "cee463a9-fb5e-4dd3-9efc-59fc8b4e64bd",
   "metadata": {},
   "outputs": [
    {
     "name": "stdout",
     "output_type": "stream",
     "text": [
      "[]\n"
     ]
    }
   ],
   "source": [
    "# Check if there was any error\n",
    "extracted_paths_errors = [path for path in os.listdir(extracted_dict_folder) if path[-4:] == '.txt']\n",
    "print(extracted_paths_errors)"
   ]
  },
  {
   "cell_type": "code",
   "execution_count": 5,
   "id": "baf5faff-4446-4c1e-85ad-ef4ddcb30942",
   "metadata": {},
   "outputs": [],
   "source": [
    "# There are some citations that instead of being uids are list of uids\n",
    "def adjust_list_citations(citations, index_to_print):\n",
    "    new_citations = []\n",
    "    for citation in citations:\n",
    "        if type(citation) == list:\n",
    "            print(index_to_print, 'PROBLEM LIST', flush=True)\n",
    "            new_citations += citation\n",
    "        elif type(citation) == str:\n",
    "            new_citations.append(citation)\n",
    "        else:\n",
    "            print(index_to_print, f\"Strange type for citation {citation}\")\n",
    "            new_citations.append(citation)\n",
    "    return new_citations"
   ]
  },
  {
   "cell_type": "code",
   "execution_count": 6,
   "id": "91d683db-368e-414e-ad62-fb0fab3a1ed9",
   "metadata": {},
   "outputs": [
    {
     "name": "stderr",
     "output_type": "stream",
     "text": [
      "100%|██████████| 2490/2490 [05:28<00:00,  7.58it/s] \n"
     ]
    }
   ],
   "source": [
    "# Adjust citations and check if there are empty patents\n",
    "all_patents = []\n",
    "problem_patents_years = {}\n",
    "ok_patents_years = {}\n",
    "for archive_path_name in tqdm(sorted(extracted_paths)):\n",
    "    with gzip.open(os.path.join(extracted_dict_folder, archive_path_name), 'rb') as fp:\n",
    "        patents = pickle.load(fp)\n",
    "    # get current year\n",
    "    for i,patent in enumerate(patents):\n",
    "        if patent['year'] is not None:\n",
    "            year = patent['year']\n",
    "            break\n",
    "    if year not in problem_patents_years:\n",
    "        problem_patents_years[year] = 0\n",
    "        ok_patents_years[year] = 0\n",
    "        \n",
    "    for i,patent in enumerate(patents):\n",
    "        if patent['uid'] == '':\n",
    "            problem_patents_years[year] += 1\n",
    "        else:\n",
    "            ok_patents_years[year] += 1\n",
    "            # adjusting citations\n",
    "            patents[i]['citations'] = adjust_list_citations(patent['citations'],archive_path_name)\n",
    "    # removing empty patents\n",
    "    all_patents += [patent for patent in patents if patent['uid'] != '']"
   ]
  },
  {
   "cell_type": "code",
   "execution_count": 7,
   "id": "ef30fe39-f30e-440f-bfdb-dddb892d4220",
   "metadata": {},
   "outputs": [
    {
     "name": "stdout",
     "output_type": "stream",
     "text": [
      "2005 \tok 157829 \terror 0\n",
      "2006 \tok 196489 \terror 0\n",
      "2007 \tok 182978 \terror 0\n",
      "2008 \tok 185260 \terror 0\n",
      "2009 \tok 192052 \terror 0\n",
      "2010 \tok 244599 \terror 0\n",
      "2011 \tok 248101 \terror 0\n",
      "2012 \tok 277285 \terror 0\n",
      "2013 \tok 303642 \terror 0\n",
      "2014 \tok 327014 \terror 0\n",
      "2015 \tok 326969 \terror 0\n",
      "2016 \tok 334674 \terror 0\n",
      "2017 \tok 352547 \terror 0\n",
      "2018 \tok 341104 \terror 0\n",
      "2019 \tok 392618 \terror 0\n",
      "2020 \tok 390572 \terror 0\n",
      "2021 \tok 363795 \terror 0\n",
      "2022 \tok 263237 \terror 0\n",
      "1976 \tok 48231 \terror 0\n",
      "1977 \tok 51487 \terror 0\n",
      "1978 \tok 48057 \terror 0\n",
      "1979 \tok 36909 \terror 0\n",
      "1980 \tok 47447 \terror 0\n",
      "1981 \tok 49429 \terror 0\n",
      "1982 \tok 41251 \terror 0\n",
      "1983 \tok 40639 \terror 0\n",
      "1984 \tok 50874 \terror 0\n",
      "1985 \tok 49354 \terror 0\n",
      "1986 \tok 50682 \terror 0\n",
      "1987 \tok 63291 \terror 0\n",
      "1988 \tok 52890 \terror 0\n",
      "1989 \tok 59225 \terror 0\n",
      "1990 \tok 59171 \terror 0\n",
      "1991 \tok 67825 \terror 0\n",
      "1992 \tok 58754 \terror 0\n",
      "1993 \tok 62999 \terror 0\n",
      "1994 \tok 61388 \terror 0\n",
      "1995 \tok 62461 \terror 0\n",
      "1996 \tok 64417 \terror 0\n",
      "1997 \tok 62141 \terror 0\n",
      "1998 \tok 75148 \terror 0\n",
      "1999 \tok 107272 \terror 0\n",
      "2000 \tok 173576 \terror 0\n",
      "2001 \tok 220135 \terror 0\n",
      "2002 \tok 184494 \terror 0\n",
      "2003 \tok 187104 \terror 0\n",
      "2004 \tok 181413 \terror 0\n"
     ]
    }
   ],
   "source": [
    "for year, num_problems in problem_patents_years.items():\n",
    "    print(year, '\\tok', ok_patents_years[year], '\\terror', problem_patents_years[year])"
   ]
  },
  {
   "cell_type": "code",
   "execution_count": 8,
   "id": "71bbbabb-7c71-4040-a019-6b3876a13f56",
   "metadata": {},
   "outputs": [
    {
     "data": {
      "text/plain": [
       "<matplotlib.collections.PathCollection at 0x2ba26510bdf0>"
      ]
     },
     "execution_count": 8,
     "metadata": {},
     "output_type": "execute_result"
    },
    {
     "data": {
      "image/png": "[encoded data removed]",
      "text/plain": [
       "<Figure size 432x288 with 1 Axes>"
      ]
     },
     "metadata": {
      "needs_background": "light"
     },
     "output_type": "display_data"
    }
   ],
   "source": [
    "plt.scatter(ok_patents_years.keys(), ok_patents_years.values())\n",
    "# plt.yscale('log')"
   ]
  },
  {
   "cell_type": "markdown",
   "id": "72b24882-3f40-449d-ac6e-2081c08aaf8b",
   "metadata": {},
   "source": [
    "## Creating DataFrame of all patents"
   ]
  },
  {
   "cell_type": "code",
   "execution_count": 9,
   "id": "047e30c5-ebe8-45d7-83ab-8691de50617b",
   "metadata": {},
   "outputs": [],
   "source": [
    "all_patents_df = pd.DataFrame(all_patents)"
   ]
  },
  {
   "cell_type": "code",
   "execution_count": 10,
   "id": "b751c759-9ea8-4618-bd72-338f3a0af905",
   "metadata": {},
   "outputs": [
    {
     "data": {
      "text/plain": [
       "(7398829, 7398829)"
      ]
     },
     "execution_count": 10,
     "metadata": {},
     "output_type": "execute_result"
    }
   ],
   "source": [
    "len(all_patents), len(all_patents_df)"
   ]
  },
  {
   "cell_type": "code",
   "execution_count": 11,
   "id": "b9b07a6e-f06b-4472-84d5-f96a91cb7e85",
   "metadata": {},
   "outputs": [
    {
     "data": {
      "text/plain": [
       "(7398829, 7398829)"
      ]
     },
     "execution_count": 11,
     "metadata": {},
     "output_type": "execute_result"
    }
   ],
   "source": [
    "len(all_patents), len(all_patents_df)"
   ]
  },
  {
   "cell_type": "code",
   "execution_count": 12,
   "id": "92eb7f6a-ab35-45bf-814a-1fb94194ebae",
   "metadata": {},
   "outputs": [
    {
     "data": {
      "text/plain": [
       "7398829"
      ]
     },
     "execution_count": 12,
     "metadata": {},
     "output_type": "execute_result"
    }
   ],
   "source": [
    "all_patents_df_no_nan = all_patents_df[pd.notna(all_patents_df['year'])]\n",
    "len(all_patents_df_no_nan)"
   ]
  },
  {
   "cell_type": "markdown",
   "id": "870db7a4-1f53-4f74-9ef6-42e86908904b",
   "metadata": {},
   "source": [
    "All empty patents have been disregarded"
   ]
  },
  {
   "cell_type": "code",
   "execution_count": 13,
   "id": "06e5723c-9edc-4a61-91d0-347b8b85a068",
   "metadata": {},
   "outputs": [
    {
     "data": {
      "text/html": [
       "<div>\n",
       "<style scoped>\n",
       "    .dataframe tbody tr th:only-of-type {\n",
       "        vertical-align: middle;\n",
       "    }\n",
       "\n",
       "    .dataframe tbody tr th {\n",
       "        vertical-align: top;\n",
       "    }\n",
       "\n",
       "    .dataframe thead th {\n",
       "        text-align: right;\n",
       "    }\n",
       "</style>\n",
       "<table border=\"1\" class=\"dataframe\">\n",
       "  <thead>\n",
       "    <tr style=\"text-align: right;\">\n",
       "      <th></th>\n",
       "      <th>uid</th>\n",
       "      <th>grant_date</th>\n",
       "      <th>kind</th>\n",
       "      <th>app_date</th>\n",
       "      <th>abstract</th>\n",
       "      <th>title</th>\n",
       "      <th>citations</th>\n",
       "      <th>IPC_main_class</th>\n",
       "      <th>IPC_further_classes</th>\n",
       "      <th>IPC_edition</th>\n",
       "      <th>US_main_class</th>\n",
       "      <th>US_further_classes</th>\n",
       "      <th>US_edition</th>\n",
       "      <th>inventors</th>\n",
       "      <th>year</th>\n",
       "    </tr>\n",
       "  </thead>\n",
       "  <tbody>\n",
       "    <tr>\n",
       "      <th>5132884</th>\n",
       "      <td>4004552</td>\n",
       "      <td>19740125</td>\n",
       "      <td>Utility</td>\n",
       "      <td>19750609</td>\n",
       "      <td>An egg incubating tray has its egg cells arran...</td>\n",
       "      <td>Egg incubating tray with rack and slide</td>\n",
       "      <td>[1544311, 2006938, 2061064, 2087044, 2143536, ...</td>\n",
       "      <td>A01K 4100</td>\n",
       "      <td>[]</td>\n",
       "      <td></td>\n",
       "      <td>119 43</td>\n",
       "      <td>[]</td>\n",
       "      <td>2</td>\n",
       "      <td>[Levin; Gerd]</td>\n",
       "      <td>1974</td>\n",
       "    </tr>\n",
       "    <tr>\n",
       "      <th>5083907</th>\n",
       "      <td>3935657</td>\n",
       "      <td>19750203</td>\n",
       "      <td>Utility</td>\n",
       "      <td>19740703</td>\n",
       "      <td>Apparatus is disclosed for receiving and resti...</td>\n",
       "      <td>Rifle rest</td>\n",
       "      <td>[577026, 2774563, 2877689, 3012350, 3041938, 3...</td>\n",
       "      <td>F41C 2900</td>\n",
       "      <td>[]</td>\n",
       "      <td></td>\n",
       "      <td>42 94</td>\n",
       "      <td>[]</td>\n",
       "      <td>2</td>\n",
       "      <td>[Wade; Virdell H.]</td>\n",
       "      <td>1975</td>\n",
       "    </tr>\n",
       "    <tr>\n",
       "      <th>5099029</th>\n",
       "      <td>3958378</td>\n",
       "      <td>19750525</td>\n",
       "      <td>Utility</td>\n",
       "      <td>19741022</td>\n",
       "      <td>This invention relates to a self-contained pre...</td>\n",
       "      <td>Burial crypt</td>\n",
       "      <td>[912368, 998908, 1204686, 1523851, 1752572, 25...</td>\n",
       "      <td>E04H 1300</td>\n",
       "      <td>[]</td>\n",
       "      <td></td>\n",
       "      <td>52136</td>\n",
       "      <td>52 79</td>\n",
       "      <td>2</td>\n",
       "      <td>[Omeechevarria; Gerardo]</td>\n",
       "      <td>1975</td>\n",
       "    </tr>\n",
       "    <tr>\n",
       "      <th>5111590</th>\n",
       "      <td>3977048</td>\n",
       "      <td>19750831</td>\n",
       "      <td>Utility</td>\n",
       "      <td>19750915</td>\n",
       "      <td>A resilient one piece sheet metal clip having ...</td>\n",
       "      <td>Molding clips</td>\n",
       "      <td>[2837184, 2981387, 3004643, 3006444, 1,407,821...</td>\n",
       "      <td>A44B 2100</td>\n",
       "      <td>[E04F 1902]</td>\n",
       "      <td></td>\n",
       "      <td>24 73FT</td>\n",
       "      <td>52718</td>\n",
       "      <td>2</td>\n",
       "      <td>[Benedetti; Edward R.]</td>\n",
       "      <td>1975</td>\n",
       "    </tr>\n",
       "    <tr>\n",
       "      <th>5117624</th>\n",
       "      <td>3985221</td>\n",
       "      <td>19751028</td>\n",
       "      <td>Utility</td>\n",
       "      <td>19751028</td>\n",
       "      <td>A tube feeder has a longitudinal support equip...</td>\n",
       "      <td>Tube feeder with self-adjusting loader</td>\n",
       "      <td>[2771662, 2838158, 2880844, 3200679, 3306472, ...</td>\n",
       "      <td>B65G 4706</td>\n",
       "      <td>[]</td>\n",
       "      <td></td>\n",
       "      <td>198474</td>\n",
       "      <td>[51215H, 82  27, 82102, 214  1PB, 198862]</td>\n",
       "      <td>2</td>\n",
       "      <td>[Lueders; Willi H.]</td>\n",
       "      <td>1975</td>\n",
       "    </tr>\n",
       "    <tr>\n",
       "      <th>...</th>\n",
       "      <td>...</td>\n",
       "      <td>...</td>\n",
       "      <td>...</td>\n",
       "      <td>...</td>\n",
       "      <td>...</td>\n",
       "      <td>...</td>\n",
       "      <td>...</td>\n",
       "      <td>...</td>\n",
       "      <td>...</td>\n",
       "      <td>...</td>\n",
       "      <td>...</td>\n",
       "      <td>...</td>\n",
       "      <td>...</td>\n",
       "      <td>...</td>\n",
       "      <td>...</td>\n",
       "    </tr>\n",
       "    <tr>\n",
       "      <th>5074220</th>\n",
       "      <td>RE049214</td>\n",
       "      <td>20220920</td>\n",
       "      <td>E1</td>\n",
       "      <td>20190524</td>\n",
       "      <td>An aircraft, the aircraft including a whole-a...</td>\n",
       "      <td>Intelligent ballistic parachute system that pe...</td>\n",
       "      <td>[]</td>\n",
       "      <td>B64D 17/34</td>\n",
       "      <td>[B64C 13/04, B64D 17/72, B64D 17/00]</td>\n",
       "      <td>20060101</td>\n",
       "      <td>B64D 17/343</td>\n",
       "      <td>[B64C 13/04, B64D 17/725]</td>\n",
       "      <td>20130101</td>\n",
       "      <td>[Fleming, III; Hoyt Augustus]</td>\n",
       "      <td>2022</td>\n",
       "    </tr>\n",
       "    <tr>\n",
       "      <th>5074221</th>\n",
       "      <td>RE049215</td>\n",
       "      <td>20220920</td>\n",
       "      <td>E1</td>\n",
       "      <td>20200517</td>\n",
       "      <td>A wave forming apparatus has a channel for co...</td>\n",
       "      <td>Wave generating apparatus and method</td>\n",
       "      <td>[]</td>\n",
       "      <td>E04H 4/00</td>\n",
       "      <td>[A63G 31/00, A63B 69/00, A63B 71/04]</td>\n",
       "      <td>20060101</td>\n",
       "      <td>E04H 4/0006</td>\n",
       "      <td>[A63B 69/0093, A63B 71/04, A63G 31/007, Y10T 2...</td>\n",
       "      <td>20130101</td>\n",
       "      <td>[McFarland; Bruce]</td>\n",
       "      <td>2022</td>\n",
       "    </tr>\n",
       "    <tr>\n",
       "      <th>5074222</th>\n",
       "      <td>RE049216</td>\n",
       "      <td>20220920</td>\n",
       "      <td>E1</td>\n",
       "      <td>20160908</td>\n",
       "      <td>A heat sink system to conduct heat away from ...</td>\n",
       "      <td>Heat sink system having thermally conductive rods</td>\n",
       "      <td>[]</td>\n",
       "      <td>H01L 23/427</td>\n",
       "      <td>[F28F 13/00, F28F 3/02]</td>\n",
       "      <td>20060101</td>\n",
       "      <td>H01L 23/427</td>\n",
       "      <td>[F28F 13/00, F28F 3/022, F28F 2013/005, H01L 2...</td>\n",
       "      <td>20130101</td>\n",
       "      <td>[Lin; Philip]</td>\n",
       "      <td>2022</td>\n",
       "    </tr>\n",
       "    <tr>\n",
       "      <th>5074223</th>\n",
       "      <td>RE049217</td>\n",
       "      <td>20220920</td>\n",
       "      <td>E1</td>\n",
       "      <td>20200710</td>\n",
       "      <td>A monitoring system 22 for a distributed ante...</td>\n",
       "      <td>Monitoring system for a distributed antenna sy...</td>\n",
       "      <td>[]</td>\n",
       "      <td>H04B 17/00</td>\n",
       "      <td>[H04B 17/16, G01R 29/08, H04B 17/40, H04W 24/1...</td>\n",
       "      <td>20150101</td>\n",
       "      <td>H04B 17/16</td>\n",
       "      <td>[H04B 17/17, G01R 29/0878, G01R 29/10, H04B 17...</td>\n",
       "      <td>20150115</td>\n",
       "      <td>[Fourie; Andries Petrus Cronje, Nitch; Derek C...</td>\n",
       "      <td>2022</td>\n",
       "    </tr>\n",
       "    <tr>\n",
       "      <th>5152156</th>\n",
       "      <td>4030324</td>\n",
       "      <td>91770621</td>\n",
       "      <td>Utility</td>\n",
       "      <td>19760422</td>\n",
       "      <td>A locking hardware adapted to conceal and conf...</td>\n",
       "      <td>Lock hardware for outboard motor</td>\n",
       "      <td>[2500375, 2529432, 3744282, 3889500, 3893312, ...</td>\n",
       "      <td>E05B 7300</td>\n",
       "      <td>[F16B 4100]</td>\n",
       "      <td></td>\n",
       "      <td>70232</td>\n",
       "      <td>[70212, 70230]</td>\n",
       "      <td>2</td>\n",
       "      <td>[Rizio; Leo A.]</td>\n",
       "      <td>9177</td>\n",
       "    </tr>\n",
       "  </tbody>\n",
       "</table>\n",
       "<p>7398829 rows × 15 columns</p>\n",
       "</div>"
      ],
      "text/plain": [
       "              uid grant_date     kind  app_date  \\\n",
       "5132884   4004552   19740125  Utility  19750609   \n",
       "5083907   3935657   19750203  Utility  19740703   \n",
       "5099029   3958378   19750525  Utility  19741022   \n",
       "5111590   3977048   19750831  Utility  19750915   \n",
       "5117624   3985221   19751028  Utility  19751028   \n",
       "...           ...        ...      ...       ...   \n",
       "5074220  RE049214   20220920       E1  20190524   \n",
       "5074221  RE049215   20220920       E1  20200517   \n",
       "5074222  RE049216   20220920       E1  20160908   \n",
       "5074223  RE049217   20220920       E1  20200710   \n",
       "5152156   4030324   91770621  Utility  19760422   \n",
       "\n",
       "                                                  abstract  \\\n",
       "5132884  An egg incubating tray has its egg cells arran...   \n",
       "5083907  Apparatus is disclosed for receiving and resti...   \n",
       "5099029  This invention relates to a self-contained pre...   \n",
       "5111590  A resilient one piece sheet metal clip having ...   \n",
       "5117624  A tube feeder has a longitudinal support equip...   \n",
       "...                                                    ...   \n",
       "5074220   An aircraft, the aircraft including a whole-a...   \n",
       "5074221   A wave forming apparatus has a channel for co...   \n",
       "5074222   A heat sink system to conduct heat away from ...   \n",
       "5074223   A monitoring system 22 for a distributed ante...   \n",
       "5152156  A locking hardware adapted to conceal and conf...   \n",
       "\n",
       "                                                     title  \\\n",
       "5132884            Egg incubating tray with rack and slide   \n",
       "5083907                                         Rifle rest   \n",
       "5099029                                       Burial crypt   \n",
       "5111590                                      Molding clips   \n",
       "5117624             Tube feeder with self-adjusting loader   \n",
       "...                                                    ...   \n",
       "5074220  Intelligent ballistic parachute system that pe...   \n",
       "5074221               Wave generating apparatus and method   \n",
       "5074222  Heat sink system having thermally conductive rods   \n",
       "5074223  Monitoring system for a distributed antenna sy...   \n",
       "5152156                   Lock hardware for outboard motor   \n",
       "\n",
       "                                                 citations IPC_main_class  \\\n",
       "5132884  [1544311, 2006938, 2061064, 2087044, 2143536, ...      A01K 4100   \n",
       "5083907  [577026, 2774563, 2877689, 3012350, 3041938, 3...      F41C 2900   \n",
       "5099029  [912368, 998908, 1204686, 1523851, 1752572, 25...      E04H 1300   \n",
       "5111590  [2837184, 2981387, 3004643, 3006444, 1,407,821...      A44B 2100   \n",
       "5117624  [2771662, 2838158, 2880844, 3200679, 3306472, ...      B65G 4706   \n",
       "...                                                    ...            ...   \n",
       "5074220                                                 []     B64D 17/34   \n",
       "5074221                                                 []      E04H 4/00   \n",
       "5074222                                                 []    H01L 23/427   \n",
       "5074223                                                 []     H04B 17/00   \n",
       "5152156  [2500375, 2529432, 3744282, 3889500, 3893312, ...      E05B 7300   \n",
       "\n",
       "                                       IPC_further_classes IPC_edition  \\\n",
       "5132884                                                 []               \n",
       "5083907                                                 []               \n",
       "5099029                                                 []               \n",
       "5111590                                        [E04F 1902]               \n",
       "5117624                                                 []               \n",
       "...                                                    ...         ...   \n",
       "5074220               [B64C 13/04, B64D 17/72, B64D 17/00]    20060101   \n",
       "5074221               [A63G 31/00, A63B 69/00, A63B 71/04]    20060101   \n",
       "5074222                            [F28F 13/00, F28F 3/02]    20060101   \n",
       "5074223  [H04B 17/16, G01R 29/08, H04B 17/40, H04W 24/1...    20150101   \n",
       "5152156                                        [F16B 4100]               \n",
       "\n",
       "        US_main_class                                 US_further_classes  \\\n",
       "5132884        119 43                                                 []   \n",
       "5083907         42 94                                                 []   \n",
       "5099029         52136                                              52 79   \n",
       "5111590       24 73FT                                              52718   \n",
       "5117624        198474          [51215H, 82  27, 82102, 214  1PB, 198862]   \n",
       "...               ...                                                ...   \n",
       "5074220   B64D 17/343                          [B64C 13/04, B64D 17/725]   \n",
       "5074221   E04H 4/0006  [A63B 69/0093, A63B 71/04, A63G 31/007, Y10T 2...   \n",
       "5074222   H01L 23/427  [F28F 13/00, F28F 3/022, F28F 2013/005, H01L 2...   \n",
       "5074223    H04B 17/16  [H04B 17/17, G01R 29/0878, G01R 29/10, H04B 17...   \n",
       "5152156         70232                                     [70212, 70230]   \n",
       "\n",
       "        US_edition                                          inventors  year  \n",
       "5132884          2                                      [Levin; Gerd]  1974  \n",
       "5083907          2                                 [Wade; Virdell H.]  1975  \n",
       "5099029          2                           [Omeechevarria; Gerardo]  1975  \n",
       "5111590          2                             [Benedetti; Edward R.]  1975  \n",
       "5117624          2                                [Lueders; Willi H.]  1975  \n",
       "...            ...                                                ...   ...  \n",
       "5074220   20130101                      [Fleming, III; Hoyt Augustus]  2022  \n",
       "5074221   20130101                                 [McFarland; Bruce]  2022  \n",
       "5074222   20130101                                      [Lin; Philip]  2022  \n",
       "5074223   20150115  [Fourie; Andries Petrus Cronje, Nitch; Derek C...  2022  \n",
       "5152156          2                                    [Rizio; Leo A.]  9177  \n",
       "\n",
       "[7398829 rows x 15 columns]"
      ]
     },
     "execution_count": 13,
     "metadata": {},
     "output_type": "execute_result"
    }
   ],
   "source": [
    "time_ordered_all_patents_df_no_nan = all_patents_df_no_nan.sort_values(['grant_date', 'uid'], inplace=False)\n",
    "time_ordered_all_patents_df_no_nan"
   ]
  },
  {
   "cell_type": "markdown",
   "id": "4d76e6e6-a35c-482c-bad5-92ddd2c419f9",
   "metadata": {},
   "source": [
    "## Check uid"
   ]
  },
  {
   "cell_type": "code",
   "execution_count": 14,
   "id": "9119cfa2-ae32-4dc2-b57c-8ad0e2ac215e",
   "metadata": {},
   "outputs": [
    {
     "data": {
      "text/plain": [
       "7362866"
      ]
     },
     "execution_count": 14,
     "metadata": {},
     "output_type": "execute_result"
    }
   ],
   "source": [
    "unique_ids = all_patents_df_no_nan.uid.unique()\n",
    "len(unique_ids)"
   ]
  },
  {
   "cell_type": "code",
   "execution_count": 15,
   "id": "e392f0b5-672e-4022-833e-b4be4be9e214",
   "metadata": {},
   "outputs": [
    {
     "name": "stdout",
     "output_type": "stream",
     "text": [
      "0.004860634027357573\n"
     ]
    }
   ],
   "source": [
    "print((len(all_patents)-len(unique_ids)) / len(all_patents))"
   ]
  },
  {
   "cell_type": "markdown",
   "id": "fe8bd48d-2054-4fd3-b88d-9db180ede1e8",
   "metadata": {},
   "source": [
    "Now check if the uids increase in time"
   ]
  },
  {
   "cell_type": "code",
   "execution_count": 16,
   "id": "05cb0c70-cf4e-48fb-92a1-3dd261d2e943",
   "metadata": {},
   "outputs": [],
   "source": [
    "numeric_ids = [uid.isnumeric() for uid in time_ordered_all_patents_df_no_nan.uid]"
   ]
  },
  {
   "cell_type": "code",
   "execution_count": 17,
   "id": "2f64d259-2fbd-48f3-a0f7-1b4f1bdde9e9",
   "metadata": {},
   "outputs": [],
   "source": [
    "# For some reason there is one with a wrong date\n",
    "numeric_ids[-1] = False"
   ]
  },
  {
   "cell_type": "code",
   "execution_count": 18,
   "id": "d17a3b21-c165-4494-81cc-9252c15d63e3",
   "metadata": {},
   "outputs": [],
   "source": [
    "numeric_time_ordered_all_patents_df_no_nan = time_ordered_all_patents_df_no_nan[numeric_ids]"
   ]
  },
  {
   "cell_type": "code",
   "execution_count": 19,
   "id": "0c1c12f8-8ccd-4e4f-9753-91696d2c7563",
   "metadata": {},
   "outputs": [
    {
     "data": {
      "text/plain": [
       "<matplotlib.collections.PathCollection at 0x2ba26d24bf10>"
      ]
     },
     "execution_count": 19,
     "metadata": {},
     "output_type": "execute_result"
    },
    {
     "data": {
      "image/png": "[encoded data removed]",
      "text/plain": [
       "<Figure size 432x288 with 1 Axes>"
      ]
     },
     "metadata": {
      "needs_background": "light"
     },
     "output_type": "display_data"
    }
   ],
   "source": [
    "plt.scatter(numeric_time_ordered_all_patents_df_no_nan.grant_date.astype(int), numeric_time_ordered_all_patents_df_no_nan.uid.astype(int))"
   ]
  },
  {
   "cell_type": "code",
   "execution_count": 20,
   "id": "390ef61c-2ea8-4a4c-9257-1aa23e115cee",
   "metadata": {},
   "outputs": [
    {
     "data": {
      "text/plain": [
       "3930271"
      ]
     },
     "execution_count": 20,
     "metadata": {},
     "output_type": "execute_result"
    }
   ],
   "source": [
    "min_uid = numeric_time_ordered_all_patents_df_no_nan.uid.astype(int).min()\n",
    "min_uid"
   ]
  },
  {
   "cell_type": "markdown",
   "id": "f9f5c5ba-aef5-4f17-ba0f-d85313cae193",
   "metadata": {
    "tags": []
   },
   "source": [
    "# Consider only Utility patents and adjust all mistakes"
   ]
  },
  {
   "cell_type": "code",
   "execution_count": 21,
   "id": "c885a315-b46c-4e51-92bb-ea92d813ce21",
   "metadata": {},
   "outputs": [],
   "source": [
    "correct_time_ordered_all_patents_df_no_nan = time_ordered_all_patents_df_no_nan.copy()"
   ]
  },
  {
   "cell_type": "markdown",
   "id": "44bf0265-bc6a-48ac-a364-919d02577b25",
   "metadata": {},
   "source": [
    "## Auxiliary functions"
   ]
  },
  {
   "cell_type": "code",
   "execution_count": 22,
   "id": "7e17c373-0967-412a-b713-32651d70a308",
   "metadata": {},
   "outputs": [],
   "source": [
    "def clean_patent_number(patent_number):\n",
    "    # print('Excluding commas and spaces and omitting leading zeroes', flush=True)\n",
    "    correct_patent_number = patent_number.replace(' ', '').replace(',', '').replace(';', '').replace('.', '').replace('/', '').replace('\\\\', '').lstrip('0')#.upper()\n",
    "    return correct_patent_number"
   ]
  },
  {
   "cell_type": "code",
   "execution_count": 23,
   "id": "0c6466a3-d31b-44b0-8f7a-8c863d3ef764",
   "metadata": {},
   "outputs": [],
   "source": [
    "def check_if_letter_after_number(patent_number):\n",
    "    # Returns True or False of the check, plus two other entities\n",
    "    # These are the cleaned patent number and an empty string if there is no letter_after_number\n",
    "    # Otherwise returns the two strings, before and after the first letter after number\n",
    "    cleaned_patent_number = clean_patent_number(patent_number)\n",
    "    found_number = False\n",
    "    found_letter_after_number = False\n",
    "    part1 = cleaned_patent_number\n",
    "    part2 = \"\"\n",
    "    for i,char in enumerate(cleaned_patent_number):\n",
    "        if char.isnumeric() == True:\n",
    "            found_number = True\n",
    "        # else:\n",
    "        #     found_number = False\n",
    "        if found_number == True and char.isnumeric() == False:\n",
    "            # print(f\"Found character {char} after a number\")\n",
    "            found_letter_after_number = True\n",
    "            part1 = cleaned_patent_number[:i]\n",
    "            part2 = cleaned_patent_number[i:]\n",
    "            break\n",
    "    return found_letter_after_number, part1, part2"
   ]
  },
  {
   "cell_type": "code",
   "execution_count": 24,
   "id": "1ab46ba9-457a-4bd9-b737-e2aaa355a301",
   "metadata": {},
   "outputs": [],
   "source": [
    "def insert_leading_zeros(string, num_characters):\n",
    "    return '0'*(num_characters-len(string))+string"
   ]
  },
  {
   "cell_type": "code",
   "execution_count": 25,
   "id": "deeb5544-7cd4-4d34-a83a-e547b5ae71df",
   "metadata": {},
   "outputs": [],
   "source": [
    "def flatten_list(l):\n",
    "    new_l = []\n",
    "    if type(l) == list:\n",
    "        for _ in l:\n",
    "            new_l += flatten_list(_)\n",
    "    else:\n",
    "        new_l.append(l)\n",
    "    return new_l"
   ]
  },
  {
   "cell_type": "markdown",
   "id": "c6034f38-101f-4c09-a349-199046a66052",
   "metadata": {},
   "source": [
    "## Def functions types"
   ]
  },
  {
   "cell_type": "code",
   "execution_count": 26,
   "id": "d23d80b5-84f9-4385-a283-1d8e8adb9827",
   "metadata": {},
   "outputs": [],
   "source": [
    "def check_US_patent_number(patent_number):\n",
    "    correct_patent_number = patent_number.upper()\n",
    "    checks_failed = False\n",
    "    try:\n",
    "        # check utility\n",
    "        if correct_patent_number.isnumeric() == True:\n",
    "            if len(correct_patent_number) not in [6,7,8]:\n",
    "                # print(f'Utility, but wrong length, it\\'s {len(correct_patent_number)}', flush=True)\n",
    "                checks_failed = True\n",
    "            else:\n",
    "                correct_patent_number = insert_leading_zeros(correct_patent_number, 8)\n",
    "        # check reissue\n",
    "        elif (correct_patent_number[:2] == 'RE' and correct_patent_number[2:].isnumeric()) or (correct_patent_number[0] == 'r' and correct_patent_number[1:].isnumeric() == True):\n",
    "            correct_patent_number = 'RE' + insert_leading_zeros(correct_patent_number[2:], 6)\n",
    "        # check plant\n",
    "        elif correct_patent_number[:2] == 'PP' and correct_patent_number[2:].isnumeric():\n",
    "            correct_patent_number = 'PP' + insert_leading_zeros(correct_patent_number[2:], 6)\n",
    "        # check design\n",
    "        elif correct_patent_number[0] == 'D' and correct_patent_number[1:].isnumeric():\n",
    "            correct_patent_number = 'D' + insert_leading_zeros(correct_patent_number[1:], 7)\n",
    "        # check X\n",
    "        elif correct_patent_number[0].upper() == 'X' and correct_patent_number[1:].isnumeric():\n",
    "            correct_patent_number = 'X' + insert_leading_zeros(correct_patent_number[1:], 7)\n",
    "        # check H\n",
    "        elif correct_patent_number[0].upper() == 'H' and correct_patent_number[1:].isnumeric():\n",
    "            correct_patent_number = 'H' + insert_leading_zeros(correct_patent_number[1:], 7)\n",
    "        # check T\n",
    "        elif correct_patent_number[0].upper() == 'T' and correct_patent_number[1:].isnumeric():\n",
    "            correct_patent_number = 'T' + insert_leading_zeros(correct_patent_number[1:], 7)\n",
    "        else:\n",
    "            checks_failed = True\n",
    "            # print(f'{correct_patent_number} not recognized')\n",
    "    except:\n",
    "        checks_failed = True\n",
    "        print(\"problem\",len(patent_number),patent_number,flush=True)\n",
    "        raise IndexError\n",
    "    return correct_patent_number, checks_failed"
   ]
  },
  {
   "cell_type": "code",
   "execution_count": 27,
   "id": "d1f8e6d7-e6f1-4a67-abef-062d95386464",
   "metadata": {},
   "outputs": [],
   "source": [
    "def check_patent_number(patent_number):    \n",
    "    cleaned_patent_number = clean_patent_number(patent_number)\n",
    "    checks_failed = False\n",
    "    # check US patent\n",
    "    if cleaned_patent_number[:2].upper() == 'US':\n",
    "        correct_patent_number, checks_failed = check_US_patent_number(cleaned_patent_number[:2])\n",
    "        if checks_failed == True:\n",
    "            correct_patent_number = correct_patent_number\n",
    "        else:\n",
    "            correct_patent_number = 'US' + correct_patent_number\n",
    "    # check WO patent (WO patents are granted by the World Intellectual Property Organization, also referred to as WIPO)\n",
    "    if cleaned_patent_number[:2].upper() == 'WO':\n",
    "        correct_patent_number = cleaned_patent_number\n",
    "    else:\n",
    "        correct_patent_number, checks_failed = check_US_patent_number(cleaned_patent_number)\n",
    "        if checks_failed == True:\n",
    "            correct_patent_number = correct_patent_number\n",
    "        else:\n",
    "            correct_patent_number = 'US' + correct_patent_number\n",
    "    # else:\n",
    "        # print(f'{correct_patent_number} not recognized')\n",
    "    return correct_patent_number, checks_failed"
   ]
  },
  {
   "cell_type": "code",
   "execution_count": 28,
   "id": "5e7c5b07-5cf7-46d7-bbad-79bf07016041",
   "metadata": {},
   "outputs": [],
   "source": [
    "def ignore_kind_in_patent_number(patent_number):\n",
    "    found_letter_after_number, part1, part2 = check_if_letter_after_number(patent_number)\n",
    "    correct_patent_number, checks_failed = check_patent_number(part1)\n",
    "    return correct_patent_number"
   ]
  },
  {
   "cell_type": "code",
   "execution_count": 29,
   "id": "2e4b3089-ae0a-4cd8-ac43-56ffde500ce6",
   "metadata": {},
   "outputs": [],
   "source": [
    "def check_list_patent_numbers(list_patent_numbers):\n",
    "    # if there is list of lists, flatten it\n",
    "    flatten_list_patent_numbers = flatten_list(list_patent_numbers)\n",
    "    correct_list_patent_numbers = []\n",
    "    for patent_number in flatten_list_patent_numbers:\n",
    "        cleaned_patent_number = clean_patent_number(patent_number)\n",
    "        if cleaned_patent_number is not None and len(cleaned_patent_number) > 0:\n",
    "            found_letter_after_number, part1, part2 = check_if_letter_after_number(cleaned_patent_number)\n",
    "            correct_patent_number, checks_failed = check_patent_number(part1)\n",
    "            correct_list_patent_numbers.append(correct_patent_number)\n",
    "        # else:\n",
    "        #     print(patent_number)\n",
    "    return correct_list_patent_numbers"
   ]
  },
  {
   "cell_type": "code",
   "execution_count": 30,
   "id": "60b8c001-06d6-49f6-a6fb-053959bee02e",
   "metadata": {},
   "outputs": [],
   "source": [
    "def is_utility(patent_number):\n",
    "    cleaned_patent_number = clean_patent_number(patent_number)\n",
    "    # check US patent\n",
    "    if cleaned_patent_number[:2].upper() == 'US':\n",
    "        cleaned_patent_number = cleaned_patent_number[2:]\n",
    "    if cleaned_patent_number.isnumeric() == True and len(cleaned_patent_number) in [6,7,8]:\n",
    "        return True\n",
    "    else:\n",
    "        return False"
   ]
  },
  {
   "cell_type": "markdown",
   "id": "d498cc2c-a40c-480e-b0a9-07d815ea6304",
   "metadata": {},
   "source": [
    "## Adjusting uids"
   ]
  },
  {
   "cell_type": "code",
   "execution_count": 31,
   "id": "deb319ce-b933-493a-a529-88b9087eca58",
   "metadata": {},
   "outputs": [
    {
     "data": {
      "text/plain": [
       "5132884    US04004552\n",
       "5083907    US03935657\n",
       "5099029    US03958378\n",
       "5111590    US03977048\n",
       "5117624    US03985221\n",
       "              ...    \n",
       "5074220    USRE049214\n",
       "5074221    USRE049215\n",
       "5074222    USRE049216\n",
       "5074223    USRE049217\n",
       "5152156    US04030324\n",
       "Name: uid, Length: 7398829, dtype: object"
      ]
     },
     "execution_count": 31,
     "metadata": {},
     "output_type": "execute_result"
    }
   ],
   "source": [
    "correct_uids = time_ordered_all_patents_df_no_nan.uid.apply(lambda x: ignore_kind_in_patent_number(x))\n",
    "correct_uids"
   ]
  },
  {
   "cell_type": "code",
   "execution_count": 32,
   "id": "45ef9ad6-1b0f-4095-9411-8d78fb667328",
   "metadata": {},
   "outputs": [],
   "source": [
    "set_uids = set(correct_uids)"
   ]
  },
  {
   "cell_type": "code",
   "execution_count": 33,
   "id": "74879848-20bf-464c-879d-16fc4d44b213",
   "metadata": {},
   "outputs": [
    {
     "name": "stdout",
     "output_type": "stream",
     "text": [
      "7362866 7398829 0.9951393659726424\n",
      "There are 35963 duplicates\n"
     ]
    }
   ],
   "source": [
    "print(len(set_uids), len(correct_uids), len(set_uids) / len(correct_uids))\n",
    "print(f'There are {len(correct_uids) - len(set_uids)} duplicates')"
   ]
  },
  {
   "cell_type": "markdown",
   "id": "58c4f435-7cad-474a-bc78-ff49e25bccf1",
   "metadata": {},
   "source": [
    "Check if all are categorized correctly as US patent number"
   ]
  },
  {
   "cell_type": "code",
   "execution_count": 34,
   "id": "2cd03a60-3b5d-4868-bb13-1265269f4831",
   "metadata": {},
   "outputs": [
    {
     "name": "stderr",
     "output_type": "stream",
     "text": [
      "100%|██████████| 7398829/7398829 [00:03<00:00, 2182485.65it/s]"
     ]
    },
    {
     "name": "stdout",
     "output_type": "stream",
     "text": [
      "7398829 0 0\n"
     ]
    },
    {
     "name": "stderr",
     "output_type": "stream",
     "text": [
      "\n"
     ]
    }
   ],
   "source": [
    "US_uids = []\n",
    "WO_uids = []\n",
    "other_uids = []\n",
    "for uid in tqdm(correct_uids):\n",
    "    if uid[:2] == 'US':\n",
    "        US_uids.append(uid)\n",
    "    elif uid[:2] == 'WO':\n",
    "        WO_uids.append(uid)\n",
    "    else:\n",
    "        other_uids.append(uid)\n",
    "print(len(US_uids), len(WO_uids), len(other_uids))"
   ]
  },
  {
   "cell_type": "markdown",
   "id": "81895ce1-974f-4b6a-aa36-567e05242bf4",
   "metadata": {},
   "source": [
    "Patents are categorized correctly as US patent number"
   ]
  },
  {
   "cell_type": "code",
   "execution_count": 35,
   "id": "01261030-ec75-434a-8ba3-41dc7ff5d05d",
   "metadata": {},
   "outputs": [],
   "source": [
    "correct_time_ordered_all_patents_df_no_nan['correct_uid'] = correct_uids"
   ]
  },
  {
   "cell_type": "markdown",
   "id": "d5b89674-146e-4adb-8a08-bce3c7c9d6e2",
   "metadata": {},
   "source": [
    "## Check all patents with grant date different than expected according to the uid"
   ]
  },
  {
   "cell_type": "code",
   "execution_count": 36,
   "id": "ba2af499-78a5-4d89-8e75-375f467c101b",
   "metadata": {},
   "outputs": [],
   "source": [
    "correct_time_ordered_all_patents_df_no_nan = correct_time_ordered_all_patents_df_no_nan.sort_values(['grant_date', 'correct_uid'], inplace=False)"
   ]
  },
  {
   "cell_type": "markdown",
   "id": "8e600957-6a1e-4d18-8548-8f37b2a787bf",
   "metadata": {},
   "source": [
    "Usually it's just a typo in the year"
   ]
  },
  {
   "cell_type": "markdown",
   "id": "e6d3e369-4d90-4aaa-a770-2f4b3a6ded39",
   "metadata": {},
   "source": [
    "Repeat from here if other problems have been found"
   ]
  },
  {
   "cell_type": "code",
   "execution_count": 37,
   "id": "aa855d29-b87a-41b3-a442-bcf605ba0dff",
   "metadata": {},
   "outputs": [],
   "source": [
    "time_ordered_uids = correct_time_ordered_all_patents_df_no_nan.correct_uid.values\n",
    "time_ordered_grant_dates = correct_time_ordered_all_patents_df_no_nan.grant_date.values\n",
    "time_ordered_years = correct_time_ordered_all_patents_df_no_nan.year.values"
   ]
  },
  {
   "cell_type": "code",
   "execution_count": 38,
   "id": "7c0838a6-ac25-4664-8694-7bbc1681c475",
   "metadata": {},
   "outputs": [
    {
     "name": "stderr",
     "output_type": "stream",
     "text": [
      "7398829it [00:13, 554198.35it/s]\n"
     ]
    }
   ],
   "source": [
    "previous_uid = ''\n",
    "problems = []\n",
    "for i, uid in tqdm(enumerate(time_ordered_uids[::-1])):\n",
    "    date = time_ordered_grant_dates[::-1][i]\n",
    "    if uid[2:].isnumeric() and previous_uid[2:].isnumeric() and int(uid[2:]) > int(previous_uid[2:]):\n",
    "        problems.append(uid)\n",
    "    previous_uid = uid"
   ]
  },
  {
   "cell_type": "code",
   "execution_count": 39,
   "id": "ad0928e5-b6d2-47ab-961e-6b1954d54929",
   "metadata": {},
   "outputs": [
    {
     "data": {
      "text/plain": [
       "15"
      ]
     },
     "execution_count": 39,
     "metadata": {},
     "output_type": "execute_result"
    }
   ],
   "source": [
    "len(problems)"
   ]
  },
  {
   "cell_type": "code",
   "execution_count": 40,
   "id": "64fbab40-9c2f-472d-9086-dd748afd1d54",
   "metadata": {},
   "outputs": [
    {
     "data": {
      "text/plain": [
       "['US06015565',\n",
       " 'US04759795',\n",
       " 'US04766723',\n",
       " 'US04719834',\n",
       " 'US04669808',\n",
       " 'US04395190',\n",
       " 'US04101077',\n",
       " 'US04097313',\n",
       " 'US04030279',\n",
       " 'US03976417',\n",
       " 'US03958783',\n",
       " 'US03958656',\n",
       " 'US04006890',\n",
       " 'US03993085',\n",
       " 'US04004552']"
      ]
     },
     "execution_count": 40,
     "metadata": {},
     "output_type": "execute_result"
    }
   ],
   "source": [
    "problems"
   ]
  },
  {
   "cell_type": "markdown",
   "id": "1a0f1c43-8933-4e01-bf8c-430cb1984481",
   "metadata": {},
   "source": [
    "Solving these problems by hand.\n",
    "\n",
    "Looking for \"US xxxxxxxx\" in https://ppubs.uspto.gov/pubwebapp/"
   ]
  },
  {
   "cell_type": "code",
   "execution_count": 41,
   "id": "87e9320e-bff1-4ece-8543-19c455fc9bf5",
   "metadata": {},
   "outputs": [
    {
     "name": "stdout",
     "output_type": "stream",
     "text": [
      "{\n",
      "\"US06015565\" : \"\",\n",
      "\"US04759795\" : \"\",\n",
      "\"US04766723\" : \"\",\n",
      "\"US04719834\" : \"\",\n",
      "\"US04669808\" : \"\",\n",
      "\"US04395190\" : \"\",\n",
      "\"US04101077\" : \"\",\n",
      "\"US04097313\" : \"\",\n",
      "\"US04030279\" : \"\",\n",
      "\"US03976417\" : \"\",\n",
      "\"US03958783\" : \"\",\n",
      "\"US03958656\" : \"\",\n",
      "\"US04006890\" : \"\",\n",
      "\"US03993085\" : \"\",\n",
      "\"US04004552\" : \"\",\n",
      "}\n"
     ]
    }
   ],
   "source": [
    "print(\"{\")\n",
    "for uid in problems:\n",
    "    print(f'\"{uid}\" : \"\",')\n",
    "print(\"}\")"
   ]
  },
  {
   "cell_type": "code",
   "execution_count": 42,
   "id": "9a705b3d-cbec-4169-9c53-62d146238d95",
   "metadata": {},
   "outputs": [],
   "source": [
    "new_grant_dates = \\\n",
    "{\n",
    "    \"US06015565\" : \"20000118\",\n",
    "    \"US04759795\" : \"19880726\",\n",
    "    \"US04766723\" : \"19880830\",\n",
    "    \"US04719834\" : \"19880119\",\n",
    "    \"US04669808\" : \"19870602\",\n",
    "    \"US04395190\" : \"19830726\",\n",
    "    \"US04101077\" : \"19780718\",\n",
    "    \"US04097313\" : \"19780627\",\n",
    "    \"US04030324\" : \"19770621\",\n",
    "    \"US04030279\" : \"19770621\",\n",
    "    \"US04006890\" : \"19770208\",\n",
    "    \"US04006600\" : \"19770208\",\n",
    "    \"US04004552\" : \"19770125\",\n",
    "    \"US03985221\" : \"19761012\",\n",
    "    \"US03977048\" : \"19760831\",\n",
    "    \"US03976417\" : \"19760824\",\n",
    "    \"US03958783\" : \"19760525\",\n",
    "    \"US03958656\" : \"19760525\", \n",
    "    \"US03958515\" : \"19760525\",\n",
    "    \"US03958378\" : \"19760525\",\n",
    "    \"US03993085\" : \"19761123\",\n",
    "    \"US03935657\" : \"19760203\",\n",
    "}"
   ]
  },
  {
   "cell_type": "code",
   "execution_count": 43,
   "id": "e0a073a0-4ae4-4e51-9ddb-d2d6202ff900",
   "metadata": {},
   "outputs": [],
   "source": [
    "time_ordered_uids_list = list(time_ordered_uids)\n",
    "for uid, date in new_grant_dates.items():\n",
    "    index = time_ordered_uids_list.index(uid)\n",
    "    time_ordered_grant_dates[index] = date\n",
    "    time_ordered_years[index] = int(date[:4])"
   ]
  },
  {
   "cell_type": "code",
   "execution_count": 44,
   "id": "4c0985a5-2564-413e-80e1-970913bd5e99",
   "metadata": {},
   "outputs": [],
   "source": [
    "correct_time_ordered_all_patents_df_no_nan.grant_date = time_ordered_grant_dates\n",
    "correct_time_ordered_all_patents_df_no_nan.year = time_ordered_years"
   ]
  },
  {
   "cell_type": "code",
   "execution_count": 45,
   "id": "84a1eaae-a07b-4a3d-bbf3-6a89da20de1a",
   "metadata": {},
   "outputs": [],
   "source": [
    "correct_time_ordered_all_patents_df_no_nan = correct_time_ordered_all_patents_df_no_nan.sort_values(['grant_date', 'correct_uid'], inplace=False)"
   ]
  },
  {
   "cell_type": "code",
   "execution_count": 46,
   "id": "29a2d71a-bc6f-4ac3-b294-36401a8083a1",
   "metadata": {},
   "outputs": [],
   "source": [
    "correct_time_ordered_all_patents_df_no_nan = correct_time_ordered_all_patents_df_no_nan.reset_index(drop = True)"
   ]
  },
  {
   "cell_type": "code",
   "execution_count": 47,
   "id": "01072c3f-9727-47ac-a56e-5e6394713ef5",
   "metadata": {},
   "outputs": [
    {
     "data": {
      "text/html": [
       "<div>\n",
       "<style scoped>\n",
       "    .dataframe tbody tr th:only-of-type {\n",
       "        vertical-align: middle;\n",
       "    }\n",
       "\n",
       "    .dataframe tbody tr th {\n",
       "        vertical-align: top;\n",
       "    }\n",
       "\n",
       "    .dataframe thead th {\n",
       "        text-align: right;\n",
       "    }\n",
       "</style>\n",
       "<table border=\"1\" class=\"dataframe\">\n",
       "  <thead>\n",
       "    <tr style=\"text-align: right;\">\n",
       "      <th></th>\n",
       "      <th>uid</th>\n",
       "      <th>grant_date</th>\n",
       "      <th>kind</th>\n",
       "      <th>app_date</th>\n",
       "      <th>abstract</th>\n",
       "      <th>title</th>\n",
       "      <th>citations</th>\n",
       "      <th>IPC_main_class</th>\n",
       "      <th>IPC_further_classes</th>\n",
       "      <th>IPC_edition</th>\n",
       "      <th>US_main_class</th>\n",
       "      <th>US_further_classes</th>\n",
       "      <th>US_edition</th>\n",
       "      <th>inventors</th>\n",
       "      <th>year</th>\n",
       "      <th>correct_uid</th>\n",
       "    </tr>\n",
       "  </thead>\n",
       "  <tbody>\n",
       "    <tr>\n",
       "      <th>0</th>\n",
       "      <td>3930271</td>\n",
       "      <td>19760106</td>\n",
       "      <td>Utility</td>\n",
       "      <td>19741216</td>\n",
       "      <td>A golf glove is disclosed having an extra fing...</td>\n",
       "      <td>Golf glove</td>\n",
       "      <td>[2379430, 2782422]</td>\n",
       "      <td>A41D 1900</td>\n",
       "      <td>[]</td>\n",
       "      <td></td>\n",
       "      <td>2161A</td>\n",
       "      <td>2 21</td>\n",
       "      <td>2</td>\n",
       "      <td>[Kahng; He Chung]</td>\n",
       "      <td>1976</td>\n",
       "      <td>US03930271</td>\n",
       "    </tr>\n",
       "    <tr>\n",
       "      <th>1</th>\n",
       "      <td>3930272</td>\n",
       "      <td>19760106</td>\n",
       "      <td>Utility</td>\n",
       "      <td>19740910</td>\n",
       "      <td>A lock for a height-adjustable crib or playpen...</td>\n",
       "      <td>Crib leg lock</td>\n",
       "      <td>[933921, 1549144, 1609246, 1667080, 1834468, 2...</td>\n",
       "      <td>A47D  701</td>\n",
       "      <td>[]</td>\n",
       "      <td></td>\n",
       "      <td>5 11</td>\n",
       "      <td>[5100, 248423, 403107]</td>\n",
       "      <td>2</td>\n",
       "      <td>[Boudreau; Robert J.]</td>\n",
       "      <td>1976</td>\n",
       "      <td>US03930272</td>\n",
       "    </tr>\n",
       "    <tr>\n",
       "      <th>2</th>\n",
       "      <td>3930273</td>\n",
       "      <td>19760106</td>\n",
       "      <td>Utility</td>\n",
       "      <td>19750110</td>\n",
       "      <td>A bed safety side rail arrangement which inclu...</td>\n",
       "      <td>Bed safety side rail arrangement</td>\n",
       "      <td>[1240201, 2817855, 3093839, 3125769, 3175453, ...</td>\n",
       "      <td>A47D  702</td>\n",
       "      <td>[A47C 2100]</td>\n",
       "      <td></td>\n",
       "      <td>5331</td>\n",
       "      <td>5100</td>\n",
       "      <td>2</td>\n",
       "      <td>[Stern; Robert C.]</td>\n",
       "      <td>1976</td>\n",
       "      <td>US03930273</td>\n",
       "    </tr>\n",
       "    <tr>\n",
       "      <th>3</th>\n",
       "      <td>3930274</td>\n",
       "      <td>19760106</td>\n",
       "      <td>Utility</td>\n",
       "      <td>19741011</td>\n",
       "      <td>The assembly includes a longitudinal axis and ...</td>\n",
       "      <td>Assembly for use in recreational activities</td>\n",
       "      <td>[2546396, 3064370, 3601076]</td>\n",
       "      <td>B63B  708</td>\n",
       "      <td>[]</td>\n",
       "      <td></td>\n",
       "      <td>9  2A</td>\n",
       "      <td>[150 51, 220 12]</td>\n",
       "      <td>2</td>\n",
       "      <td>[Syfritt; Harold A.]</td>\n",
       "      <td>1976</td>\n",
       "      <td>US03930274</td>\n",
       "    </tr>\n",
       "    <tr>\n",
       "      <th>4</th>\n",
       "      <td>3930275</td>\n",
       "      <td>19760106</td>\n",
       "      <td>Utility</td>\n",
       "      <td>19750331</td>\n",
       "      <td>A novel slipper and its method of fabrication ...</td>\n",
       "      <td>Method of fabricating a slipper</td>\n",
       "      <td>[914377, 2971278, 3311937]</td>\n",
       "      <td>A43D  900</td>\n",
       "      <td>[]</td>\n",
       "      <td></td>\n",
       "      <td>12142S</td>\n",
       "      <td>[]</td>\n",
       "      <td>2</td>\n",
       "      <td>[Bailin; Richard]</td>\n",
       "      <td>1976</td>\n",
       "      <td>US03930275</td>\n",
       "    </tr>\n",
       "    <tr>\n",
       "      <th>...</th>\n",
       "      <td>...</td>\n",
       "      <td>...</td>\n",
       "      <td>...</td>\n",
       "      <td>...</td>\n",
       "      <td>...</td>\n",
       "      <td>...</td>\n",
       "      <td>...</td>\n",
       "      <td>...</td>\n",
       "      <td>...</td>\n",
       "      <td>...</td>\n",
       "      <td>...</td>\n",
       "      <td>...</td>\n",
       "      <td>...</td>\n",
       "      <td>...</td>\n",
       "      <td>...</td>\n",
       "      <td>...</td>\n",
       "    </tr>\n",
       "    <tr>\n",
       "      <th>7398824</th>\n",
       "      <td>RE049213</td>\n",
       "      <td>20220920</td>\n",
       "      <td>E1</td>\n",
       "      <td>20200723</td>\n",
       "      <td>A media pack for including in a filter cartri...</td>\n",
       "      <td>Air filter arrangement; air cleaner assembly; ...</td>\n",
       "      <td>[]</td>\n",
       "      <td>B01D 46/52</td>\n",
       "      <td>[B01D 46/00, F02M 35/024]</td>\n",
       "      <td>20060101</td>\n",
       "      <td>B01D 46/526</td>\n",
       "      <td>[B01D 46/0005, B01D 46/522, B01D 46/525, F02M ...</td>\n",
       "      <td>20130101</td>\n",
       "      <td>[Nelson; Benny K., Nelson; David W.]</td>\n",
       "      <td>2022</td>\n",
       "      <td>USRE049213</td>\n",
       "    </tr>\n",
       "    <tr>\n",
       "      <th>7398825</th>\n",
       "      <td>RE049214</td>\n",
       "      <td>20220920</td>\n",
       "      <td>E1</td>\n",
       "      <td>20190524</td>\n",
       "      <td>An aircraft, the aircraft including a whole-a...</td>\n",
       "      <td>Intelligent ballistic parachute system that pe...</td>\n",
       "      <td>[]</td>\n",
       "      <td>B64D 17/34</td>\n",
       "      <td>[B64C 13/04, B64D 17/72, B64D 17/00]</td>\n",
       "      <td>20060101</td>\n",
       "      <td>B64D 17/343</td>\n",
       "      <td>[B64C 13/04, B64D 17/725]</td>\n",
       "      <td>20130101</td>\n",
       "      <td>[Fleming, III; Hoyt Augustus]</td>\n",
       "      <td>2022</td>\n",
       "      <td>USRE049214</td>\n",
       "    </tr>\n",
       "    <tr>\n",
       "      <th>7398826</th>\n",
       "      <td>RE049215</td>\n",
       "      <td>20220920</td>\n",
       "      <td>E1</td>\n",
       "      <td>20200517</td>\n",
       "      <td>A wave forming apparatus has a channel for co...</td>\n",
       "      <td>Wave generating apparatus and method</td>\n",
       "      <td>[]</td>\n",
       "      <td>E04H 4/00</td>\n",
       "      <td>[A63G 31/00, A63B 69/00, A63B 71/04]</td>\n",
       "      <td>20060101</td>\n",
       "      <td>E04H 4/0006</td>\n",
       "      <td>[A63B 69/0093, A63B 71/04, A63G 31/007, Y10T 2...</td>\n",
       "      <td>20130101</td>\n",
       "      <td>[McFarland; Bruce]</td>\n",
       "      <td>2022</td>\n",
       "      <td>USRE049215</td>\n",
       "    </tr>\n",
       "    <tr>\n",
       "      <th>7398827</th>\n",
       "      <td>RE049216</td>\n",
       "      <td>20220920</td>\n",
       "      <td>E1</td>\n",
       "      <td>20160908</td>\n",
       "      <td>A heat sink system to conduct heat away from ...</td>\n",
       "      <td>Heat sink system having thermally conductive rods</td>\n",
       "      <td>[]</td>\n",
       "      <td>H01L 23/427</td>\n",
       "      <td>[F28F 13/00, F28F 3/02]</td>\n",
       "      <td>20060101</td>\n",
       "      <td>H01L 23/427</td>\n",
       "      <td>[F28F 13/00, F28F 3/022, F28F 2013/005, H01L 2...</td>\n",
       "      <td>20130101</td>\n",
       "      <td>[Lin; Philip]</td>\n",
       "      <td>2022</td>\n",
       "      <td>USRE049216</td>\n",
       "    </tr>\n",
       "    <tr>\n",
       "      <th>7398828</th>\n",
       "      <td>RE049217</td>\n",
       "      <td>20220920</td>\n",
       "      <td>E1</td>\n",
       "      <td>20200710</td>\n",
       "      <td>A monitoring system 22 for a distributed ante...</td>\n",
       "      <td>Monitoring system for a distributed antenna sy...</td>\n",
       "      <td>[]</td>\n",
       "      <td>H04B 17/00</td>\n",
       "      <td>[H04B 17/16, G01R 29/08, H04B 17/40, H04W 24/1...</td>\n",
       "      <td>20150101</td>\n",
       "      <td>H04B 17/16</td>\n",
       "      <td>[H04B 17/17, G01R 29/0878, G01R 29/10, H04B 17...</td>\n",
       "      <td>20150115</td>\n",
       "      <td>[Fourie; Andries Petrus Cronje, Nitch; Derek C...</td>\n",
       "      <td>2022</td>\n",
       "      <td>USRE049217</td>\n",
       "    </tr>\n",
       "  </tbody>\n",
       "</table>\n",
       "<p>7398829 rows × 16 columns</p>\n",
       "</div>"
      ],
      "text/plain": [
       "              uid grant_date     kind  app_date  \\\n",
       "0         3930271   19760106  Utility  19741216   \n",
       "1         3930272   19760106  Utility  19740910   \n",
       "2         3930273   19760106  Utility  19750110   \n",
       "3         3930274   19760106  Utility  19741011   \n",
       "4         3930275   19760106  Utility  19750331   \n",
       "...           ...        ...      ...       ...   \n",
       "7398824  RE049213   20220920       E1  20200723   \n",
       "7398825  RE049214   20220920       E1  20190524   \n",
       "7398826  RE049215   20220920       E1  20200517   \n",
       "7398827  RE049216   20220920       E1  20160908   \n",
       "7398828  RE049217   20220920       E1  20200710   \n",
       "\n",
       "                                                  abstract  \\\n",
       "0        A golf glove is disclosed having an extra fing...   \n",
       "1        A lock for a height-adjustable crib or playpen...   \n",
       "2        A bed safety side rail arrangement which inclu...   \n",
       "3        The assembly includes a longitudinal axis and ...   \n",
       "4        A novel slipper and its method of fabrication ...   \n",
       "...                                                    ...   \n",
       "7398824   A media pack for including in a filter cartri...   \n",
       "7398825   An aircraft, the aircraft including a whole-a...   \n",
       "7398826   A wave forming apparatus has a channel for co...   \n",
       "7398827   A heat sink system to conduct heat away from ...   \n",
       "7398828   A monitoring system 22 for a distributed ante...   \n",
       "\n",
       "                                                     title  \\\n",
       "0                                               Golf glove   \n",
       "1                                            Crib leg lock   \n",
       "2                         Bed safety side rail arrangement   \n",
       "3              Assembly for use in recreational activities   \n",
       "4                          Method of fabricating a slipper   \n",
       "...                                                    ...   \n",
       "7398824  Air filter arrangement; air cleaner assembly; ...   \n",
       "7398825  Intelligent ballistic parachute system that pe...   \n",
       "7398826               Wave generating apparatus and method   \n",
       "7398827  Heat sink system having thermally conductive rods   \n",
       "7398828  Monitoring system for a distributed antenna sy...   \n",
       "\n",
       "                                                 citations IPC_main_class  \\\n",
       "0                                       [2379430, 2782422]      A41D 1900   \n",
       "1        [933921, 1549144, 1609246, 1667080, 1834468, 2...      A47D  701   \n",
       "2        [1240201, 2817855, 3093839, 3125769, 3175453, ...      A47D  702   \n",
       "3                              [2546396, 3064370, 3601076]      B63B  708   \n",
       "4                               [914377, 2971278, 3311937]      A43D  900   \n",
       "...                                                    ...            ...   \n",
       "7398824                                                 []     B01D 46/52   \n",
       "7398825                                                 []     B64D 17/34   \n",
       "7398826                                                 []      E04H 4/00   \n",
       "7398827                                                 []    H01L 23/427   \n",
       "7398828                                                 []     H04B 17/00   \n",
       "\n",
       "                                       IPC_further_classes IPC_edition  \\\n",
       "0                                                       []               \n",
       "1                                                       []               \n",
       "2                                              [A47C 2100]               \n",
       "3                                                       []               \n",
       "4                                                       []               \n",
       "...                                                    ...         ...   \n",
       "7398824                          [B01D 46/00, F02M 35/024]    20060101   \n",
       "7398825               [B64C 13/04, B64D 17/72, B64D 17/00]    20060101   \n",
       "7398826               [A63G 31/00, A63B 69/00, A63B 71/04]    20060101   \n",
       "7398827                            [F28F 13/00, F28F 3/02]    20060101   \n",
       "7398828  [H04B 17/16, G01R 29/08, H04B 17/40, H04W 24/1...    20150101   \n",
       "\n",
       "        US_main_class                                 US_further_classes  \\\n",
       "0               2161A                                               2 21   \n",
       "1                5 11                             [5100, 248423, 403107]   \n",
       "2                5331                                               5100   \n",
       "3               9  2A                                   [150 51, 220 12]   \n",
       "4              12142S                                                 []   \n",
       "...               ...                                                ...   \n",
       "7398824   B01D 46/526  [B01D 46/0005, B01D 46/522, B01D 46/525, F02M ...   \n",
       "7398825   B64D 17/343                          [B64C 13/04, B64D 17/725]   \n",
       "7398826   E04H 4/0006  [A63B 69/0093, A63B 71/04, A63G 31/007, Y10T 2...   \n",
       "7398827   H01L 23/427  [F28F 13/00, F28F 3/022, F28F 2013/005, H01L 2...   \n",
       "7398828    H04B 17/16  [H04B 17/17, G01R 29/0878, G01R 29/10, H04B 17...   \n",
       "\n",
       "        US_edition                                          inventors  year  \\\n",
       "0                2                                  [Kahng; He Chung]  1976   \n",
       "1                2                              [Boudreau; Robert J.]  1976   \n",
       "2                2                                 [Stern; Robert C.]  1976   \n",
       "3                2                               [Syfritt; Harold A.]  1976   \n",
       "4                2                                  [Bailin; Richard]  1976   \n",
       "...            ...                                                ...   ...   \n",
       "7398824   20130101               [Nelson; Benny K., Nelson; David W.]  2022   \n",
       "7398825   20130101                      [Fleming, III; Hoyt Augustus]  2022   \n",
       "7398826   20130101                                 [McFarland; Bruce]  2022   \n",
       "7398827   20130101                                      [Lin; Philip]  2022   \n",
       "7398828   20150115  [Fourie; Andries Petrus Cronje, Nitch; Derek C...  2022   \n",
       "\n",
       "        correct_uid  \n",
       "0        US03930271  \n",
       "1        US03930272  \n",
       "2        US03930273  \n",
       "3        US03930274  \n",
       "4        US03930275  \n",
       "...             ...  \n",
       "7398824  USRE049213  \n",
       "7398825  USRE049214  \n",
       "7398826  USRE049215  \n",
       "7398827  USRE049216  \n",
       "7398828  USRE049217  \n",
       "\n",
       "[7398829 rows x 16 columns]"
      ]
     },
     "execution_count": 47,
     "metadata": {},
     "output_type": "execute_result"
    }
   ],
   "source": [
    "correct_time_ordered_all_patents_df_no_nan"
   ]
  },
  {
   "cell_type": "markdown",
   "id": "af3ebca3-8623-434b-95b7-e469d3752693",
   "metadata": {},
   "source": [
    "## Check kind of utility uids"
   ]
  },
  {
   "cell_type": "markdown",
   "id": "4bd777b1-0ac8-4445-8597-b6b32f928cd8",
   "metadata": {},
   "source": [
    "Utility patents had kind \"A\" before 2001, and \"B1\" and \"B2\" afterwards.\n",
    "\n",
    "The difference between \"B1\" and \"B2\" is that in B1 there is no published application before it was grant as a patent, while B2 has had a pre-grant published application.\n",
    "\n",
    "Therefore, we will keep all these 3 categories, since in our database we do not have applications, but only grant patents."
   ]
  },
  {
   "cell_type": "code",
   "execution_count": 48,
   "id": "6dc1dddc-f691-4489-bdbc-a234b35df87c",
   "metadata": {},
   "outputs": [],
   "source": [
    "is_utility_list = correct_time_ordered_all_patents_df_no_nan.uid.apply(lambda x: is_utility(x))"
   ]
  },
  {
   "cell_type": "code",
   "execution_count": 49,
   "id": "fc5fc675-11d0-499a-b4a5-0259ddf4a9a1",
   "metadata": {},
   "outputs": [],
   "source": [
    "correct_time_ordered_all_patents_df_no_nan['is_utility'] = is_utility_list"
   ]
  },
  {
   "cell_type": "code",
   "execution_count": 50,
   "id": "af666941-6047-4eb9-a8c1-c84d720dd3bb",
   "metadata": {},
   "outputs": [],
   "source": [
    "utility_time_ordered_all_patents_df_no_nan = correct_time_ordered_all_patents_df_no_nan[correct_time_ordered_all_patents_df_no_nan['is_utility']].reset_index(drop = True)"
   ]
  },
  {
   "cell_type": "code",
   "execution_count": 51,
   "id": "80f6d0e5-aeab-49ef-8af3-5fdef86c5d82",
   "metadata": {},
   "outputs": [
    {
     "data": {
      "text/html": [
       "<div>\n",
       "<style scoped>\n",
       "    .dataframe tbody tr th:only-of-type {\n",
       "        vertical-align: middle;\n",
       "    }\n",
       "\n",
       "    .dataframe tbody tr th {\n",
       "        vertical-align: top;\n",
       "    }\n",
       "\n",
       "    .dataframe thead th {\n",
       "        text-align: right;\n",
       "    }\n",
       "</style>\n",
       "<table border=\"1\" class=\"dataframe\">\n",
       "  <thead>\n",
       "    <tr style=\"text-align: right;\">\n",
       "      <th></th>\n",
       "      <th>uid</th>\n",
       "      <th>grant_date</th>\n",
       "      <th>kind</th>\n",
       "      <th>app_date</th>\n",
       "      <th>abstract</th>\n",
       "      <th>title</th>\n",
       "      <th>citations</th>\n",
       "      <th>IPC_main_class</th>\n",
       "      <th>IPC_further_classes</th>\n",
       "      <th>IPC_edition</th>\n",
       "      <th>US_main_class</th>\n",
       "      <th>US_further_classes</th>\n",
       "      <th>US_edition</th>\n",
       "      <th>inventors</th>\n",
       "      <th>year</th>\n",
       "      <th>correct_uid</th>\n",
       "      <th>is_utility</th>\n",
       "    </tr>\n",
       "  </thead>\n",
       "  <tbody>\n",
       "    <tr>\n",
       "      <th>0</th>\n",
       "      <td>3930271</td>\n",
       "      <td>19760106</td>\n",
       "      <td>Utility</td>\n",
       "      <td>19741216</td>\n",
       "      <td>A golf glove is disclosed having an extra fing...</td>\n",
       "      <td>Golf glove</td>\n",
       "      <td>[2379430, 2782422]</td>\n",
       "      <td>A41D 1900</td>\n",
       "      <td>[]</td>\n",
       "      <td></td>\n",
       "      <td>2161A</td>\n",
       "      <td>2 21</td>\n",
       "      <td>2</td>\n",
       "      <td>[Kahng; He Chung]</td>\n",
       "      <td>1976</td>\n",
       "      <td>US03930271</td>\n",
       "      <td>True</td>\n",
       "    </tr>\n",
       "    <tr>\n",
       "      <th>1</th>\n",
       "      <td>3930272</td>\n",
       "      <td>19760106</td>\n",
       "      <td>Utility</td>\n",
       "      <td>19740910</td>\n",
       "      <td>A lock for a height-adjustable crib or playpen...</td>\n",
       "      <td>Crib leg lock</td>\n",
       "      <td>[933921, 1549144, 1609246, 1667080, 1834468, 2...</td>\n",
       "      <td>A47D  701</td>\n",
       "      <td>[]</td>\n",
       "      <td></td>\n",
       "      <td>5 11</td>\n",
       "      <td>[5100, 248423, 403107]</td>\n",
       "      <td>2</td>\n",
       "      <td>[Boudreau; Robert J.]</td>\n",
       "      <td>1976</td>\n",
       "      <td>US03930272</td>\n",
       "      <td>True</td>\n",
       "    </tr>\n",
       "    <tr>\n",
       "      <th>2</th>\n",
       "      <td>3930273</td>\n",
       "      <td>19760106</td>\n",
       "      <td>Utility</td>\n",
       "      <td>19750110</td>\n",
       "      <td>A bed safety side rail arrangement which inclu...</td>\n",
       "      <td>Bed safety side rail arrangement</td>\n",
       "      <td>[1240201, 2817855, 3093839, 3125769, 3175453, ...</td>\n",
       "      <td>A47D  702</td>\n",
       "      <td>[A47C 2100]</td>\n",
       "      <td></td>\n",
       "      <td>5331</td>\n",
       "      <td>5100</td>\n",
       "      <td>2</td>\n",
       "      <td>[Stern; Robert C.]</td>\n",
       "      <td>1976</td>\n",
       "      <td>US03930273</td>\n",
       "      <td>True</td>\n",
       "    </tr>\n",
       "    <tr>\n",
       "      <th>3</th>\n",
       "      <td>3930274</td>\n",
       "      <td>19760106</td>\n",
       "      <td>Utility</td>\n",
       "      <td>19741011</td>\n",
       "      <td>The assembly includes a longitudinal axis and ...</td>\n",
       "      <td>Assembly for use in recreational activities</td>\n",
       "      <td>[2546396, 3064370, 3601076]</td>\n",
       "      <td>B63B  708</td>\n",
       "      <td>[]</td>\n",
       "      <td></td>\n",
       "      <td>9  2A</td>\n",
       "      <td>[150 51, 220 12]</td>\n",
       "      <td>2</td>\n",
       "      <td>[Syfritt; Harold A.]</td>\n",
       "      <td>1976</td>\n",
       "      <td>US03930274</td>\n",
       "      <td>True</td>\n",
       "    </tr>\n",
       "    <tr>\n",
       "      <th>4</th>\n",
       "      <td>3930275</td>\n",
       "      <td>19760106</td>\n",
       "      <td>Utility</td>\n",
       "      <td>19750331</td>\n",
       "      <td>A novel slipper and its method of fabrication ...</td>\n",
       "      <td>Method of fabricating a slipper</td>\n",
       "      <td>[914377, 2971278, 3311937]</td>\n",
       "      <td>A43D  900</td>\n",
       "      <td>[]</td>\n",
       "      <td></td>\n",
       "      <td>12142S</td>\n",
       "      <td>[]</td>\n",
       "      <td>2</td>\n",
       "      <td>[Bailin; Richard]</td>\n",
       "      <td>1976</td>\n",
       "      <td>US03930275</td>\n",
       "      <td>True</td>\n",
       "    </tr>\n",
       "    <tr>\n",
       "      <th>...</th>\n",
       "      <td>...</td>\n",
       "      <td>...</td>\n",
       "      <td>...</td>\n",
       "      <td>...</td>\n",
       "      <td>...</td>\n",
       "      <td>...</td>\n",
       "      <td>...</td>\n",
       "      <td>...</td>\n",
       "      <td>...</td>\n",
       "      <td>...</td>\n",
       "      <td>...</td>\n",
       "      <td>...</td>\n",
       "      <td>...</td>\n",
       "      <td>...</td>\n",
       "      <td>...</td>\n",
       "      <td>...</td>\n",
       "      <td>...</td>\n",
       "    </tr>\n",
       "    <tr>\n",
       "      <th>6606209</th>\n",
       "      <td>11452247</td>\n",
       "      <td>20220920</td>\n",
       "      <td>B2</td>\n",
       "      <td>20191119</td>\n",
       "      <td>A carrier tape has a central portion, and fir...</td>\n",
       "      <td>Multi-row carrier tape with alternating, stagg...</td>\n",
       "      <td>[]</td>\n",
       "      <td>H01L 21/673</td>\n",
       "      <td>[H05K 13/00]</td>\n",
       "      <td>20060101</td>\n",
       "      <td>H05K 13/0084</td>\n",
       "      <td>[H01L 21/67333, H01L 2221/68313]</td>\n",
       "      <td>20130101</td>\n",
       "      <td>[Oliverius; Todd M.]</td>\n",
       "      <td>2022</td>\n",
       "      <td>US11452247</td>\n",
       "      <td>True</td>\n",
       "    </tr>\n",
       "    <tr>\n",
       "      <th>6606210</th>\n",
       "      <td>11452248</td>\n",
       "      <td>20220920</td>\n",
       "      <td>B2</td>\n",
       "      <td>20170208</td>\n",
       "      <td>A work machine including a work head includin...</td>\n",
       "      <td>Work machine</td>\n",
       "      <td>[]</td>\n",
       "      <td>H05K 13/02</td>\n",
       "      <td>[H05K 13/04, B25J 15/06, G05B 19/4061, H05K 13...</td>\n",
       "      <td>20060101</td>\n",
       "      <td>H05K 13/022</td>\n",
       "      <td>[B25J 9/1676, B25J 15/06, B25J 15/0616, G05B 1...</td>\n",
       "      <td>20130101</td>\n",
       "      <td>[Matsumoto; Toru]</td>\n",
       "      <td>2022</td>\n",
       "      <td>US11452248</td>\n",
       "      <td>True</td>\n",
       "    </tr>\n",
       "    <tr>\n",
       "      <th>6606211</th>\n",
       "      <td>11452249</td>\n",
       "      <td>20220920</td>\n",
       "      <td>B2</td>\n",
       "      <td>20181205</td>\n",
       "      <td>A carrier for reversibly immobilizing one or ...</td>\n",
       "      <td>Carrier for reversibly immobilizing one or mor...</td>\n",
       "      <td>[]</td>\n",
       "      <td>H05K 13/04</td>\n",
       "      <td>[B29C 48/08, B29C 48/00, B65B 15/04, B65D 73/0...</td>\n",
       "      <td>20060101</td>\n",
       "      <td>H05K 13/0419</td>\n",
       "      <td>[B29C 48/0021, B29C 48/08, B65B 15/04, B65D 73...</td>\n",
       "      <td>20180801</td>\n",
       "      <td>[Varma; Rajesh Kumar]</td>\n",
       "      <td>2022</td>\n",
       "      <td>US11452249</td>\n",
       "      <td>True</td>\n",
       "    </tr>\n",
       "    <tr>\n",
       "      <th>6606212</th>\n",
       "      <td>11452250</td>\n",
       "      <td>20220920</td>\n",
       "      <td>B2</td>\n",
       "      <td>20190808</td>\n",
       "      <td>A substrate inspection device that is placed ...</td>\n",
       "      <td>Substrate inspection device that inspects appl...</td>\n",
       "      <td>[]</td>\n",
       "      <td>H05K 13/08</td>\n",
       "      <td>[G06T 7/11, G01N 21/956, G06T 7/00, H05K 3/34,...</td>\n",
       "      <td>20060101</td>\n",
       "      <td>H05K 13/0817</td>\n",
       "      <td>[G01N 21/95684, G06T 7/0006, G06T 7/11, H05K 3...</td>\n",
       "      <td>20180801</td>\n",
       "      <td>[Futamura; Ikuo, Ohyama; Tsuyoshi, Sakaida; No...</td>\n",
       "      <td>2022</td>\n",
       "      <td>US11452250</td>\n",
       "      <td>True</td>\n",
       "    </tr>\n",
       "    <tr>\n",
       "      <th>6606213</th>\n",
       "      <td>11452251</td>\n",
       "      <td>20220920</td>\n",
       "      <td>B2</td>\n",
       "      <td>20171207</td>\n",
       "      <td>An information management device for managing...</td>\n",
       "      <td>Information management device</td>\n",
       "      <td>[]</td>\n",
       "      <td>B23P 19/00</td>\n",
       "      <td>[H05K 13/08, H05K 13/04]</td>\n",
       "      <td>20060101</td>\n",
       "      <td>H05K 13/089</td>\n",
       "      <td>[H05K 13/0408, H05K 13/0812, H05K 13/0818, Y10...</td>\n",
       "      <td>20180801</td>\n",
       "      <td>[Fujii; Kimio]</td>\n",
       "      <td>2022</td>\n",
       "      <td>US11452251</td>\n",
       "      <td>True</td>\n",
       "    </tr>\n",
       "  </tbody>\n",
       "</table>\n",
       "<p>6606214 rows × 17 columns</p>\n",
       "</div>"
      ],
      "text/plain": [
       "              uid grant_date     kind  app_date  \\\n",
       "0         3930271   19760106  Utility  19741216   \n",
       "1         3930272   19760106  Utility  19740910   \n",
       "2         3930273   19760106  Utility  19750110   \n",
       "3         3930274   19760106  Utility  19741011   \n",
       "4         3930275   19760106  Utility  19750331   \n",
       "...           ...        ...      ...       ...   \n",
       "6606209  11452247   20220920       B2  20191119   \n",
       "6606210  11452248   20220920       B2  20170208   \n",
       "6606211  11452249   20220920       B2  20181205   \n",
       "6606212  11452250   20220920       B2  20190808   \n",
       "6606213  11452251   20220920       B2  20171207   \n",
       "\n",
       "                                                  abstract  \\\n",
       "0        A golf glove is disclosed having an extra fing...   \n",
       "1        A lock for a height-adjustable crib or playpen...   \n",
       "2        A bed safety side rail arrangement which inclu...   \n",
       "3        The assembly includes a longitudinal axis and ...   \n",
       "4        A novel slipper and its method of fabrication ...   \n",
       "...                                                    ...   \n",
       "6606209   A carrier tape has a central portion, and fir...   \n",
       "6606210   A work machine including a work head includin...   \n",
       "6606211   A carrier for reversibly immobilizing one or ...   \n",
       "6606212   A substrate inspection device that is placed ...   \n",
       "6606213   An information management device for managing...   \n",
       "\n",
       "                                                     title  \\\n",
       "0                                               Golf glove   \n",
       "1                                            Crib leg lock   \n",
       "2                         Bed safety side rail arrangement   \n",
       "3              Assembly for use in recreational activities   \n",
       "4                          Method of fabricating a slipper   \n",
       "...                                                    ...   \n",
       "6606209  Multi-row carrier tape with alternating, stagg...   \n",
       "6606210                                       Work machine   \n",
       "6606211  Carrier for reversibly immobilizing one or mor...   \n",
       "6606212  Substrate inspection device that inspects appl...   \n",
       "6606213                      Information management device   \n",
       "\n",
       "                                                 citations IPC_main_class  \\\n",
       "0                                       [2379430, 2782422]      A41D 1900   \n",
       "1        [933921, 1549144, 1609246, 1667080, 1834468, 2...      A47D  701   \n",
       "2        [1240201, 2817855, 3093839, 3125769, 3175453, ...      A47D  702   \n",
       "3                              [2546396, 3064370, 3601076]      B63B  708   \n",
       "4                               [914377, 2971278, 3311937]      A43D  900   \n",
       "...                                                    ...            ...   \n",
       "6606209                                                 []    H01L 21/673   \n",
       "6606210                                                 []     H05K 13/02   \n",
       "6606211                                                 []     H05K 13/04   \n",
       "6606212                                                 []     H05K 13/08   \n",
       "6606213                                                 []     B23P 19/00   \n",
       "\n",
       "                                       IPC_further_classes IPC_edition  \\\n",
       "0                                                       []               \n",
       "1                                                       []               \n",
       "2                                              [A47C 2100]               \n",
       "3                                                       []               \n",
       "4                                                       []               \n",
       "...                                                    ...         ...   \n",
       "6606209                                       [H05K 13/00]    20060101   \n",
       "6606210  [H05K 13/04, B25J 15/06, G05B 19/4061, H05K 13...    20060101   \n",
       "6606211  [B29C 48/08, B29C 48/00, B65B 15/04, B65D 73/0...    20060101   \n",
       "6606212  [G06T 7/11, G01N 21/956, G06T 7/00, H05K 3/34,...    20060101   \n",
       "6606213                           [H05K 13/08, H05K 13/04]    20060101   \n",
       "\n",
       "        US_main_class                                 US_further_classes  \\\n",
       "0               2161A                                               2 21   \n",
       "1                5 11                             [5100, 248423, 403107]   \n",
       "2                5331                                               5100   \n",
       "3               9  2A                                   [150 51, 220 12]   \n",
       "4              12142S                                                 []   \n",
       "...               ...                                                ...   \n",
       "6606209  H05K 13/0084                   [H01L 21/67333, H01L 2221/68313]   \n",
       "6606210   H05K 13/022  [B25J 9/1676, B25J 15/06, B25J 15/0616, G05B 1...   \n",
       "6606211  H05K 13/0419  [B29C 48/0021, B29C 48/08, B65B 15/04, B65D 73...   \n",
       "6606212  H05K 13/0817  [G01N 21/95684, G06T 7/0006, G06T 7/11, H05K 3...   \n",
       "6606213   H05K 13/089  [H05K 13/0408, H05K 13/0812, H05K 13/0818, Y10...   \n",
       "\n",
       "        US_edition                                          inventors  year  \\\n",
       "0                2                                  [Kahng; He Chung]  1976   \n",
       "1                2                              [Boudreau; Robert J.]  1976   \n",
       "2                2                                 [Stern; Robert C.]  1976   \n",
       "3                2                               [Syfritt; Harold A.]  1976   \n",
       "4                2                                  [Bailin; Richard]  1976   \n",
       "...            ...                                                ...   ...   \n",
       "6606209   20130101                               [Oliverius; Todd M.]  2022   \n",
       "6606210   20130101                                  [Matsumoto; Toru]  2022   \n",
       "6606211   20180801                              [Varma; Rajesh Kumar]  2022   \n",
       "6606212   20180801  [Futamura; Ikuo, Ohyama; Tsuyoshi, Sakaida; No...  2022   \n",
       "6606213   20180801                                     [Fujii; Kimio]  2022   \n",
       "\n",
       "        correct_uid  is_utility  \n",
       "0        US03930271        True  \n",
       "1        US03930272        True  \n",
       "2        US03930273        True  \n",
       "3        US03930274        True  \n",
       "4        US03930275        True  \n",
       "...             ...         ...  \n",
       "6606209  US11452247        True  \n",
       "6606210  US11452248        True  \n",
       "6606211  US11452249        True  \n",
       "6606212  US11452250        True  \n",
       "6606213  US11452251        True  \n",
       "\n",
       "[6606214 rows x 17 columns]"
      ]
     },
     "execution_count": 51,
     "metadata": {},
     "output_type": "execute_result"
    }
   ],
   "source": [
    "utility_time_ordered_all_patents_df_no_nan"
   ]
  },
  {
   "cell_type": "code",
   "execution_count": 52,
   "id": "8e8f7365-9b2c-49b6-bd6d-f2b073a6a2de",
   "metadata": {},
   "outputs": [
    {
     "data": {
      "text/plain": [
       "B2         4392266\n",
       "Utility    1352129\n",
       "B1          859273\n",
       "A             2505\n",
       "Reissue         28\n",
       "Design          10\n",
       "TVPP             3\n",
       "Name: kind, dtype: int64"
      ]
     },
     "execution_count": 52,
     "metadata": {},
     "output_type": "execute_result"
    }
   ],
   "source": [
    "utility_time_ordered_all_patents_df_no_nan.kind.value_counts()"
   ]
  },
  {
   "cell_type": "code",
   "execution_count": 53,
   "id": "28dc95f8-c3e8-47b3-afa7-ff04949a4de1",
   "metadata": {},
   "outputs": [
    {
     "data": {
      "text/plain": [
       "1980    1\n",
       "1983    1\n",
       "1985    1\n",
       "Name: year, dtype: int64"
      ]
     },
     "execution_count": 53,
     "metadata": {},
     "output_type": "execute_result"
    }
   ],
   "source": [
    "utility_time_ordered_all_patents_df_no_nan[utility_time_ordered_all_patents_df_no_nan.kind == 'TVPP'].year.value_counts()"
   ]
  },
  {
   "cell_type": "markdown",
   "id": "5197f6d2-1a32-418c-9daf-805dac423f94",
   "metadata": {},
   "source": [
    "Checking the patents of kind \"Reissue\", \"Design\" and \"TVPP\", these are actually utility functions and are considered now as such."
   ]
  },
  {
   "cell_type": "code",
   "execution_count": 54,
   "id": "8572d2a0-7355-4c58-a16a-2f2c184b0900",
   "metadata": {},
   "outputs": [],
   "source": [
    "kind_list = list(utility_time_ordered_all_patents_df_no_nan.kind.values)"
   ]
  },
  {
   "cell_type": "code",
   "execution_count": 55,
   "id": "e16fc580-e3da-4153-a313-767215588c84",
   "metadata": {},
   "outputs": [
    {
     "name": "stderr",
     "output_type": "stream",
     "text": [
      "6606214it [00:03, 2047994.59it/s]\n"
     ]
    }
   ],
   "source": [
    "for i, kind in tqdm(enumerate(kind_list)):\n",
    "    if kind in ['Utility', 'Reissue', 'Design', 'TVPP', 'A']:\n",
    "        kind_list[i] = 'A'"
   ]
  },
  {
   "cell_type": "code",
   "execution_count": 56,
   "id": "dae11570-1294-4e65-8eb9-dae2808024c6",
   "metadata": {},
   "outputs": [],
   "source": [
    "utility_time_ordered_all_patents_df_no_nan.kind = kind_list"
   ]
  },
  {
   "cell_type": "code",
   "execution_count": 57,
   "id": "bc8c6672-5dd9-42b8-a04a-3fce5568d4d9",
   "metadata": {},
   "outputs": [
    {
     "data": {
      "text/plain": [
       "B2    4392266\n",
       "A     1354675\n",
       "B1     859273\n",
       "Name: kind, dtype: int64"
      ]
     },
     "execution_count": 57,
     "metadata": {},
     "output_type": "execute_result"
    }
   ],
   "source": [
    "utility_time_ordered_all_patents_df_no_nan.kind.value_counts()"
   ]
  },
  {
   "cell_type": "markdown",
   "id": "2abd4f3f-eed8-400b-a2c3-e6f4ecc948aa",
   "metadata": {
    "tags": []
   },
   "source": [
    "## Adjusting citations"
   ]
  },
  {
   "cell_type": "code",
   "execution_count": 58,
   "id": "afe08758-d709-4143-a448-73ae59628508",
   "metadata": {},
   "outputs": [
    {
     "data": {
      "text/plain": [
       "0                                   [US02379430, US02782422]\n",
       "1          [US00933921, US01549144, US01609246, US0166708...\n",
       "2          [US01240201, US02817855, US03093839, US0312576...\n",
       "3                       [US02546396, US03064370, US03601076]\n",
       "4                       [US00914377, US02971278, US03311937]\n",
       "                                 ...                        \n",
       "6606209                                                   []\n",
       "6606210                                                   []\n",
       "6606211                                                   []\n",
       "6606212                                                   []\n",
       "6606213                                                   []\n",
       "Name: citations, Length: 6606214, dtype: object"
      ]
     },
     "execution_count": 58,
     "metadata": {},
     "output_type": "execute_result"
    }
   ],
   "source": [
    "correct_citations = utility_time_ordered_all_patents_df_no_nan.citations.apply(lambda x: check_list_patent_numbers(x))\n",
    "correct_citations"
   ]
  },
  {
   "cell_type": "code",
   "execution_count": 59,
   "id": "b4e29265-2028-4004-aea5-77be424d26f4",
   "metadata": {},
   "outputs": [],
   "source": [
    "correct_uids = list(utility_time_ordered_all_patents_df_no_nan.correct_uid)\n",
    "years = list(utility_time_ordered_all_patents_df_no_nan.year)"
   ]
  },
  {
   "cell_type": "code",
   "execution_count": 60,
   "id": "68511b12-9c85-4e89-aa86-7bca832ab31b",
   "metadata": {},
   "outputs": [],
   "source": [
    "set_correct_uids = set(correct_uids)"
   ]
  },
  {
   "cell_type": "code",
   "execution_count": 61,
   "id": "e2b92720-78a6-45a7-b30b-8ddd29aa62db",
   "metadata": {},
   "outputs": [
    {
     "name": "stderr",
     "output_type": "stream",
     "text": [
      "100%|██████████| 6588222/6588222 [00:04<00:00, 1328973.89it/s]\n"
     ]
    }
   ],
   "source": [
    "set_correct_uids_numbers = []\n",
    "for uid in tqdm(set_correct_uids):\n",
    "    set_correct_uids_numbers.append(int(uid[2:]))"
   ]
  },
  {
   "cell_type": "code",
   "execution_count": 62,
   "id": "7a7a39a4-b124-4bdc-8885-4bc72ba23174",
   "metadata": {},
   "outputs": [],
   "source": [
    "set_correct_uids_numbers = set(set_correct_uids_numbers)"
   ]
  },
  {
   "cell_type": "markdown",
   "id": "5d462f7a-99c5-4417-812f-6872e1325180",
   "metadata": {},
   "source": [
    "### Check if citations are found inside the set of uids"
   ]
  },
  {
   "cell_type": "markdown",
   "id": "5243ba1f-a08b-41d4-aaf7-85fb1808b060",
   "metadata": {},
   "source": [
    "First let's check the raw number, then we will do the same on the set of citations"
   ]
  },
  {
   "cell_type": "code",
   "execution_count": 63,
   "id": "dd9ef91d-96a8-41ca-80a7-7f1d36239e07",
   "metadata": {},
   "outputs": [
    {
     "name": "stderr",
     "output_type": "stream",
     "text": [
      "100%|██████████| 6606214/6606214 [00:27<00:00, 239962.74it/s] "
     ]
    },
    {
     "name": "stdout",
     "output_type": "stream",
     "text": [
      "28414654 37505988\n"
     ]
    },
    {
     "name": "stderr",
     "output_type": "stream",
     "text": [
      "\n"
     ]
    }
   ],
   "source": [
    "found_uids = []\n",
    "not_found_uids = []\n",
    "for citations in tqdm(correct_citations):\n",
    "    for citation in citations:\n",
    "        if citation in set_correct_uids:\n",
    "            found_uids.append(citation)\n",
    "        else:\n",
    "            not_found_uids.append(citation)\n",
    "print(len(found_uids), len(not_found_uids))"
   ]
  },
  {
   "cell_type": "code",
   "execution_count": 64,
   "id": "a4352e07-5bfa-49d7-8b2c-ae0624afce46",
   "metadata": {},
   "outputs": [
    {
     "name": "stdout",
     "output_type": "stream",
     "text": [
      "Found 28414654/65920642 = 0.43104334451111687\n"
     ]
    }
   ],
   "source": [
    "print(f'Found {len(found_uids)}/{len(found_uids) + len(not_found_uids)} = {len(found_uids)/(len(found_uids) + len(not_found_uids))}')"
   ]
  },
  {
   "cell_type": "markdown",
   "id": "d25af958-9acf-4ed0-b201-b47302faeae8",
   "metadata": {},
   "source": [
    "Now repeat using the set of all citations"
   ]
  },
  {
   "cell_type": "code",
   "execution_count": 65,
   "id": "5fce78ce-d618-43fe-865c-b238d0df1a73",
   "metadata": {},
   "outputs": [
    {
     "name": "stderr",
     "output_type": "stream",
     "text": [
      "100%|██████████| 6606214/6606214 [00:03<00:00, 2183152.05it/s]\n"
     ]
    }
   ],
   "source": [
    "all_ids_citations = []\n",
    "for citations in tqdm(correct_citations):\n",
    "    all_ids_citations += citations\n",
    "\n",
    "set_all_ids_citations = set(all_ids_citations)"
   ]
  },
  {
   "cell_type": "code",
   "execution_count": 66,
   "id": "5163d545-ef22-44bc-9a45-0703a03d3f32",
   "metadata": {},
   "outputs": [
    {
     "name": "stdout",
     "output_type": "stream",
     "text": [
      "8707523 65920642 0.13209099207498617\n"
     ]
    }
   ],
   "source": [
    "print(len(set_all_ids_citations), len(all_ids_citations), len(set_all_ids_citations) / len(all_ids_citations))"
   ]
  },
  {
   "cell_type": "code",
   "execution_count": 67,
   "id": "66b30e91-217e-4321-890e-822480289778",
   "metadata": {},
   "outputs": [
    {
     "name": "stderr",
     "output_type": "stream",
     "text": [
      "100%|██████████| 8707523/8707523 [00:05<00:00, 1584256.24it/s]"
     ]
    },
    {
     "name": "stdout",
     "output_type": "stream",
     "text": [
      "2768815 5938708\n"
     ]
    },
    {
     "name": "stderr",
     "output_type": "stream",
     "text": [
      "\n"
     ]
    }
   ],
   "source": [
    "found_uids = []\n",
    "not_found_uids = []\n",
    "for citation in tqdm(set_all_ids_citations):\n",
    "    if citation in set_correct_uids:\n",
    "        found_uids.append(citation)\n",
    "    else:\n",
    "        not_found_uids.append(citation)\n",
    "print(len(found_uids), len(not_found_uids))"
   ]
  },
  {
   "cell_type": "code",
   "execution_count": 68,
   "id": "1d6cc425-60bb-482e-b083-aae1b191c378",
   "metadata": {},
   "outputs": [
    {
     "name": "stdout",
     "output_type": "stream",
     "text": [
      "Found 2768815/8707523 = 0.31797963668887236\n"
     ]
    }
   ],
   "source": [
    "print(f'Found {len(found_uids)}/{len(found_uids) + len(not_found_uids)} = {len(found_uids)/(len(found_uids) + len(not_found_uids))}')"
   ]
  },
  {
   "cell_type": "code",
   "execution_count": 69,
   "id": "5277cb1e-1a9d-492b-afdc-74009c6eec39",
   "metadata": {},
   "outputs": [
    {
     "name": "stdout",
     "output_type": "stream",
     "text": [
      "['US01656105', 'US03891289', 'USD0458653', 'US01403181', 'US04401713', '1020000057085', 'WO2005113868', 'US05409963', 'US05392164', 'US61125092']\n"
     ]
    }
   ],
   "source": [
    "print(not_found_uids[:10])"
   ]
  },
  {
   "cell_type": "markdown",
   "id": "2a14cfed-b63b-4faa-a8ae-2060344c44d9",
   "metadata": {},
   "source": [
    "### Check if not found citations that have a a year in front are actually US utility patents"
   ]
  },
  {
   "cell_type": "markdown",
   "id": "01841a00-6a52-4bc2-9b8a-d96a1db16e95",
   "metadata": {},
   "source": [
    "This is run on the last not_found_uids, which was run on the set of all citations"
   ]
  },
  {
   "cell_type": "code",
   "execution_count": 70,
   "id": "2208d4eb-5858-421f-aca7-5614a925eee0",
   "metadata": {},
   "outputs": [
    {
     "name": "stderr",
     "output_type": "stream",
     "text": [
      "100%|██████████| 5938708/5938708 [01:19<00:00, 74732.06it/s]\n"
     ]
    }
   ],
   "source": [
    "long_numbers = []\n",
    "long_numbers_w_year = {}\n",
    "long_numbers_w_year_in_uids = {}\n",
    "for uid in tqdm(not_found_uids):\n",
    "    uid_no_kind = ignore_kind_in_patent_number(uid)\n",
    "    if uid_no_kind.isnumeric() and len(uid_no_kind) > 8:\n",
    "        long_numbers.append(uid)\n",
    "        if len(uid_no_kind[4:]) >= 6:\n",
    "            for year in range(1950,2022):\n",
    "                if int(uid_no_kind[:4]) == year:\n",
    "                    correct_patent_number, checks_failed = check_patent_number(uid_no_kind[4:])\n",
    "                    long_numbers_w_year[uid] = (uid, correct_patent_number, year)\n",
    "                    if correct_patent_number in set_correct_uids_numbers:\n",
    "                        long_numbers_w_year_in_uids[uid] = (uid, correct_patent_number, year)\n",
    "                    break "
   ]
  },
  {
   "cell_type": "code",
   "execution_count": 71,
   "id": "0391662a-9fec-437b-928d-f5dc5edd7ddb",
   "metadata": {},
   "outputs": [
    {
     "name": "stdout",
     "output_type": "stream",
     "text": [
      "1593878 1672519 0.9529805042573507\n"
     ]
    }
   ],
   "source": [
    "print(len(long_numbers_w_year), len(long_numbers), len(long_numbers_w_year) / len(long_numbers))"
   ]
  },
  {
   "cell_type": "code",
   "execution_count": 72,
   "id": "b8ac3e6a-cc6e-43da-96b7-996803ef1c23",
   "metadata": {},
   "outputs": [
    {
     "name": "stdout",
     "output_type": "stream",
     "text": [
      "0 1593878 0.0\n"
     ]
    }
   ],
   "source": [
    "print(len(long_numbers_w_year_in_uids), len(long_numbers_w_year), len(long_numbers_w_year_in_uids) / len(long_numbers_w_year))"
   ]
  },
  {
   "cell_type": "code",
   "execution_count": 73,
   "id": "8367ebf7-120d-4389-b427-a5e3ae26bb90",
   "metadata": {},
   "outputs": [
    {
     "name": "stdout",
     "output_type": "stream",
     "text": [
      "20050050308 ('20050050308', '50308', 2005)\n",
      "20010017844 ('20010017844', '17844', 2001)\n",
      "20070123625 ('20070123625', 'US00123625', 2007)\n",
      "20040079866 ('20040079866', '79866', 2004)\n",
      "20040261184 ('20040261184', 'US00261184', 2004)\n",
      "20080101297 ('20080101297', 'US00101297', 2008)\n",
      "2000242090 ('2000242090', 'US00242090', 2000)\n",
      "20050004251 ('20050004251', '4251', 2005)\n",
      "20070213820 ('20070213820', 'US00213820', 2007)\n",
      "20040262375 ('20040262375', 'US00262375', 2004)\n"
     ]
    }
   ],
   "source": [
    "for k, v in list(long_numbers_w_year.items())[:10]:\n",
    "    print(k, v)"
   ]
  },
  {
   "cell_type": "markdown",
   "id": "8aa27ee3-daca-4b23-b4d1-9a985626f146",
   "metadata": {},
   "source": [
    "Checking these ids, it seems they are from abroad countries"
   ]
  },
  {
   "cell_type": "code",
   "execution_count": 74,
   "id": "075fcd84-607f-4859-862a-68f252ee862b",
   "metadata": {},
   "outputs": [],
   "source": [
    "for k, v in list(long_numbers_w_year_in_uids.items())[:10]:\n",
    "    print(k, v)"
   ]
  },
  {
   "cell_type": "markdown",
   "id": "14f6992e-4bf4-4904-9a71-b8ed0312598a",
   "metadata": {},
   "source": [
    "Now let's check if the year found in the uid is correct"
   ]
  },
  {
   "cell_type": "code",
   "execution_count": 75,
   "id": "99c55a44-1522-434d-9016-922908815b0f",
   "metadata": {},
   "outputs": [
    {
     "name": "stderr",
     "output_type": "stream",
     "text": [
      "0it [00:00, ?it/s]"
     ]
    },
    {
     "name": "stdout",
     "output_type": "stream",
     "text": [
      "0\n"
     ]
    },
    {
     "name": "stderr",
     "output_type": "stream",
     "text": [
      "\n"
     ]
    }
   ],
   "source": [
    "correct_long_numbers_w_year_in_uids = {}\n",
    "for wrong_uid, correct_uid, year in tqdm(long_numbers_w_year_in_uids.values()):\n",
    "    index = correct_uids.index(correct_uid)\n",
    "    correct_year = years[index]\n",
    "    if correct_year == year:\n",
    "        correct_long_numbers_w_year_in_uids[wrong_uid] = (wrong_uid, correct_uid, year)\n",
    "        \n",
    "print(len(correct_long_numbers_w_year_in_uids))"
   ]
  },
  {
   "cell_type": "code",
   "execution_count": 76,
   "id": "5a4c0b8a-d4ed-4272-9b36-5eccf6cd94fa",
   "metadata": {},
   "outputs": [],
   "source": [
    "for k, v in list(correct_long_numbers_w_year_in_uids.items())[:10]:\n",
    "    print(k, v)"
   ]
  },
  {
   "cell_type": "markdown",
   "id": "753fa9e0-0964-490a-9b99-6a1404388a21",
   "metadata": {},
   "source": [
    "These uids cannot be found"
   ]
  },
  {
   "cell_type": "markdown",
   "id": "32d47a57-546a-410f-a1cb-e2b9f36cf4c9",
   "metadata": {},
   "source": [
    "CONCLUSION: these cannot be considered US valid patents"
   ]
  },
  {
   "cell_type": "markdown",
   "id": "0e697b7c-3485-414f-8632-e9825ba4395f",
   "metadata": {},
   "source": [
    "### Check where these not found citations come from"
   ]
  },
  {
   "cell_type": "code",
   "execution_count": 77,
   "id": "3f663abc-7a23-4fbf-80f6-fa5f2a05def3",
   "metadata": {},
   "outputs": [
    {
     "name": "stderr",
     "output_type": "stream",
     "text": [
      "100%|██████████| 5938708/5938708 [00:04<00:00, 1440371.20it/s]"
     ]
    },
    {
     "name": "stdout",
     "output_type": "stream",
     "text": [
      "3662077 481824 1794807\n"
     ]
    },
    {
     "name": "stderr",
     "output_type": "stream",
     "text": [
      "\n"
     ]
    }
   ],
   "source": [
    "US_citation_uids = []\n",
    "WO_citation_uids = []\n",
    "other_citation_uids = []\n",
    "for citation in tqdm(not_found_uids):\n",
    "    if citation[:2] == 'US':\n",
    "        US_citation_uids.append(citation)\n",
    "    elif citation[:2] == 'WO':\n",
    "        WO_citation_uids.append(citation)\n",
    "    else:\n",
    "        other_citation_uids.append(citation)\n",
    "print(len(US_citation_uids), len(WO_citation_uids), len(other_citation_uids))"
   ]
  },
  {
   "cell_type": "markdown",
   "id": "a25c944a-1dde-4c1f-8330-31e4413de33b",
   "metadata": {},
   "source": [
    "#### US patents"
   ]
  },
  {
   "cell_type": "markdown",
   "id": "9919617f-2159-4f56-af81-e27791c089aa",
   "metadata": {},
   "source": [
    "Check which ones are utility patents, and which are not"
   ]
  },
  {
   "cell_type": "code",
   "execution_count": 78,
   "id": "08b6293e-2ff3-4ce3-ab5b-a019d12b2ccb",
   "metadata": {},
   "outputs": [
    {
     "name": "stderr",
     "output_type": "stream",
     "text": [
      "100%|██████████| 3662077/3662077 [00:08<00:00, 457123.02it/s]\n"
     ]
    }
   ],
   "source": [
    "US_utility_citation_uids = []\n",
    "US_utility_citation_uids_numbers = []\n",
    "US_not_utility_citation_uids = []\n",
    "for citation in tqdm(US_citation_uids):\n",
    "    if is_utility(citation):\n",
    "        US_utility_citation_uids.append(citation)\n",
    "        US_utility_citation_uids_numbers.append(int(citation[2:]))\n",
    "    else:\n",
    "        US_not_utility_citation_uids.append(citation)"
   ]
  },
  {
   "cell_type": "code",
   "execution_count": 79,
   "id": "e3105bee-44c9-4489-91bb-673318bbf20b",
   "metadata": {},
   "outputs": [
    {
     "name": "stdout",
     "output_type": "stream",
     "text": [
      "3526390 135687\n"
     ]
    }
   ],
   "source": [
    "print(len(US_utility_citation_uids), len(US_not_utility_citation_uids))"
   ]
  },
  {
   "cell_type": "code",
   "execution_count": 80,
   "id": "4f2e8e70-1940-4ac6-b735-a08d99c20dc6",
   "metadata": {},
   "outputs": [
    {
     "name": "stderr",
     "output_type": "stream",
     "text": [
      "100%|██████████| 3526390/3526390 [00:02<00:00, 1430986.99it/s]\n"
     ]
    }
   ],
   "source": [
    "US_utility_citation_uids_numbers = []\n",
    "for uid in tqdm(US_utility_citation_uids):\n",
    "    US_utility_citation_uids_numbers.append(int(uid[2:]))"
   ]
  },
  {
   "cell_type": "code",
   "execution_count": 81,
   "id": "2e44900b-17ad-4d25-b1e3-fbc8447be6f0",
   "metadata": {},
   "outputs": [
    {
     "name": "stdout",
     "output_type": "stream",
     "text": [
      "3930271\n"
     ]
    }
   ],
   "source": [
    "min_uid = min(set_correct_uids_numbers)\n",
    "print(min_uid)"
   ]
  },
  {
   "cell_type": "code",
   "execution_count": 82,
   "id": "5d3a6ce3-f079-4a10-a7e3-3575831a9390",
   "metadata": {},
   "outputs": [
    {
     "name": "stderr",
     "output_type": "stream",
     "text": [
      "100%|██████████| 3526390/3526390 [00:01<00:00, 3033183.41it/s]\n"
     ]
    }
   ],
   "source": [
    "utility_numbers_before_min_uid_number = []\n",
    "not_recognized_utility_numbers = []\n",
    "for num in tqdm(US_utility_citation_uids_numbers):\n",
    "    if num < min_uid:\n",
    "        utility_numbers_before_min_uid_number.append(num)\n",
    "    else:\n",
    "        not_recognized_utility_numbers.append(num)"
   ]
  },
  {
   "cell_type": "code",
   "execution_count": 83,
   "id": "2938f6aa-0657-4f33-96bc-4e1175e5a98c",
   "metadata": {},
   "outputs": [
    {
     "name": "stdout",
     "output_type": "stream",
     "text": [
      "Found 2563648 before minimum number in dataset out of 3526390 utilities not found in data, i.e., fraction of 0.7269893573881505\n"
     ]
    }
   ],
   "source": [
    "print(f\"Found {len(utility_numbers_before_min_uid_number)} before minimum number in dataset out of {len(US_utility_citation_uids)} utilities not found in data, i.e., fraction of {len(utility_numbers_before_min_uid_number) / len(US_utility_citation_uids)}\")"
   ]
  },
  {
   "cell_type": "code",
   "execution_count": 84,
   "id": "76d74205-7fb7-4089-8fe4-473e01928b0c",
   "metadata": {},
   "outputs": [
    {
     "data": {
      "text/plain": [
       "[4401713,\n",
       " 5409963,\n",
       " 5392164,\n",
       " 61125092,\n",
       " 59230754,\n",
       " 5134236,\n",
       " 4701421,\n",
       " 5759727,\n",
       " 5705555,\n",
       " 5663156]"
      ]
     },
     "execution_count": 84,
     "metadata": {},
     "output_type": "execute_result"
    }
   ],
   "source": [
    "not_recognized_utility_numbers[:10]"
   ]
  },
  {
   "cell_type": "code",
   "execution_count": 85,
   "id": "b291456d-2486-45d8-a739-81ca455f9137",
   "metadata": {},
   "outputs": [
    {
     "data": {
      "text/plain": [
       "[1656105,\n",
       " 3891289,\n",
       " 1403181,\n",
       " 2735994,\n",
       " 3759368,\n",
       " 1202376,\n",
       " 3571815,\n",
       " 2268125,\n",
       " 3391088,\n",
       " 3897379]"
      ]
     },
     "execution_count": 85,
     "metadata": {},
     "output_type": "execute_result"
    }
   ],
   "source": [
    "utility_numbers_before_min_uid_number[:10]"
   ]
  },
  {
   "cell_type": "markdown",
   "id": "d435f8b3-8695-4e7f-a76a-28825275559b",
   "metadata": {},
   "source": [
    "It seems like all these are correct utility patents"
   ]
  },
  {
   "cell_type": "markdown",
   "id": "34b64c33-d34f-42f6-9e24-526de46b6a1a",
   "metadata": {},
   "source": [
    "### Create new columns for different types of citations"
   ]
  },
  {
   "cell_type": "code",
   "execution_count": 86,
   "id": "46b9c1a2-e90b-42eb-974b-0ef9cd569209",
   "metadata": {},
   "outputs": [
    {
     "data": {
      "text/plain": [
       "0                                   [US02379430, US02782422]\n",
       "1          [US00933921, US01549144, US01609246, US0166708...\n",
       "2          [US01240201, US02817855, US03093839, US0312576...\n",
       "3                       [US02546396, US03064370, US03601076]\n",
       "4                       [US00914377, US02971278, US03311937]\n",
       "                                 ...                        \n",
       "6606209                                                   []\n",
       "6606210                                                   []\n",
       "6606211                                                   []\n",
       "6606212                                                   []\n",
       "6606213                                                   []\n",
       "Name: citations, Length: 6606214, dtype: object"
      ]
     },
     "execution_count": 86,
     "metadata": {},
     "output_type": "execute_result"
    }
   ],
   "source": [
    "correct_citations"
   ]
  },
  {
   "cell_type": "code",
   "execution_count": 87,
   "id": "947be83b-2ec3-424a-b8c3-90018cd9f884",
   "metadata": {},
   "outputs": [],
   "source": [
    "US_utility_citations_in_dataset = []\n",
    "US_utility_citations_not_in_dataset = []\n",
    "US_other_citations = []\n",
    "other_citations = []"
   ]
  },
  {
   "cell_type": "code",
   "execution_count": 88,
   "id": "2cc55bc0-d1d8-47b1-ac53-c8e78791717d",
   "metadata": {},
   "outputs": [
    {
     "name": "stderr",
     "output_type": "stream",
     "text": [
      "100%|██████████| 6606214/6606214 [03:15<00:00, 33815.95it/s] \n"
     ]
    }
   ],
   "source": [
    "for citations in tqdm(correct_citations):\n",
    "    tmp_US_utility_citations_in_dataset = []\n",
    "    tmp_US_utility_citations_not_in_dataset = []\n",
    "    tmp_US_other_citations = []\n",
    "    tmp_other_citations = []\n",
    "    for citation in citations:\n",
    "        if is_utility(citation):\n",
    "            if citation in set_correct_uids:\n",
    "                tmp_US_utility_citations_in_dataset.append(citation)\n",
    "            else:\n",
    "                tmp_US_utility_citations_not_in_dataset.append(citation)\n",
    "        elif citation[:2] == 'US':\n",
    "            tmp_US_other_citations.append(citation)\n",
    "        else:\n",
    "            tmp_other_citations.append(citation)\n",
    "    US_utility_citations_in_dataset.append(tmp_US_utility_citations_in_dataset)\n",
    "    US_utility_citations_not_in_dataset.append(tmp_US_utility_citations_not_in_dataset)\n",
    "    US_other_citations.append(tmp_US_other_citations)\n",
    "    other_citations.append(tmp_other_citations)"
   ]
  },
  {
   "cell_type": "code",
   "execution_count": 89,
   "id": "645333e0-ee85-451f-806e-c98edee7f65d",
   "metadata": {},
   "outputs": [],
   "source": [
    "utility_time_ordered_all_patents_df_no_nan['US_utility_citations_in_dataset'] = US_utility_citations_in_dataset\n",
    "utility_time_ordered_all_patents_df_no_nan['US_utility_citations_not_in_dataset'] = US_utility_citations_not_in_dataset\n",
    "utility_time_ordered_all_patents_df_no_nan['US_other_citations'] = US_other_citations\n",
    "utility_time_ordered_all_patents_df_no_nan['other_citations'] = other_citations"
   ]
  },
  {
   "cell_type": "markdown",
   "id": "3932e2de-5a8e-402d-9d12-2ad8db1ca4b5",
   "metadata": {},
   "source": [
    "## Check if IPC class are ok (THEY ARE NOT OK)"
   ]
  },
  {
   "cell_type": "markdown",
   "id": "3c7217a1-24c2-481c-906b-2e852196bf5b",
   "metadata": {
    "tags": []
   },
   "source": [
    "### Auxiliary functions"
   ]
  },
  {
   "cell_type": "markdown",
   "id": "1416f1c2-e044-40b6-8159-0fe8e18a2848",
   "metadata": {},
   "source": [
    "from https://www.wipo.int/edocs/pubdocs/en/wipo-guide-ipc-2022-en-guide-to-the-international-patent-classification-2022.pdf"
   ]
  },
  {
   "cell_type": "markdown",
   "id": "05ee567e-c61f-4c10-a2fd-30ce5ee2454b",
   "metadata": {},
   "source": [
    "SECTIONS\n",
    "\n",
    "A HUMAN NECESSITIES\n",
    "\n",
    "B PERFORMING OPERATIONS; TRANSPORTING\n",
    "\n",
    "C CHEMISTRY; METALLURGY\n",
    "\n",
    "D TEXTILES; PAPER\n",
    "\n",
    "E FIXED CONSTRUCTIONS\n",
    "\n",
    "F MECHANICAL ENGINEERING; LIGHTING; HEATING; WEAPONS;\n",
    "\n",
    "BLASTING\n",
    "\n",
    "G PHYSICS\n",
    "\n",
    "H ELECTRICITY\n"
   ]
  },
  {
   "cell_type": "code",
   "execution_count": 90,
   "id": "b2f2304e-f50c-4da8-ba67-c9e80022cfe6",
   "metadata": {},
   "outputs": [],
   "source": [
    "def is_IPC_class(c):\n",
    "    # It is of the type A01B, where A is the section, 01 is the class, and B is the subclass\n",
    "    # returns if it is a correct IPC class, the section, the class, and the subclass\n",
    "    # last one is the group and subgroup together\n",
    "    if len(c) >= 4 and c[0].isalpha() and c[1:3].isnumeric() and c[3].isalpha():\n",
    "        group = c[4:].lstrip(' ')\n",
    "        return True, c[0], c[1:3], c[3], group\n",
    "    else:\n",
    "        return False, '', '', '', ''"
   ]
  },
  {
   "cell_type": "markdown",
   "id": "cbab0f70-33bd-4d6f-b23b-b41b262d2e98",
   "metadata": {},
   "source": [
    "### Check IPC_main_class"
   ]
  },
  {
   "cell_type": "code",
   "execution_count": 91,
   "id": "eed7fdf3-9ba8-46a5-b905-a5a7c97791cd",
   "metadata": {},
   "outputs": [],
   "source": [
    "IPC_main_class_list = list(utility_time_ordered_all_patents_df_no_nan.IPC_main_class.values)"
   ]
  },
  {
   "cell_type": "code",
   "execution_count": 92,
   "id": "47eeaaa2-90ee-4f36-9d70-4c6ee39cc7fd",
   "metadata": {},
   "outputs": [
    {
     "name": "stderr",
     "output_type": "stream",
     "text": [
      "100%|██████████| 6606214/6606214 [00:13<00:00, 497247.72it/s]\n"
     ]
    }
   ],
   "source": [
    "correct_IPC_main_class_list = []\n",
    "problems_list = []\n",
    "for c in tqdm(IPC_main_class_list):\n",
    "    is_correct, section, clas, subclas, group = is_IPC_class(c)\n",
    "    if is_correct:\n",
    "        correct_IPC_main_class_list.append((section, clas, subclas, group))\n",
    "    else:\n",
    "        problems_list.append(c)"
   ]
  },
  {
   "cell_type": "code",
   "execution_count": 93,
   "id": "21f59b46-5f4b-48e3-8704-41709a50b500",
   "metadata": {},
   "outputs": [
    {
     "data": {
      "text/plain": [
       "(6605959, 6606214, 0.9999613999788683)"
      ]
     },
     "execution_count": 93,
     "metadata": {},
     "output_type": "execute_result"
    }
   ],
   "source": [
    "len(correct_IPC_main_class_list), len(IPC_main_class_list), len(correct_IPC_main_class_list) / len(IPC_main_class_list)"
   ]
  },
  {
   "cell_type": "code",
   "execution_count": 94,
   "id": "8bb8d567-6d67-4b6f-87f5-7f4762712f05",
   "metadata": {},
   "outputs": [
    {
     "name": "stdout",
     "output_type": "stream",
     "text": [
      "15\n"
     ]
    }
   ],
   "source": [
    "print(len(problems))"
   ]
  },
  {
   "cell_type": "code",
   "execution_count": 95,
   "id": "ae185997-2fe7-43a8-96d5-a36103aabbf8",
   "metadata": {},
   "outputs": [],
   "source": [
    "from collections import Counter"
   ]
  },
  {
   "cell_type": "code",
   "execution_count": 96,
   "id": "af7e2d20-8d2c-4d2c-bded-c2c8aad77f96",
   "metadata": {},
   "outputs": [],
   "source": [
    "counter = Counter(problems_list)"
   ]
  },
  {
   "cell_type": "code",
   "execution_count": 97,
   "id": "bcafaf0f-a5c0-4bcb-ac19-41cc59196a33",
   "metadata": {},
   "outputs": [],
   "source": [
    "IPC_main_class_set = set(IPC_main_class_list)"
   ]
  },
  {
   "cell_type": "code",
   "execution_count": 98,
   "id": "22d74ab2-c345-4819-8411-50acf127fc47",
   "metadata": {},
   "outputs": [
    {
     "data": {
      "text/plain": [
       "Counter({'5 3': 1,\n",
       "         '': 13,\n",
       "         '114': 2,\n",
       "         'FO4C  300': 1,\n",
       "         '330': 1,\n",
       "         'B00': 1,\n",
       "         '260': 3,\n",
       "         'C10': 1,\n",
       "         '415': 1,\n",
       "         '352': 1,\n",
       "         '9 2': 1,\n",
       "         '138': 1,\n",
       "         'CO7C12100': 1,\n",
       "         '7 5': 1,\n",
       "         'B6OP  100': 1,\n",
       "         'FO4B  300': 1,\n",
       "         'HO2K  524': 1,\n",
       "         'C16': 1,\n",
       "         '424': 1,\n",
       "         '222': 1,\n",
       "         'B10': 1,\n",
       "         'HOlR 4304': 1,\n",
       "         '252': 3,\n",
       "         '428': 1,\n",
       "         '357': 1,\n",
       "         'E21': 3,\n",
       "         'E46': 1,\n",
       "         '308': 1,\n",
       "         'B56': 1,\n",
       "         'C87': 1,\n",
       "         '560': 1,\n",
       "         'AG1B 1718': 1,\n",
       "         '2 1': 1,\n",
       "         '116': 2,\n",
       "         '318': 1,\n",
       "         '403': 2,\n",
       "         'F36': 2,\n",
       "         '1': 1,\n",
       "         'A23': 2,\n",
       "         '866F 1104': 1,\n",
       "         '404': 1,\n",
       "         '312': 1,\n",
       "         '156': 1,\n",
       "         '261': 1,\n",
       "         '426': 2,\n",
       "         '123': 1,\n",
       "         '2 1K  146': 1,\n",
       "         '137': 2,\n",
       "         'B6OV  308': 1,\n",
       "         '7 3': 1,\n",
       "         '431': 1,\n",
       "         'E44': 1,\n",
       "         'C08': 1,\n",
       "         '355': 1,\n",
       "         '463H 3306': 1,\n",
       "         'H63': 1,\n",
       "         'F58': 1,\n",
       "         '119': 2,\n",
       "         'C78': 2,\n",
       "         'B32': 1,\n",
       "         '536': 1,\n",
       "         '192': 2,\n",
       "         'CO7F  915': 1,\n",
       "         '229': 1,\n",
       "         'A 0N 5920': 1,\n",
       "         '335': 1,\n",
       "         '250370;371;390;391;392': 1,\n",
       "         'C 8D 1106': 1,\n",
       "         '281': 1,\n",
       "         'B05': 4,\n",
       "         'F16': 5,\n",
       "         'A16': 9,\n",
       "         'G03': 2,\n",
       "         'E25': 1,\n",
       "         'EO6B  392': 1,\n",
       "         'B83': 2,\n",
       "         '165': 1,\n",
       "         '361': 1,\n",
       "         '605D 2300': 1,\n",
       "         'J04': 1,\n",
       "         'HO4M  342': 1,\n",
       "         'EB6': 1,\n",
       "         'C36': 1,\n",
       "         'GO1N 3356': 1,\n",
       "         'HO1B 1326': 1,\n",
       "         '290': 1,\n",
       "         'G28': 1,\n",
       "         'E06': 1,\n",
       "         'C06': 7,\n",
       "         '?': 2,\n",
       "         '421C 2736': 1,\n",
       "         'F45': 1,\n",
       "         'HO1L 21306': 1,\n",
       "         'EO4F 1100': 1,\n",
       "         'BO5D  118': 1,\n",
       "         'BO1D  122': 1,\n",
       "         'B65': 3,\n",
       "         'ED5': 1,\n",
       "         'DO5C 1500': 1,\n",
       "         'B63': 1,\n",
       "         'DC3': 1,\n",
       "         '242': 1,\n",
       "         '6 1F  500': 1,\n",
       "         'G06': 2,\n",
       "         'B15': 2,\n",
       "         'B01': 1,\n",
       "         'E14': 1,\n",
       "         'D01? 1508': 1,\n",
       "         'C09': 1,\n",
       "         'G01': 2,\n",
       "         'AG1B 1000': 1,\n",
       "         'C 0G 4300': 1,\n",
       "         'A 1K 2300': 1,\n",
       "         'F01': 1,\n",
       "         'C76': 2,\n",
       "         'F29': 1,\n",
       "         'A01': 2,\n",
       "         'C08- 1700': 1,\n",
       "         'C25': 1,\n",
       "         'B03': 1,\n",
       "         '272': 1,\n",
       "         '303': 1,\n",
       "         'BO1J 1908': 1,\n",
       "         'A10': 1,\n",
       "         'A41': 1,\n",
       "         'F 8': 1,\n",
       "         '000': 1,\n",
       "         'B60': 1,\n",
       "         'G02': 1,\n",
       "         'B0BC  300': 1,\n",
       "         'C38': 1,\n",
       "         '2 2B  110': 1,\n",
       "         'B50': 1,\n",
       "         'HO5B 4138': 1,\n",
       "         '210': 1,\n",
       "         '219': 1,\n",
       "         'C23': 1,\n",
       "         '112': 1,\n",
       "         'C73': 1,\n",
       "         '175': 1,\n",
       "         '1 6N 2700': 1,\n",
       "         'B0lD  800': 1,\n",
       "         'F67': 1,\n",
       "         'CorL 6104': 1,\n",
       "         'B64': 1,\n",
       "         '761': 1,\n",
       "         '304B  288': 1,\n",
       "         '8 2': 1,\n",
       "         '239': 2,\n",
       "         'A 6B  900': 1,\n",
       "         'HO1M  218': 1,\n",
       "         'A79': 1,\n",
       "         '5 2': 2,\n",
       "         'H01': 1,\n",
       "         'B6GB 2500': 1,\n",
       "         '0 3B 2742': 1,\n",
       "         '4 3': 1,\n",
       "         'C18': 1,\n",
       "         '134': 1,\n",
       "         '4 7B 2300': 1,\n",
       "         'D58': 1,\n",
       "         '6 2': 1,\n",
       "         '108': 1,\n",
       "         'G05': 1,\n",
       "         'E04': 1,\n",
       "         '225': 1,\n",
       "         'C04': 1,\n",
       "         'B 0D 1508': 1,\n",
       "         '301': 1,\n",
       "         '2 5B 2900': 1,\n",
       "         '369': 1,\n",
       "         '034': 1,\n",
       "         '324': 1,\n",
       "         'A61': 1,\n",
       "         'A31': 1,\n",
       "         'A6MN 3100': 1,\n",
       "         '0 8B 1328': 1,\n",
       "         '251': 1,\n",
       "         'Bg5G 4724': 1,\n",
       "         '106': 1,\n",
       "         '6 3B 5500': 1,\n",
       "         '7 2': 1,\n",
       "         'H0HB  126': 1,\n",
       "         '3 7': 1,\n",
       "         '604N': 1,\n",
       "         '047': 1,\n",
       "         'B55': 1,\n",
       "         'DO1H 1314': 1,\n",
       "         'G00': 1,\n",
       "         '401K 9410': 1,\n",
       "         'B230  3155': 1,\n",
       "         'B607 1368': 1,\n",
       "         'B656 1732': 1,\n",
       "         '5B l l   E l \\\\   \\\\00': 1})"
      ]
     },
     "execution_count": 98,
     "metadata": {},
     "output_type": "execute_result"
    }
   ],
   "source": [
    "counter"
   ]
  },
  {
   "cell_type": "markdown",
   "id": "88254d3b-239b-44dc-887f-7391da410bb7",
   "metadata": {},
   "source": [
    "Let's repeat now with the set"
   ]
  },
  {
   "cell_type": "code",
   "execution_count": 100,
   "id": "b57deac4-2ec5-43f4-aed2-9499ee8a8584",
   "metadata": {},
   "outputs": [
    {
     "name": "stderr",
     "output_type": "stream",
     "text": [
      "100%|██████████| 173355/173355 [00:00<00:00, 390055.05it/s]\n"
     ]
    }
   ],
   "source": [
    "IPC_classes = []\n",
    "problems = []\n",
    "for c in tqdm(IPC_main_class_set):\n",
    "    is_correct, section, clas, subclas, group = is_IPC_class(c)\n",
    "    if is_correct:\n",
    "        IPC_classes.append((section, clas, subclas, group))\n",
    "    else:\n",
    "        problems_list.append(c)"
   ]
  },
  {
   "cell_type": "code",
   "execution_count": 101,
   "id": "82e71e55-de73-4431-83b9-86d7d7d85d20",
   "metadata": {},
   "outputs": [
    {
     "data": {
      "text/plain": [
       "(173161, 173355, 0.9988809091171296)"
      ]
     },
     "execution_count": 101,
     "metadata": {},
     "output_type": "execute_result"
    }
   ],
   "source": [
    "len(IPC_classes), len(IPC_main_class_set), len(IPC_classes) / len(IPC_main_class_set)"
   ]
  },
  {
   "cell_type": "code",
   "execution_count": 102,
   "id": "52e56fba-bec1-43de-a4ff-f5aef1782dcf",
   "metadata": {},
   "outputs": [],
   "source": [
    "a = utility_time_ordered_all_patents_df_no_nan[utility_time_ordered_all_patents_df_no_nan.IPC_main_class == '']"
   ]
  },
  {
   "cell_type": "code",
   "execution_count": 103,
   "id": "5d0be6e8-8a7e-45d0-bf41-8f46d256b0da",
   "metadata": {},
   "outputs": [],
   "source": [
    "pd.set_option('display.max_columns', 200)"
   ]
  },
  {
   "cell_type": "code",
   "execution_count": 104,
   "id": "e592e5d9-9b1d-4cf9-a513-8ac919a4b768",
   "metadata": {},
   "outputs": [
    {
     "data": {
      "text/html": [
       "<div>\n",
       "<style scoped>\n",
       "    .dataframe tbody tr th:only-of-type {\n",
       "        vertical-align: middle;\n",
       "    }\n",
       "\n",
       "    .dataframe tbody tr th {\n",
       "        vertical-align: top;\n",
       "    }\n",
       "\n",
       "    .dataframe thead th {\n",
       "        text-align: right;\n",
       "    }\n",
       "</style>\n",
       "<table border=\"1\" class=\"dataframe\">\n",
       "  <thead>\n",
       "    <tr style=\"text-align: right;\">\n",
       "      <th></th>\n",
       "      <th>uid</th>\n",
       "      <th>grant_date</th>\n",
       "      <th>kind</th>\n",
       "      <th>app_date</th>\n",
       "      <th>abstract</th>\n",
       "      <th>title</th>\n",
       "      <th>citations</th>\n",
       "      <th>IPC_main_class</th>\n",
       "      <th>IPC_further_classes</th>\n",
       "      <th>IPC_edition</th>\n",
       "      <th>US_main_class</th>\n",
       "      <th>US_further_classes</th>\n",
       "      <th>US_edition</th>\n",
       "      <th>inventors</th>\n",
       "      <th>year</th>\n",
       "      <th>correct_uid</th>\n",
       "      <th>is_utility</th>\n",
       "      <th>US_utility_citations_in_dataset</th>\n",
       "      <th>US_utility_citations_not_in_dataset</th>\n",
       "      <th>US_other_citations</th>\n",
       "      <th>other_citations</th>\n",
       "    </tr>\n",
       "  </thead>\n",
       "  <tbody>\n",
       "    <tr>\n",
       "      <th>1630</th>\n",
       "      <td>3932897</td>\n",
       "      <td>19760120</td>\n",
       "      <td>A</td>\n",
       "      <td>19741212</td>\n",
       "      <td>A hockey garter belt includes an elongate body...</td>\n",
       "      <td>Hockey garter belt</td>\n",
       "      <td>[675748, 1551358, 2530850, 2579190, 2975432, 3...</td>\n",
       "      <td></td>\n",
       "      <td>[]</td>\n",
       "      <td></td>\n",
       "      <td>2306</td>\n",
       "      <td>41F 1900</td>\n",
       "      <td></td>\n",
       "      <td>[Young; Nathan H.]</td>\n",
       "      <td>1976</td>\n",
       "      <td>US03932897</td>\n",
       "      <td>True</td>\n",
       "      <td>[]</td>\n",
       "      <td>[US00675748, US01551358, US02530850, US0257919...</td>\n",
       "      <td>[]</td>\n",
       "      <td>[]</td>\n",
       "    </tr>\n",
       "    <tr>\n",
       "      <th>35783</th>\n",
       "      <td>3983864</td>\n",
       "      <td>19761005</td>\n",
       "      <td>A</td>\n",
       "      <td>19750707</td>\n",
       "      <td>Method and apparatus for withdrawing and analy...</td>\n",
       "      <td>Method and apparatus for in vivo blood gas ana...</td>\n",
       "      <td>[3512517, 3572315, 3585002, 3640269, 3649199]</td>\n",
       "      <td></td>\n",
       "      <td>[]</td>\n",
       "      <td></td>\n",
       "      <td>128  2G</td>\n",
       "      <td>[23230B, 23232C, 734215R, 128  2F, 128  2L, 12...</td>\n",
       "      <td></td>\n",
       "      <td>[]</td>\n",
       "      <td>1976</td>\n",
       "      <td>US03983864</td>\n",
       "      <td>True</td>\n",
       "      <td>[]</td>\n",
       "      <td>[US03512517, US03572315, US03585002, US0364026...</td>\n",
       "      <td>[]</td>\n",
       "      <td>[]</td>\n",
       "    </tr>\n",
       "    <tr>\n",
       "      <th>81589</th>\n",
       "      <td>4048653</td>\n",
       "      <td>19770913</td>\n",
       "      <td>A</td>\n",
       "      <td>19751015</td>\n",
       "      <td>Head-coupled visual display apparatus for a so...</td>\n",
       "      <td>Visual display apparatus</td>\n",
       "      <td>[3076271, 3401233, 3614314, 3757190]</td>\n",
       "      <td></td>\n",
       "      <td>[]</td>\n",
       "      <td></td>\n",
       "      <td>358104</td>\n",
       "      <td>358250</td>\n",
       "      <td></td>\n",
       "      <td>[Spooner; Archer Michael]</td>\n",
       "      <td>1977</td>\n",
       "      <td>US04048653</td>\n",
       "      <td>True</td>\n",
       "      <td>[]</td>\n",
       "      <td>[US03076271, US03401233, US03614314, US03757190]</td>\n",
       "      <td>[]</td>\n",
       "      <td>[]</td>\n",
       "    </tr>\n",
       "    <tr>\n",
       "      <th>511724</th>\n",
       "      <td>4704720</td>\n",
       "      <td>19871103</td>\n",
       "      <td>A</td>\n",
       "      <td>19850102</td>\n",
       "      <td>A distributed feedback semiconductor laser in ...</td>\n",
       "      <td>Distributed-feedback semiconductor laser</td>\n",
       "      <td>[4178604, 4237224, 4273875, 4374927, 4375514, ...</td>\n",
       "      <td></td>\n",
       "      <td>[]</td>\n",
       "      <td></td>\n",
       "      <td></td>\n",
       "      <td>[]</td>\n",
       "      <td></td>\n",
       "      <td>[Yamaguchi; Masayuki]</td>\n",
       "      <td>1987</td>\n",
       "      <td>US04704720</td>\n",
       "      <td>True</td>\n",
       "      <td>[US04237224, US04273875, US04375514]</td>\n",
       "      <td>[US04178604, US04374927, US02441659, US0202361...</td>\n",
       "      <td>[]</td>\n",
       "      <td>[32238]</td>\n",
       "    </tr>\n",
       "    <tr>\n",
       "      <th>512221</th>\n",
       "      <td>4705229</td>\n",
       "      <td>19871110</td>\n",
       "      <td>A</td>\n",
       "      <td>19850827</td>\n",
       "      <td>A device for supporting a roll of material to ...</td>\n",
       "      <td>Compact apparatus for laying paving fabric</td>\n",
       "      <td>[2258205, 3632054, 3913854, 4010859, 4148399, ...</td>\n",
       "      <td></td>\n",
       "      <td>[]</td>\n",
       "      <td></td>\n",
       "      <td></td>\n",
       "      <td>[]</td>\n",
       "      <td></td>\n",
       "      <td>[Barazone; Mounque]</td>\n",
       "      <td>1987</td>\n",
       "      <td>US04705229</td>\n",
       "      <td>True</td>\n",
       "      <td>[US04010859, US04148399, US04456399, US0451829...</td>\n",
       "      <td>[US02258205, US03632054, US03913854, US0391469...</td>\n",
       "      <td>[]</td>\n",
       "      <td>[]</td>\n",
       "    </tr>\n",
       "    <tr>\n",
       "      <th>713272</th>\n",
       "      <td>5057224</td>\n",
       "      <td>19911015</td>\n",
       "      <td>A</td>\n",
       "      <td>19900411</td>\n",
       "      <td>The present invention provides a composition f...</td>\n",
       "      <td>Method for evaluating the performance of rever...</td>\n",
       "      <td>[]</td>\n",
       "      <td></td>\n",
       "      <td>[]</td>\n",
       "      <td></td>\n",
       "      <td>210635</td>\n",
       "      <td>[210656, 2101982, 73 611C, 01D 1508]</td>\n",
       "      <td></td>\n",
       "      <td>[]</td>\n",
       "      <td>1991</td>\n",
       "      <td>US05057224</td>\n",
       "      <td>True</td>\n",
       "      <td>[]</td>\n",
       "      <td>[]</td>\n",
       "      <td>[]</td>\n",
       "      <td>[]</td>\n",
       "    </tr>\n",
       "    <tr>\n",
       "      <th>766333</th>\n",
       "      <td>5156284</td>\n",
       "      <td>19921020</td>\n",
       "      <td>A</td>\n",
       "      <td>19920327</td>\n",
       "      <td>A thermally insulated baby bottle assembly con...</td>\n",
       "      <td>Thermally insulated baby bottle</td>\n",
       "      <td>[922174, 1221335, 1415908, 1694967, 3530979, 3...</td>\n",
       "      <td></td>\n",
       "      <td>[]</td>\n",
       "      <td></td>\n",
       "      <td></td>\n",
       "      <td>[]</td>\n",
       "      <td></td>\n",
       "      <td>[]</td>\n",
       "      <td>1992</td>\n",
       "      <td>US05156284</td>\n",
       "      <td>True</td>\n",
       "      <td>[US04215785, US05038948, US05044509, US05069351]</td>\n",
       "      <td>[US00922174, US01221335, US01415908, US0169496...</td>\n",
       "      <td>[]</td>\n",
       "      <td>[]</td>\n",
       "    </tr>\n",
       "    <tr>\n",
       "      <th>958698</th>\n",
       "      <td>5546824</td>\n",
       "      <td>19960820</td>\n",
       "      <td>A</td>\n",
       "      <td>19950309</td>\n",
       "      <td>Disclosed is a high strength, self-lubricating...</td>\n",
       "      <td>Visual method and apparatus for adjusting gear...</td>\n",
       "      <td>[3010338, 3081648, 3175110, 3199364, 3501183, ...</td>\n",
       "      <td></td>\n",
       "      <td>[]</td>\n",
       "      <td></td>\n",
       "      <td>74421R</td>\n",
       "      <td>[298931, 74462, 74DIG10, 116200]</td>\n",
       "      <td></td>\n",
       "      <td>[]</td>\n",
       "      <td>1996</td>\n",
       "      <td>US05546824</td>\n",
       "      <td>True</td>\n",
       "      <td>[US04046324, US04202644, US04345851, US0436705...</td>\n",
       "      <td>[US03010338, US03081648, US03175110, US0319936...</td>\n",
       "      <td>[]</td>\n",
       "      <td>[]</td>\n",
       "    </tr>\n",
       "    <tr>\n",
       "      <th>971015</th>\n",
       "      <td>5572915</td>\n",
       "      <td>19961112</td>\n",
       "      <td>A</td>\n",
       "      <td>19941017</td>\n",
       "      <td>A pull bar gripper assembly having a body memb...</td>\n",
       "      <td>Pull bar gripper assembly</td>\n",
       "      <td>[1467992, 1523063, 2377383, 3582000, 3939847, ...</td>\n",
       "      <td></td>\n",
       "      <td>[]</td>\n",
       "      <td></td>\n",
       "      <td>82127</td>\n",
       "      <td>[]</td>\n",
       "      <td></td>\n",
       "      <td>[Bertini; Millo]</td>\n",
       "      <td>1996</td>\n",
       "      <td>US05572915</td>\n",
       "      <td>True</td>\n",
       "      <td>[US03939847, US03981673, US04580470, US0461784...</td>\n",
       "      <td>[US01467992, US01523063, US02377383, US03582000]</td>\n",
       "      <td>[]</td>\n",
       "      <td>[]</td>\n",
       "    </tr>\n",
       "    <tr>\n",
       "      <th>1027339</th>\n",
       "      <td>5702347</td>\n",
       "      <td>19971230</td>\n",
       "      <td>A</td>\n",
       "      <td>19960412</td>\n",
       "      <td>In an endoscope system including an endoscope ...</td>\n",
       "      <td>Endoscope system including endoscope and dispo...</td>\n",
       "      <td>[]</td>\n",
       "      <td></td>\n",
       "      <td>[]</td>\n",
       "      <td></td>\n",
       "      <td>600121</td>\n",
       "      <td>600123</td>\n",
       "      <td></td>\n",
       "      <td>[]</td>\n",
       "      <td>1997</td>\n",
       "      <td>US05702347</td>\n",
       "      <td>True</td>\n",
       "      <td>[]</td>\n",
       "      <td>[]</td>\n",
       "      <td>[]</td>\n",
       "      <td>[]</td>\n",
       "    </tr>\n",
       "    <tr>\n",
       "      <th>1039433</th>\n",
       "      <td>5725612</td>\n",
       "      <td>19980310</td>\n",
       "      <td>A</td>\n",
       "      <td>19970410</td>\n",
       "      <td>New, highly effective detergent/dispersants fo...</td>\n",
       "      <td>Additives for minimizing intake valve deposits...</td>\n",
       "      <td>[]</td>\n",
       "      <td></td>\n",
       "      <td>[]</td>\n",
       "      <td></td>\n",
       "      <td>44415</td>\n",
       "      <td>[560355, 560359]</td>\n",
       "      <td></td>\n",
       "      <td>[]</td>\n",
       "      <td>1998</td>\n",
       "      <td>US05725612</td>\n",
       "      <td>True</td>\n",
       "      <td>[]</td>\n",
       "      <td>[]</td>\n",
       "      <td>[]</td>\n",
       "      <td>[]</td>\n",
       "    </tr>\n",
       "    <tr>\n",
       "      <th>1103207</th>\n",
       "      <td>5893304</td>\n",
       "      <td>19990413</td>\n",
       "      <td>A</td>\n",
       "      <td>19970319</td>\n",
       "      <td>A roofing removing tool has a shingle removing...</td>\n",
       "      <td>Roofing removal tool</td>\n",
       "      <td>[]</td>\n",
       "      <td></td>\n",
       "      <td>[]</td>\n",
       "      <td></td>\n",
       "      <td>81 45</td>\n",
       "      <td>[2541315, 30169, 299 361]</td>\n",
       "      <td></td>\n",
       "      <td>[Carroll; James P.]</td>\n",
       "      <td>1999</td>\n",
       "      <td>US05893304</td>\n",
       "      <td>True</td>\n",
       "      <td>[]</td>\n",
       "      <td>[]</td>\n",
       "      <td>[]</td>\n",
       "      <td>[]</td>\n",
       "    </tr>\n",
       "    <tr>\n",
       "      <th>1106782</th>\n",
       "      <td>5897578</td>\n",
       "      <td>19990427</td>\n",
       "      <td>A</td>\n",
       "      <td>19980827</td>\n",
       "      <td>A method and apparatus for attaching a pre-for...</td>\n",
       "      <td>Attachment apparatus and method for an implant...</td>\n",
       "      <td>[3842842, 4041956, 4142532, 4182345, 4243042, ...</td>\n",
       "      <td></td>\n",
       "      <td>[]</td>\n",
       "      <td></td>\n",
       "      <td>607 36</td>\n",
       "      <td>[]</td>\n",
       "      <td></td>\n",
       "      <td>[]</td>\n",
       "      <td>1999</td>\n",
       "      <td>US05897578</td>\n",
       "      <td>True</td>\n",
       "      <td>[US04041956, US04142532, US04182345, US0424823...</td>\n",
       "      <td>[US03842842, US04243042, US05522861, US05535097]</td>\n",
       "      <td>[]</td>\n",
       "      <td>[]</td>\n",
       "    </tr>\n",
       "  </tbody>\n",
       "</table>\n",
       "</div>"
      ],
      "text/plain": [
       "             uid grant_date kind  app_date  \\\n",
       "1630     3932897   19760120    A  19741212   \n",
       "35783    3983864   19761005    A  19750707   \n",
       "81589    4048653   19770913    A  19751015   \n",
       "511724   4704720   19871103    A  19850102   \n",
       "512221   4705229   19871110    A  19850827   \n",
       "713272   5057224   19911015    A  19900411   \n",
       "766333   5156284   19921020    A  19920327   \n",
       "958698   5546824   19960820    A  19950309   \n",
       "971015   5572915   19961112    A  19941017   \n",
       "1027339  5702347   19971230    A  19960412   \n",
       "1039433  5725612   19980310    A  19970410   \n",
       "1103207  5893304   19990413    A  19970319   \n",
       "1106782  5897578   19990427    A  19980827   \n",
       "\n",
       "                                                  abstract  \\\n",
       "1630     A hockey garter belt includes an elongate body...   \n",
       "35783    Method and apparatus for withdrawing and analy...   \n",
       "81589    Head-coupled visual display apparatus for a so...   \n",
       "511724   A distributed feedback semiconductor laser in ...   \n",
       "512221   A device for supporting a roll of material to ...   \n",
       "713272   The present invention provides a composition f...   \n",
       "766333   A thermally insulated baby bottle assembly con...   \n",
       "958698   Disclosed is a high strength, self-lubricating...   \n",
       "971015   A pull bar gripper assembly having a body memb...   \n",
       "1027339  In an endoscope system including an endoscope ...   \n",
       "1039433  New, highly effective detergent/dispersants fo...   \n",
       "1103207  A roofing removing tool has a shingle removing...   \n",
       "1106782  A method and apparatus for attaching a pre-for...   \n",
       "\n",
       "                                                     title  \\\n",
       "1630                                    Hockey garter belt   \n",
       "35783    Method and apparatus for in vivo blood gas ana...   \n",
       "81589                             Visual display apparatus   \n",
       "511724            Distributed-feedback semiconductor laser   \n",
       "512221          Compact apparatus for laying paving fabric   \n",
       "713272   Method for evaluating the performance of rever...   \n",
       "766333                     Thermally insulated baby bottle   \n",
       "958698   Visual method and apparatus for adjusting gear...   \n",
       "971015                           Pull bar gripper assembly   \n",
       "1027339  Endoscope system including endoscope and dispo...   \n",
       "1039433  Additives for minimizing intake valve deposits...   \n",
       "1103207                               Roofing removal tool   \n",
       "1106782  Attachment apparatus and method for an implant...   \n",
       "\n",
       "                                                 citations IPC_main_class  \\\n",
       "1630     [675748, 1551358, 2530850, 2579190, 2975432, 3...                  \n",
       "35783        [3512517, 3572315, 3585002, 3640269, 3649199]                  \n",
       "81589                 [3076271, 3401233, 3614314, 3757190]                  \n",
       "511724   [4178604, 4237224, 4273875, 4374927, 4375514, ...                  \n",
       "512221   [2258205, 3632054, 3913854, 4010859, 4148399, ...                  \n",
       "713272                                                  []                  \n",
       "766333   [922174, 1221335, 1415908, 1694967, 3530979, 3...                  \n",
       "958698   [3010338, 3081648, 3175110, 3199364, 3501183, ...                  \n",
       "971015   [1467992, 1523063, 2377383, 3582000, 3939847, ...                  \n",
       "1027339                                                 []                  \n",
       "1039433                                                 []                  \n",
       "1103207                                                 []                  \n",
       "1106782  [3842842, 4041956, 4142532, 4182345, 4243042, ...                  \n",
       "\n",
       "        IPC_further_classes IPC_edition US_main_class  \\\n",
       "1630                     []                      2306   \n",
       "35783                    []                   128  2G   \n",
       "81589                    []                    358104   \n",
       "511724                   []                             \n",
       "512221                   []                             \n",
       "713272                   []                    210635   \n",
       "766333                   []                             \n",
       "958698                   []                    74421R   \n",
       "971015                   []                     82127   \n",
       "1027339                  []                    600121   \n",
       "1039433                  []                     44415   \n",
       "1103207                  []                     81 45   \n",
       "1106782                  []                    607 36   \n",
       "\n",
       "                                        US_further_classes US_edition  \\\n",
       "1630                                              41F 1900              \n",
       "35783    [23230B, 23232C, 734215R, 128  2F, 128  2L, 12...              \n",
       "81589                                               358250              \n",
       "511724                                                  []              \n",
       "512221                                                  []              \n",
       "713272                [210656, 2101982, 73 611C, 01D 1508]              \n",
       "766333                                                  []              \n",
       "958698                    [298931, 74462, 74DIG10, 116200]              \n",
       "971015                                                  []              \n",
       "1027339                                             600123              \n",
       "1039433                                   [560355, 560359]              \n",
       "1103207                          [2541315, 30169, 299 361]              \n",
       "1106782                                                 []              \n",
       "\n",
       "                         inventors  year correct_uid  is_utility  \\\n",
       "1630            [Young; Nathan H.]  1976  US03932897        True   \n",
       "35783                           []  1976  US03983864        True   \n",
       "81589    [Spooner; Archer Michael]  1977  US04048653        True   \n",
       "511724       [Yamaguchi; Masayuki]  1987  US04704720        True   \n",
       "512221         [Barazone; Mounque]  1987  US04705229        True   \n",
       "713272                          []  1991  US05057224        True   \n",
       "766333                          []  1992  US05156284        True   \n",
       "958698                          []  1996  US05546824        True   \n",
       "971015            [Bertini; Millo]  1996  US05572915        True   \n",
       "1027339                         []  1997  US05702347        True   \n",
       "1039433                         []  1998  US05725612        True   \n",
       "1103207        [Carroll; James P.]  1999  US05893304        True   \n",
       "1106782                         []  1999  US05897578        True   \n",
       "\n",
       "                           US_utility_citations_in_dataset  \\\n",
       "1630                                                    []   \n",
       "35783                                                   []   \n",
       "81589                                                   []   \n",
       "511724                [US04237224, US04273875, US04375514]   \n",
       "512221   [US04010859, US04148399, US04456399, US0451829...   \n",
       "713272                                                  []   \n",
       "766333    [US04215785, US05038948, US05044509, US05069351]   \n",
       "958698   [US04046324, US04202644, US04345851, US0436705...   \n",
       "971015   [US03939847, US03981673, US04580470, US0461784...   \n",
       "1027339                                                 []   \n",
       "1039433                                                 []   \n",
       "1103207                                                 []   \n",
       "1106782  [US04041956, US04142532, US04182345, US0424823...   \n",
       "\n",
       "                       US_utility_citations_not_in_dataset US_other_citations  \\\n",
       "1630     [US00675748, US01551358, US02530850, US0257919...                 []   \n",
       "35783    [US03512517, US03572315, US03585002, US0364026...                 []   \n",
       "81589     [US03076271, US03401233, US03614314, US03757190]                 []   \n",
       "511724   [US04178604, US04374927, US02441659, US0202361...                 []   \n",
       "512221   [US02258205, US03632054, US03913854, US0391469...                 []   \n",
       "713272                                                  []                 []   \n",
       "766333   [US00922174, US01221335, US01415908, US0169496...                 []   \n",
       "958698   [US03010338, US03081648, US03175110, US0319936...                 []   \n",
       "971015    [US01467992, US01523063, US02377383, US03582000]                 []   \n",
       "1027339                                                 []                 []   \n",
       "1039433                                                 []                 []   \n",
       "1103207                                                 []                 []   \n",
       "1106782   [US03842842, US04243042, US05522861, US05535097]                 []   \n",
       "\n",
       "        other_citations  \n",
       "1630                 []  \n",
       "35783                []  \n",
       "81589                []  \n",
       "511724          [32238]  \n",
       "512221               []  \n",
       "713272               []  \n",
       "766333               []  \n",
       "958698               []  \n",
       "971015               []  \n",
       "1027339              []  \n",
       "1039433              []  \n",
       "1103207              []  \n",
       "1106782              []  "
      ]
     },
     "execution_count": 104,
     "metadata": {},
     "output_type": "execute_result"
    }
   ],
   "source": [
    "a"
   ]
  },
  {
   "cell_type": "markdown",
   "id": "4b458976-e228-44f2-8610-9b4cd2bbed62",
   "metadata": {},
   "source": [
    "### Check further classes"
   ]
  },
  {
   "cell_type": "code",
   "execution_count": 105,
   "id": "57a2416d-e52c-40a7-ab3c-1c3df6c037ba",
   "metadata": {},
   "outputs": [],
   "source": [
    "IPC_further_classes_list = list(utility_time_ordered_all_patents_df_no_nan.IPC_further_classes.values)"
   ]
  },
  {
   "cell_type": "code",
   "execution_count": 106,
   "id": "66c3d365-1676-4fcb-b0f9-78bbffd97dcf",
   "metadata": {},
   "outputs": [
    {
     "name": "stderr",
     "output_type": "stream",
     "text": [
      "6606214it [00:15, 414756.39it/s]\n"
     ]
    }
   ],
   "source": [
    "further_classes = []\n",
    "problem_IPC_classes = []\n",
    "num_problems = 0\n",
    "num_ok = 0\n",
    "for i, IPC_further_classes in tqdm(enumerate(IPC_further_classes_list)):\n",
    "    further = []\n",
    "    isproblem = False\n",
    "    for IPC_further_class in IPC_further_classes:\n",
    "        if len(IPC_further_class) >= 4 and IPC_further_class[0].isalpha() and IPC_further_class[1:3].isnumeric() and IPC_further_class[3].isalpha():\n",
    "            further.append(IPC_further_class[:4])\n",
    "        else:\n",
    "            problem_IPC_classes.append(IPC_further_class)\n",
    "            isproblem = True\n",
    "    further_classes.append(further)\n",
    "    if isproblem:\n",
    "        num_problems += 1\n",
    "    else:\n",
    "        num_ok += 1"
   ]
  },
  {
   "cell_type": "code",
   "execution_count": 107,
   "id": "88929ecd-541f-4cca-a704-71f4216f01e4",
   "metadata": {},
   "outputs": [
    {
     "name": "stdout",
     "output_type": "stream",
     "text": [
      "247 6.084809530325359e-05\n"
     ]
    }
   ],
   "source": [
    "print(num_problems, len(problem_IPC_classes) / (len(problem_IPC_classes) + len(further_classes)))"
   ]
  },
  {
   "cell_type": "code",
   "execution_count": 109,
   "id": "40ba377e-00c1-478c-860a-eb5c750d85d0",
   "metadata": {},
   "outputs": [
    {
     "name": "stderr",
     "output_type": "stream",
     "text": [
      "100%|██████████| 402/402 [00:00<00:00, 271953.26it/s]"
     ]
    },
    {
     "name": "stdout",
     "output_type": "stream",
     "text": [
      "222 is also found in IPC_main_class\n",
      "106 is also found in IPC_main_class\n",
      "108 is also found in IPC_main_class\n",
      "B05 is also found in IPC_main_class\n",
      "219 is also found in IPC_main_class\n",
      "424 is also found in IPC_main_class\n",
      "428 is also found in IPC_main_class\n",
      "C87 is also found in IPC_main_class\n",
      "119 is also found in IPC_main_class\n",
      "308 is also found in IPC_main_class\n",
      "137 is also found in IPC_main_class\n",
      "242 is also found in IPC_main_class\n",
      "F16 is also found in IPC_main_class\n",
      "303 is also found in IPC_main_class\n",
      "303 is also found in IPC_main_class\n",
      "B65 is also found in IPC_main_class\n",
      "B65 is also found in IPC_main_class\n",
      "B65 is also found in IPC_main_class\n",
      "242 is also found in IPC_main_class\n",
      "242 is also found in IPC_main_class\n",
      "242 is also found in IPC_main_class\n",
      "4 3 is also found in IPC_main_class\n",
      "9 2 is also found in IPC_main_class\n",
      "9 2 is also found in IPC_main_class\n",
      "F16 is also found in IPC_main_class\n",
      "428 is also found in IPC_main_class\n",
      "428 is also found in IPC_main_class\n",
      "428 is also found in IPC_main_class\n",
      "G01 is also found in IPC_main_class\n",
      "426 is also found in IPC_main_class\n",
      "426 is also found in IPC_main_class\n",
      "426 is also found in IPC_main_class\n",
      "426 is also found in IPC_main_class\n",
      "428 is also found in IPC_main_class\n",
      "428 is also found in IPC_main_class\n",
      "428 is also found in IPC_main_class\n",
      "C08 is also found in IPC_main_class\n",
      "G02 is also found in IPC_main_class\n",
      "272 is also found in IPC_main_class\n",
      "303 is also found in IPC_main_class\n",
      "303 is also found in IPC_main_class\n",
      "303 is also found in IPC_main_class\n",
      "303 is also found in IPC_main_class\n",
      "303 is also found in IPC_main_class\n",
      "303 is also found in IPC_main_class\n",
      "303 is also found in IPC_main_class\n",
      "A10 is also found in IPC_main_class\n",
      "6 2 is also found in IPC_main_class\n",
      "6 2 is also found in IPC_main_class\n",
      "112 is also found in IPC_main_class\n",
      "112 is also found in IPC_main_class\n",
      "112 is also found in IPC_main_class\n",
      "112 is also found in IPC_main_class\n",
      "112 is also found in IPC_main_class\n",
      "137 is also found in IPC_main_class\n",
      "137 is also found in IPC_main_class\n",
      "175 is also found in IPC_main_class\n",
      "175 is also found in IPC_main_class\n",
      "252 is also found in IPC_main_class\n",
      "252 is also found in IPC_main_class\n",
      "252 is also found in IPC_main_class\n",
      "312 is also found in IPC_main_class\n",
      "312 is also found in IPC_main_class\n",
      "312 is also found in IPC_main_class\n",
      "312 is also found in IPC_main_class\n",
      "108 is also found in IPC_main_class\n",
      "335 is also found in IPC_main_class\n",
      "8 2 is also found in IPC_main_class\n",
      "239 is also found in IPC_main_class\n",
      "A79 is also found in IPC_main_class\n",
      "A79 is also found in IPC_main_class\n",
      "5 2 is also found in IPC_main_class\n",
      "560 is also found in IPC_main_class\n",
      "560 is also found in IPC_main_class\n",
      "165 is also found in IPC_main_class\n",
      "165 is also found in IPC_main_class\n",
      "134 is also found in IPC_main_class\n",
      "134 is also found in IPC_main_class\n",
      "6 2 is also found in IPC_main_class\n",
      "108 is also found in IPC_main_class\n",
      "225 is also found in IPC_main_class\n",
      "225 is also found in IPC_main_class\n",
      "034 is also found in IPC_main_class\n",
      "404 is also found in IPC_main_class\n",
      "222 is also found in IPC_main_class\n",
      "222 is also found in IPC_main_class\n",
      "7 2 is also found in IPC_main_class\n",
      "426 is also found in IPC_main_class\n",
      "403 is also found in IPC_main_class\n",
      "403 is also found in IPC_main_class\n",
      "604N is also found in IPC_main_class\n"
     ]
    },
    {
     "name": "stderr",
     "output_type": "stream",
     "text": [
      "\n"
     ]
    }
   ],
   "source": [
    "for IPC_class in tqdm(problem_IPC_classes):\n",
    "    if IPC_class in IPC_main_class_set:\n",
    "        print(f'{IPC_class} is also found in IPC_main_class')"
   ]
  },
  {
   "cell_type": "code",
   "execution_count": 110,
   "id": "0589b9d3-e2c1-4241-9583-9a7b1fccd66c",
   "metadata": {},
   "outputs": [
    {
     "data": {
      "text/plain": [
       "['222',\n",
       " '106',\n",
       " '200',\n",
       " '108',\n",
       " 'B05',\n",
       " '173;   218 D;218 A;218 F;218 R;218 DA;215;216;225;220;221;173;   2',\n",
       " '219',\n",
       " '172',\n",
       " '2 9',\n",
       " '424']"
      ]
     },
     "execution_count": 110,
     "metadata": {},
     "output_type": "execute_result"
    }
   ],
   "source": [
    "problem_IPC_classes[:10]"
   ]
  },
  {
   "cell_type": "markdown",
   "id": "22cfa86a-db43-4021-8226-67926289ed86",
   "metadata": {},
   "source": [
    "### Change into correct IPC classification"
   ]
  },
  {
   "cell_type": "code",
   "execution_count": 111,
   "id": "86ff3c01-846a-4a73-a879-cdc92f622557",
   "metadata": {},
   "outputs": [],
   "source": [
    "IPC_main_class_list = list(utility_time_ordered_all_patents_df_no_nan.IPC_main_class.values)"
   ]
  },
  {
   "cell_type": "code",
   "execution_count": 112,
   "id": "f10e54ef-bf2f-4c1d-b970-c54e15dd80fe",
   "metadata": {},
   "outputs": [
    {
     "name": "stderr",
     "output_type": "stream",
     "text": [
      "100%|██████████| 6606214/6606214 [00:11<00:00, 577992.45it/s]\n"
     ]
    }
   ],
   "source": [
    "correct_IPC_main_class_list = []\n",
    "for c in tqdm(IPC_main_class_list):\n",
    "    is_correct, section, clas, subclas, group = is_IPC_class(c)\n",
    "    correct_IPC_main_class_list.append((section, clas, subclas, group))"
   ]
  },
  {
   "cell_type": "code",
   "execution_count": 113,
   "id": "a7ca7cd9-f404-40dc-9c8d-1342d5c8bba2",
   "metadata": {},
   "outputs": [],
   "source": [
    "utility_time_ordered_all_patents_df_no_nan['correct_IPC_main_class'] = correct_IPC_main_class_list"
   ]
  },
  {
   "cell_type": "code",
   "execution_count": 114,
   "id": "14b7ac69-c2b6-4bb3-85a1-d955fbc9fd23",
   "metadata": {},
   "outputs": [],
   "source": [
    "IPC_further_classes_list = list(utility_time_ordered_all_patents_df_no_nan.IPC_further_classes.values)"
   ]
  },
  {
   "cell_type": "code",
   "execution_count": 115,
   "id": "e72bf7cc-c70d-476d-a69f-1cdb871ad68e",
   "metadata": {},
   "outputs": [
    {
     "name": "stderr",
     "output_type": "stream",
     "text": [
      "100%|██████████| 6606214/6606214 [00:54<00:00, 120582.22it/s]\n"
     ]
    }
   ],
   "source": [
    "correct_IPC_further_classes_list = []\n",
    "for classes in tqdm(IPC_further_classes_list):\n",
    "    tmp_classes = []\n",
    "    for c in classes:\n",
    "        is_correct, section, clas, subclas, group = is_IPC_class(c)\n",
    "        tmp_classes.append((section, clas, subclas, group))\n",
    "    correct_IPC_further_classes_list.append(tmp_classes)"
   ]
  },
  {
   "cell_type": "code",
   "execution_count": 116,
   "id": "19356fa0-900e-4e65-b8a9-86fa9fe1c6e0",
   "metadata": {},
   "outputs": [],
   "source": [
    "utility_time_ordered_all_patents_df_no_nan['correct_IPC_further_classes'] = correct_IPC_further_classes_list"
   ]
  },
  {
   "cell_type": "markdown",
   "id": "46900409-34ec-4e6a-bb79-b2ee106f58a1",
   "metadata": {},
   "source": [
    "# Dumping"
   ]
  },
  {
   "cell_type": "code",
   "execution_count": 117,
   "id": "571d2db7-5675-4c8e-a5fc-c7c6e943ce60",
   "metadata": {},
   "outputs": [],
   "source": [
    "filtered_data_folder = os.path.join(root_folder, 'filtered_data/')\n",
    "os.makedirs(filtered_data_folder, exist_ok = True)"
   ]
  },
  {
   "cell_type": "markdown",
   "id": "94810bdc-3c38-4438-bb4c-0f864101c219",
   "metadata": {},
   "source": [
    "## Last checks"
   ]
  },
  {
   "cell_type": "code",
   "execution_count": 118,
   "id": "66de3f82-d3b5-47c3-8fc1-e4c4856d0c77",
   "metadata": {},
   "outputs": [
    {
     "data": {
      "text/html": [
       "<div>\n",
       "<style scoped>\n",
       "    .dataframe tbody tr th:only-of-type {\n",
       "        vertical-align: middle;\n",
       "    }\n",
       "\n",
       "    .dataframe tbody tr th {\n",
       "        vertical-align: top;\n",
       "    }\n",
       "\n",
       "    .dataframe thead th {\n",
       "        text-align: right;\n",
       "    }\n",
       "</style>\n",
       "<table border=\"1\" class=\"dataframe\">\n",
       "  <thead>\n",
       "    <tr style=\"text-align: right;\">\n",
       "      <th></th>\n",
       "      <th>uid</th>\n",
       "      <th>grant_date</th>\n",
       "      <th>kind</th>\n",
       "      <th>app_date</th>\n",
       "      <th>abstract</th>\n",
       "      <th>title</th>\n",
       "      <th>citations</th>\n",
       "      <th>IPC_main_class</th>\n",
       "      <th>IPC_further_classes</th>\n",
       "      <th>IPC_edition</th>\n",
       "      <th>US_main_class</th>\n",
       "      <th>US_further_classes</th>\n",
       "      <th>US_edition</th>\n",
       "      <th>inventors</th>\n",
       "      <th>year</th>\n",
       "      <th>correct_uid</th>\n",
       "      <th>is_utility</th>\n",
       "      <th>US_utility_citations_in_dataset</th>\n",
       "      <th>US_utility_citations_not_in_dataset</th>\n",
       "      <th>US_other_citations</th>\n",
       "      <th>other_citations</th>\n",
       "      <th>correct_IPC_main_class</th>\n",
       "      <th>correct_IPC_further_classes</th>\n",
       "    </tr>\n",
       "  </thead>\n",
       "  <tbody>\n",
       "    <tr>\n",
       "      <th>0</th>\n",
       "      <td>3930271</td>\n",
       "      <td>19760106</td>\n",
       "      <td>A</td>\n",
       "      <td>19741216</td>\n",
       "      <td>A golf glove is disclosed having an extra fing...</td>\n",
       "      <td>Golf glove</td>\n",
       "      <td>[2379430, 2782422]</td>\n",
       "      <td>A41D 1900</td>\n",
       "      <td>[]</td>\n",
       "      <td></td>\n",
       "      <td>2161A</td>\n",
       "      <td>2 21</td>\n",
       "      <td>2</td>\n",
       "      <td>[Kahng; He Chung]</td>\n",
       "      <td>1976</td>\n",
       "      <td>US03930271</td>\n",
       "      <td>True</td>\n",
       "      <td>[]</td>\n",
       "      <td>[US02379430, US02782422]</td>\n",
       "      <td>[]</td>\n",
       "      <td>[]</td>\n",
       "      <td>(A, 41, D, 1900)</td>\n",
       "      <td>[]</td>\n",
       "    </tr>\n",
       "    <tr>\n",
       "      <th>1</th>\n",
       "      <td>3930272</td>\n",
       "      <td>19760106</td>\n",
       "      <td>A</td>\n",
       "      <td>19740910</td>\n",
       "      <td>A lock for a height-adjustable crib or playpen...</td>\n",
       "      <td>Crib leg lock</td>\n",
       "      <td>[933921, 1549144, 1609246, 1667080, 1834468, 2...</td>\n",
       "      <td>A47D  701</td>\n",
       "      <td>[]</td>\n",
       "      <td></td>\n",
       "      <td>5 11</td>\n",
       "      <td>[5100, 248423, 403107]</td>\n",
       "      <td>2</td>\n",
       "      <td>[Boudreau; Robert J.]</td>\n",
       "      <td>1976</td>\n",
       "      <td>US03930272</td>\n",
       "      <td>True</td>\n",
       "      <td>[]</td>\n",
       "      <td>[US00933921, US01549144, US01609246, US0166708...</td>\n",
       "      <td>[]</td>\n",
       "      <td>[]</td>\n",
       "      <td>(A, 47, D, 701)</td>\n",
       "      <td>[]</td>\n",
       "    </tr>\n",
       "    <tr>\n",
       "      <th>2</th>\n",
       "      <td>3930273</td>\n",
       "      <td>19760106</td>\n",
       "      <td>A</td>\n",
       "      <td>19750110</td>\n",
       "      <td>A bed safety side rail arrangement which inclu...</td>\n",
       "      <td>Bed safety side rail arrangement</td>\n",
       "      <td>[1240201, 2817855, 3093839, 3125769, 3175453, ...</td>\n",
       "      <td>A47D  702</td>\n",
       "      <td>[A47C 2100]</td>\n",
       "      <td></td>\n",
       "      <td>5331</td>\n",
       "      <td>5100</td>\n",
       "      <td>2</td>\n",
       "      <td>[Stern; Robert C.]</td>\n",
       "      <td>1976</td>\n",
       "      <td>US03930273</td>\n",
       "      <td>True</td>\n",
       "      <td>[]</td>\n",
       "      <td>[US01240201, US02817855, US03093839, US0312576...</td>\n",
       "      <td>[]</td>\n",
       "      <td>[]</td>\n",
       "      <td>(A, 47, D, 702)</td>\n",
       "      <td>[(A, 47, C, 2100)]</td>\n",
       "    </tr>\n",
       "    <tr>\n",
       "      <th>3</th>\n",
       "      <td>3930274</td>\n",
       "      <td>19760106</td>\n",
       "      <td>A</td>\n",
       "      <td>19741011</td>\n",
       "      <td>The assembly includes a longitudinal axis and ...</td>\n",
       "      <td>Assembly for use in recreational activities</td>\n",
       "      <td>[2546396, 3064370, 3601076]</td>\n",
       "      <td>B63B  708</td>\n",
       "      <td>[]</td>\n",
       "      <td></td>\n",
       "      <td>9  2A</td>\n",
       "      <td>[150 51, 220 12]</td>\n",
       "      <td>2</td>\n",
       "      <td>[Syfritt; Harold A.]</td>\n",
       "      <td>1976</td>\n",
       "      <td>US03930274</td>\n",
       "      <td>True</td>\n",
       "      <td>[]</td>\n",
       "      <td>[US02546396, US03064370, US03601076]</td>\n",
       "      <td>[]</td>\n",
       "      <td>[]</td>\n",
       "      <td>(B, 63, B, 708)</td>\n",
       "      <td>[]</td>\n",
       "    </tr>\n",
       "    <tr>\n",
       "      <th>4</th>\n",
       "      <td>3930275</td>\n",
       "      <td>19760106</td>\n",
       "      <td>A</td>\n",
       "      <td>19750331</td>\n",
       "      <td>A novel slipper and its method of fabrication ...</td>\n",
       "      <td>Method of fabricating a slipper</td>\n",
       "      <td>[914377, 2971278, 3311937]</td>\n",
       "      <td>A43D  900</td>\n",
       "      <td>[]</td>\n",
       "      <td></td>\n",
       "      <td>12142S</td>\n",
       "      <td>[]</td>\n",
       "      <td>2</td>\n",
       "      <td>[Bailin; Richard]</td>\n",
       "      <td>1976</td>\n",
       "      <td>US03930275</td>\n",
       "      <td>True</td>\n",
       "      <td>[]</td>\n",
       "      <td>[US00914377, US02971278, US03311937]</td>\n",
       "      <td>[]</td>\n",
       "      <td>[]</td>\n",
       "      <td>(A, 43, D, 900)</td>\n",
       "      <td>[]</td>\n",
       "    </tr>\n",
       "    <tr>\n",
       "      <th>...</th>\n",
       "      <td>...</td>\n",
       "      <td>...</td>\n",
       "      <td>...</td>\n",
       "      <td>...</td>\n",
       "      <td>...</td>\n",
       "      <td>...</td>\n",
       "      <td>...</td>\n",
       "      <td>...</td>\n",
       "      <td>...</td>\n",
       "      <td>...</td>\n",
       "      <td>...</td>\n",
       "      <td>...</td>\n",
       "      <td>...</td>\n",
       "      <td>...</td>\n",
       "      <td>...</td>\n",
       "      <td>...</td>\n",
       "      <td>...</td>\n",
       "      <td>...</td>\n",
       "      <td>...</td>\n",
       "      <td>...</td>\n",
       "      <td>...</td>\n",
       "      <td>...</td>\n",
       "      <td>...</td>\n",
       "    </tr>\n",
       "    <tr>\n",
       "      <th>6606209</th>\n",
       "      <td>11452247</td>\n",
       "      <td>20220920</td>\n",
       "      <td>B2</td>\n",
       "      <td>20191119</td>\n",
       "      <td>A carrier tape has a central portion, and fir...</td>\n",
       "      <td>Multi-row carrier tape with alternating, stagg...</td>\n",
       "      <td>[]</td>\n",
       "      <td>H01L 21/673</td>\n",
       "      <td>[H05K 13/00]</td>\n",
       "      <td>20060101</td>\n",
       "      <td>H05K 13/0084</td>\n",
       "      <td>[H01L 21/67333, H01L 2221/68313]</td>\n",
       "      <td>20130101</td>\n",
       "      <td>[Oliverius; Todd M.]</td>\n",
       "      <td>2022</td>\n",
       "      <td>US11452247</td>\n",
       "      <td>True</td>\n",
       "      <td>[]</td>\n",
       "      <td>[]</td>\n",
       "      <td>[]</td>\n",
       "      <td>[]</td>\n",
       "      <td>(H, 01, L, 21/673)</td>\n",
       "      <td>[(H, 05, K, 13/00)]</td>\n",
       "    </tr>\n",
       "    <tr>\n",
       "      <th>6606210</th>\n",
       "      <td>11452248</td>\n",
       "      <td>20220920</td>\n",
       "      <td>B2</td>\n",
       "      <td>20170208</td>\n",
       "      <td>A work machine including a work head includin...</td>\n",
       "      <td>Work machine</td>\n",
       "      <td>[]</td>\n",
       "      <td>H05K 13/02</td>\n",
       "      <td>[H05K 13/04, B25J 15/06, G05B 19/4061, H05K 13...</td>\n",
       "      <td>20060101</td>\n",
       "      <td>H05K 13/022</td>\n",
       "      <td>[B25J 9/1676, B25J 15/06, B25J 15/0616, G05B 1...</td>\n",
       "      <td>20130101</td>\n",
       "      <td>[Matsumoto; Toru]</td>\n",
       "      <td>2022</td>\n",
       "      <td>US11452248</td>\n",
       "      <td>True</td>\n",
       "      <td>[]</td>\n",
       "      <td>[]</td>\n",
       "      <td>[]</td>\n",
       "      <td>[]</td>\n",
       "      <td>(H, 05, K, 13/02)</td>\n",
       "      <td>[(H, 05, K, 13/04), (B, 25, J, 15/06), (G, 05,...</td>\n",
       "    </tr>\n",
       "    <tr>\n",
       "      <th>6606211</th>\n",
       "      <td>11452249</td>\n",
       "      <td>20220920</td>\n",
       "      <td>B2</td>\n",
       "      <td>20181205</td>\n",
       "      <td>A carrier for reversibly immobilizing one or ...</td>\n",
       "      <td>Carrier for reversibly immobilizing one or mor...</td>\n",
       "      <td>[]</td>\n",
       "      <td>H05K 13/04</td>\n",
       "      <td>[B29C 48/08, B29C 48/00, B65B 15/04, B65D 73/0...</td>\n",
       "      <td>20060101</td>\n",
       "      <td>H05K 13/0419</td>\n",
       "      <td>[B29C 48/0021, B29C 48/08, B65B 15/04, B65D 73...</td>\n",
       "      <td>20180801</td>\n",
       "      <td>[Varma; Rajesh Kumar]</td>\n",
       "      <td>2022</td>\n",
       "      <td>US11452249</td>\n",
       "      <td>True</td>\n",
       "      <td>[]</td>\n",
       "      <td>[]</td>\n",
       "      <td>[]</td>\n",
       "      <td>[]</td>\n",
       "      <td>(H, 05, K, 13/04)</td>\n",
       "      <td>[(B, 29, C, 48/08), (B, 29, C, 48/00), (B, 65,...</td>\n",
       "    </tr>\n",
       "    <tr>\n",
       "      <th>6606212</th>\n",
       "      <td>11452250</td>\n",
       "      <td>20220920</td>\n",
       "      <td>B2</td>\n",
       "      <td>20190808</td>\n",
       "      <td>A substrate inspection device that is placed ...</td>\n",
       "      <td>Substrate inspection device that inspects appl...</td>\n",
       "      <td>[]</td>\n",
       "      <td>H05K 13/08</td>\n",
       "      <td>[G06T 7/11, G01N 21/956, G06T 7/00, H05K 3/34,...</td>\n",
       "      <td>20060101</td>\n",
       "      <td>H05K 13/0817</td>\n",
       "      <td>[G01N 21/95684, G06T 7/0006, G06T 7/11, H05K 3...</td>\n",
       "      <td>20180801</td>\n",
       "      <td>[Futamura; Ikuo, Ohyama; Tsuyoshi, Sakaida; No...</td>\n",
       "      <td>2022</td>\n",
       "      <td>US11452250</td>\n",
       "      <td>True</td>\n",
       "      <td>[]</td>\n",
       "      <td>[]</td>\n",
       "      <td>[]</td>\n",
       "      <td>[]</td>\n",
       "      <td>(H, 05, K, 13/08)</td>\n",
       "      <td>[(G, 06, T, 7/11), (G, 01, N, 21/956), (G, 06,...</td>\n",
       "    </tr>\n",
       "    <tr>\n",
       "      <th>6606213</th>\n",
       "      <td>11452251</td>\n",
       "      <td>20220920</td>\n",
       "      <td>B2</td>\n",
       "      <td>20171207</td>\n",
       "      <td>An information management device for managing...</td>\n",
       "      <td>Information management device</td>\n",
       "      <td>[]</td>\n",
       "      <td>B23P 19/00</td>\n",
       "      <td>[H05K 13/08, H05K 13/04]</td>\n",
       "      <td>20060101</td>\n",
       "      <td>H05K 13/089</td>\n",
       "      <td>[H05K 13/0408, H05K 13/0812, H05K 13/0818, Y10...</td>\n",
       "      <td>20180801</td>\n",
       "      <td>[Fujii; Kimio]</td>\n",
       "      <td>2022</td>\n",
       "      <td>US11452251</td>\n",
       "      <td>True</td>\n",
       "      <td>[]</td>\n",
       "      <td>[]</td>\n",
       "      <td>[]</td>\n",
       "      <td>[]</td>\n",
       "      <td>(B, 23, P, 19/00)</td>\n",
       "      <td>[(H, 05, K, 13/08), (H, 05, K, 13/04)]</td>\n",
       "    </tr>\n",
       "  </tbody>\n",
       "</table>\n",
       "<p>6606214 rows × 23 columns</p>\n",
       "</div>"
      ],
      "text/plain": [
       "              uid grant_date kind  app_date  \\\n",
       "0         3930271   19760106    A  19741216   \n",
       "1         3930272   19760106    A  19740910   \n",
       "2         3930273   19760106    A  19750110   \n",
       "3         3930274   19760106    A  19741011   \n",
       "4         3930275   19760106    A  19750331   \n",
       "...           ...        ...  ...       ...   \n",
       "6606209  11452247   20220920   B2  20191119   \n",
       "6606210  11452248   20220920   B2  20170208   \n",
       "6606211  11452249   20220920   B2  20181205   \n",
       "6606212  11452250   20220920   B2  20190808   \n",
       "6606213  11452251   20220920   B2  20171207   \n",
       "\n",
       "                                                  abstract  \\\n",
       "0        A golf glove is disclosed having an extra fing...   \n",
       "1        A lock for a height-adjustable crib or playpen...   \n",
       "2        A bed safety side rail arrangement which inclu...   \n",
       "3        The assembly includes a longitudinal axis and ...   \n",
       "4        A novel slipper and its method of fabrication ...   \n",
       "...                                                    ...   \n",
       "6606209   A carrier tape has a central portion, and fir...   \n",
       "6606210   A work machine including a work head includin...   \n",
       "6606211   A carrier for reversibly immobilizing one or ...   \n",
       "6606212   A substrate inspection device that is placed ...   \n",
       "6606213   An information management device for managing...   \n",
       "\n",
       "                                                     title  \\\n",
       "0                                               Golf glove   \n",
       "1                                            Crib leg lock   \n",
       "2                         Bed safety side rail arrangement   \n",
       "3              Assembly for use in recreational activities   \n",
       "4                          Method of fabricating a slipper   \n",
       "...                                                    ...   \n",
       "6606209  Multi-row carrier tape with alternating, stagg...   \n",
       "6606210                                       Work machine   \n",
       "6606211  Carrier for reversibly immobilizing one or mor...   \n",
       "6606212  Substrate inspection device that inspects appl...   \n",
       "6606213                      Information management device   \n",
       "\n",
       "                                                 citations IPC_main_class  \\\n",
       "0                                       [2379430, 2782422]      A41D 1900   \n",
       "1        [933921, 1549144, 1609246, 1667080, 1834468, 2...      A47D  701   \n",
       "2        [1240201, 2817855, 3093839, 3125769, 3175453, ...      A47D  702   \n",
       "3                              [2546396, 3064370, 3601076]      B63B  708   \n",
       "4                               [914377, 2971278, 3311937]      A43D  900   \n",
       "...                                                    ...            ...   \n",
       "6606209                                                 []    H01L 21/673   \n",
       "6606210                                                 []     H05K 13/02   \n",
       "6606211                                                 []     H05K 13/04   \n",
       "6606212                                                 []     H05K 13/08   \n",
       "6606213                                                 []     B23P 19/00   \n",
       "\n",
       "                                       IPC_further_classes IPC_edition  \\\n",
       "0                                                       []               \n",
       "1                                                       []               \n",
       "2                                              [A47C 2100]               \n",
       "3                                                       []               \n",
       "4                                                       []               \n",
       "...                                                    ...         ...   \n",
       "6606209                                       [H05K 13/00]    20060101   \n",
       "6606210  [H05K 13/04, B25J 15/06, G05B 19/4061, H05K 13...    20060101   \n",
       "6606211  [B29C 48/08, B29C 48/00, B65B 15/04, B65D 73/0...    20060101   \n",
       "6606212  [G06T 7/11, G01N 21/956, G06T 7/00, H05K 3/34,...    20060101   \n",
       "6606213                           [H05K 13/08, H05K 13/04]    20060101   \n",
       "\n",
       "        US_main_class                                 US_further_classes  \\\n",
       "0               2161A                                               2 21   \n",
       "1                5 11                             [5100, 248423, 403107]   \n",
       "2                5331                                               5100   \n",
       "3               9  2A                                   [150 51, 220 12]   \n",
       "4              12142S                                                 []   \n",
       "...               ...                                                ...   \n",
       "6606209  H05K 13/0084                   [H01L 21/67333, H01L 2221/68313]   \n",
       "6606210   H05K 13/022  [B25J 9/1676, B25J 15/06, B25J 15/0616, G05B 1...   \n",
       "6606211  H05K 13/0419  [B29C 48/0021, B29C 48/08, B65B 15/04, B65D 73...   \n",
       "6606212  H05K 13/0817  [G01N 21/95684, G06T 7/0006, G06T 7/11, H05K 3...   \n",
       "6606213   H05K 13/089  [H05K 13/0408, H05K 13/0812, H05K 13/0818, Y10...   \n",
       "\n",
       "        US_edition                                          inventors  year  \\\n",
       "0                2                                  [Kahng; He Chung]  1976   \n",
       "1                2                              [Boudreau; Robert J.]  1976   \n",
       "2                2                                 [Stern; Robert C.]  1976   \n",
       "3                2                               [Syfritt; Harold A.]  1976   \n",
       "4                2                                  [Bailin; Richard]  1976   \n",
       "...            ...                                                ...   ...   \n",
       "6606209   20130101                               [Oliverius; Todd M.]  2022   \n",
       "6606210   20130101                                  [Matsumoto; Toru]  2022   \n",
       "6606211   20180801                              [Varma; Rajesh Kumar]  2022   \n",
       "6606212   20180801  [Futamura; Ikuo, Ohyama; Tsuyoshi, Sakaida; No...  2022   \n",
       "6606213   20180801                                     [Fujii; Kimio]  2022   \n",
       "\n",
       "        correct_uid  is_utility US_utility_citations_in_dataset  \\\n",
       "0        US03930271        True                              []   \n",
       "1        US03930272        True                              []   \n",
       "2        US03930273        True                              []   \n",
       "3        US03930274        True                              []   \n",
       "4        US03930275        True                              []   \n",
       "...             ...         ...                             ...   \n",
       "6606209  US11452247        True                              []   \n",
       "6606210  US11452248        True                              []   \n",
       "6606211  US11452249        True                              []   \n",
       "6606212  US11452250        True                              []   \n",
       "6606213  US11452251        True                              []   \n",
       "\n",
       "                       US_utility_citations_not_in_dataset US_other_citations  \\\n",
       "0                                 [US02379430, US02782422]                 []   \n",
       "1        [US00933921, US01549144, US01609246, US0166708...                 []   \n",
       "2        [US01240201, US02817855, US03093839, US0312576...                 []   \n",
       "3                     [US02546396, US03064370, US03601076]                 []   \n",
       "4                     [US00914377, US02971278, US03311937]                 []   \n",
       "...                                                    ...                ...   \n",
       "6606209                                                 []                 []   \n",
       "6606210                                                 []                 []   \n",
       "6606211                                                 []                 []   \n",
       "6606212                                                 []                 []   \n",
       "6606213                                                 []                 []   \n",
       "\n",
       "        other_citations correct_IPC_main_class  \\\n",
       "0                    []       (A, 41, D, 1900)   \n",
       "1                    []        (A, 47, D, 701)   \n",
       "2                    []        (A, 47, D, 702)   \n",
       "3                    []        (B, 63, B, 708)   \n",
       "4                    []        (A, 43, D, 900)   \n",
       "...                 ...                    ...   \n",
       "6606209              []     (H, 01, L, 21/673)   \n",
       "6606210              []      (H, 05, K, 13/02)   \n",
       "6606211              []      (H, 05, K, 13/04)   \n",
       "6606212              []      (H, 05, K, 13/08)   \n",
       "6606213              []      (B, 23, P, 19/00)   \n",
       "\n",
       "                               correct_IPC_further_classes  \n",
       "0                                                       []  \n",
       "1                                                       []  \n",
       "2                                       [(A, 47, C, 2100)]  \n",
       "3                                                       []  \n",
       "4                                                       []  \n",
       "...                                                    ...  \n",
       "6606209                                [(H, 05, K, 13/00)]  \n",
       "6606210  [(H, 05, K, 13/04), (B, 25, J, 15/06), (G, 05,...  \n",
       "6606211  [(B, 29, C, 48/08), (B, 29, C, 48/00), (B, 65,...  \n",
       "6606212  [(G, 06, T, 7/11), (G, 01, N, 21/956), (G, 06,...  \n",
       "6606213             [(H, 05, K, 13/08), (H, 05, K, 13/04)]  \n",
       "\n",
       "[6606214 rows x 23 columns]"
      ]
     },
     "execution_count": 118,
     "metadata": {},
     "output_type": "execute_result"
    }
   ],
   "source": [
    "utility_time_ordered_all_patents_df_no_nan"
   ]
  },
  {
   "cell_type": "markdown",
   "id": "0fa09993-4103-4fd4-99a5-e10cbca8662d",
   "metadata": {},
   "source": [
    "## Saving utility_df.pkl.gz"
   ]
  },
  {
   "cell_type": "code",
   "execution_count": 121,
   "id": "b9ac22d0-2dfa-4c0a-8d19-752069a0d76c",
   "metadata": {},
   "outputs": [],
   "source": [
    "utility_time_ordered_all_patents_df_no_nan.to_pickle(os.path.join(filtered_data_folder, 'utility_df.pkl.gz'))"
   ]
  },
  {
   "cell_type": "markdown",
   "id": "792b3e09-0b53-4ca0-ae16-988249f393c6",
   "metadata": {},
   "source": [
    "## Saving mapping of old uid and correct one of the patents considered (utilities)"
   ]
  },
  {
   "cell_type": "code",
   "execution_count": 122,
   "id": "75d5e8fb-9f58-446e-b887-3fae305f7d29",
   "metadata": {},
   "outputs": [],
   "source": [
    "uids = list(utility_time_ordered_all_patents_df_no_nan.uid)\n",
    "correct_uids = list(utility_time_ordered_all_patents_df_no_nan.correct_uid)"
   ]
  },
  {
   "cell_type": "code",
   "execution_count": 123,
   "id": "7b845a6b-5939-4dac-ba8e-3cfe704f19c9",
   "metadata": {},
   "outputs": [],
   "source": [
    "mapping_old_to_correct_uid = {uids[i]: correct_uids[i] for i in range(len(uids))}"
   ]
  },
  {
   "cell_type": "code",
   "execution_count": 124,
   "id": "1b60759e-9c6e-4ddd-8e71-4f9652b78cdf",
   "metadata": {},
   "outputs": [
    {
     "data": {
      "text/plain": [
       "(6588222, 6606214)"
      ]
     },
     "execution_count": 124,
     "metadata": {},
     "output_type": "execute_result"
    }
   ],
   "source": [
    "len(mapping_old_to_correct_uid), len(uids)"
   ]
  },
  {
   "cell_type": "code",
   "execution_count": 125,
   "id": "5111046c-aa09-4052-903b-00030c1d25c9",
   "metadata": {},
   "outputs": [
    {
     "name": "stdout",
     "output_type": "stream",
     "text": [
      "3930271 US03930271\n",
      "3930272 US03930272\n",
      "3930273 US03930273\n",
      "3930274 US03930274\n",
      "3930275 US03930275\n",
      "3930276 US03930276\n",
      "3930277 US03930277\n",
      "3930278 US03930278\n",
      "3930279 US03930279\n",
      "3930280 US03930280\n"
     ]
    }
   ],
   "source": [
    "for k, v in list(mapping_old_to_correct_uid.items())[:10]:\n",
    "    print(k, v)"
   ]
  },
  {
   "cell_type": "code",
   "execution_count": 128,
   "id": "6d672f33-fc43-4a01-bddf-f26ae4b2b425",
   "metadata": {},
   "outputs": [],
   "source": [
    "with gzip.open(os.path.join(filtered_data_folder, 'mapping_old_to_correct_uid.pkl.gz'), 'wb') as fp:\n",
    "    pickle.dump(mapping_old_to_correct_uid, fp)"
   ]
  }
 ],
 "metadata": {
  "kernelspec": {
   "display_name": "Python 3 (ipykernel)",
   "language": "python",
   "name": "python3"
  },
  "language_info": {
   "codemirror_mode": {
    "name": "ipython",
    "version": 3
   },
   "file_extension": ".py",
   "mimetype": "text/x-python",
   "name": "python",
   "nbconvert_exporter": "python",
   "pygments_lexer": "ipython3",
   "version": "3.10.4"
  },
  "toc-autonumbering": true
 },
 "nbformat": 4,
 "nbformat_minor": 5
}
